{
 "cells": [
  {
   "cell_type": "code",
   "execution_count": 1,
   "metadata": {},
   "outputs": [],
   "source": [
    "# Install the package\n",
    "!pip install easy_es"
   ]
  },
  {
   "cell_type": "code",
   "execution_count": 2,
   "metadata": {},
   "outputs": [],
   "source": [
    "import pandas as pd\n",
    "\n",
    "from easy_es import EventStudy, plot_mean_car, calculate_car_stats, plot_joint_mean_car"
   ]
  },
  {
   "cell_type": "markdown",
   "metadata": {},
   "source": [
    "### Run single event study"
   ]
  },
  {
   "cell_type": "code",
   "execution_count": 3,
   "metadata": {},
   "outputs": [],
   "source": [
    "# Load test events\n",
    "events_df = pd.read_csv('https://raw.githubusercontent.com/Darenar/easy-event-study/main/tests/test_one/input_events.csv')"
   ]
  },
  {
   "cell_type": "code",
   "execution_count": 4,
   "metadata": {},
   "outputs": [
    {
     "name": "stderr",
     "output_type": "stream",
     "text": [
      "100%|██████████| 33/33 [00:17<00:00,  1.85it/s]\n"
     ]
    }
   ],
   "source": [
    "# Initialize EventStudy class object\n",
    "event_study = EventStudy(\n",
    "    estimation_days=255,\n",
    "    gap_days=50,\n",
    "    window_after=10,\n",
    "    window_before=10,\n",
    "    min_estimation_days=100,\n",
    "    estimator_type='ff5',\n",
    "    n_cores=1 # Change for multiprocessing\n",
    ")\n",
    "\n",
    "# Run the study\n",
    "results_df = event_study.run_study(events_df)"
   ]
  },
  {
   "cell_type": "code",
   "execution_count": 5,
   "metadata": {},
   "outputs": [
    {
     "data": {
      "text/html": [
       "<div>\n",
       "<style scoped>\n",
       "    .dataframe tbody tr th:only-of-type {\n",
       "        vertical-align: middle;\n",
       "    }\n",
       "\n",
       "    .dataframe tbody tr th {\n",
       "        vertical-align: top;\n",
       "    }\n",
       "\n",
       "    .dataframe thead th {\n",
       "        text-align: right;\n",
       "    }\n",
       "</style>\n",
       "<table border=\"1\" class=\"dataframe\">\n",
       "  <thead>\n",
       "    <tr style=\"text-align: right;\">\n",
       "      <th></th>\n",
       "      <th>mean</th>\n",
       "      <th>median</th>\n",
       "      <th>sd</th>\n",
       "      <th>t_stat</th>\n",
       "      <th>p_value</th>\n",
       "      <th>upper_ci</th>\n",
       "      <th>lower_ci</th>\n",
       "    </tr>\n",
       "    <tr>\n",
       "      <th>Offset</th>\n",
       "      <th></th>\n",
       "      <th></th>\n",
       "      <th></th>\n",
       "      <th></th>\n",
       "      <th></th>\n",
       "      <th></th>\n",
       "      <th></th>\n",
       "    </tr>\n",
       "  </thead>\n",
       "  <tbody>\n",
       "    <tr>\n",
       "      <th>-10</th>\n",
       "      <td>-0.005119</td>\n",
       "      <td>-0.003075</td>\n",
       "      <td>0.002696</td>\n",
       "      <td>-1.898441</td>\n",
       "      <td>0.058</td>\n",
       "      <td>0.000166</td>\n",
       "      <td>-0.010403</td>\n",
       "    </tr>\n",
       "    <tr>\n",
       "      <th>-9</th>\n",
       "      <td>-0.006913</td>\n",
       "      <td>-0.005001</td>\n",
       "      <td>0.003902</td>\n",
       "      <td>-1.771815</td>\n",
       "      <td>0.076</td>\n",
       "      <td>0.000734</td>\n",
       "      <td>-0.014561</td>\n",
       "    </tr>\n",
       "    <tr>\n",
       "      <th>-8</th>\n",
       "      <td>-0.008918</td>\n",
       "      <td>-0.003972</td>\n",
       "      <td>0.006029</td>\n",
       "      <td>-1.479152</td>\n",
       "      <td>0.139</td>\n",
       "      <td>0.002899</td>\n",
       "      <td>-0.020736</td>\n",
       "    </tr>\n",
       "    <tr>\n",
       "      <th>-7</th>\n",
       "      <td>-0.009972</td>\n",
       "      <td>-0.004459</td>\n",
       "      <td>0.006938</td>\n",
       "      <td>-1.437230</td>\n",
       "      <td>0.151</td>\n",
       "      <td>0.003627</td>\n",
       "      <td>-0.023571</td>\n",
       "    </tr>\n",
       "    <tr>\n",
       "      <th>-6</th>\n",
       "      <td>-0.014504</td>\n",
       "      <td>-0.002461</td>\n",
       "      <td>0.007390</td>\n",
       "      <td>-1.962646</td>\n",
       "      <td>0.050</td>\n",
       "      <td>-0.000020</td>\n",
       "      <td>-0.028989</td>\n",
       "    </tr>\n",
       "    <tr>\n",
       "      <th>-5</th>\n",
       "      <td>-0.008355</td>\n",
       "      <td>0.002768</td>\n",
       "      <td>0.008282</td>\n",
       "      <td>-1.008806</td>\n",
       "      <td>0.313</td>\n",
       "      <td>0.007877</td>\n",
       "      <td>-0.024587</td>\n",
       "    </tr>\n",
       "    <tr>\n",
       "      <th>-4</th>\n",
       "      <td>-0.008015</td>\n",
       "      <td>0.002879</td>\n",
       "      <td>0.009823</td>\n",
       "      <td>-0.815918</td>\n",
       "      <td>0.415</td>\n",
       "      <td>0.011238</td>\n",
       "      <td>-0.027267</td>\n",
       "    </tr>\n",
       "    <tr>\n",
       "      <th>-3</th>\n",
       "      <td>-0.008249</td>\n",
       "      <td>0.003756</td>\n",
       "      <td>0.010280</td>\n",
       "      <td>-0.802498</td>\n",
       "      <td>0.422</td>\n",
       "      <td>0.011898</td>\n",
       "      <td>-0.028397</td>\n",
       "    </tr>\n",
       "    <tr>\n",
       "      <th>-2</th>\n",
       "      <td>-0.005908</td>\n",
       "      <td>-0.001566</td>\n",
       "      <td>0.010336</td>\n",
       "      <td>-0.571537</td>\n",
       "      <td>0.568</td>\n",
       "      <td>0.014351</td>\n",
       "      <td>-0.026167</td>\n",
       "    </tr>\n",
       "    <tr>\n",
       "      <th>-1</th>\n",
       "      <td>-0.005857</td>\n",
       "      <td>0.000842</td>\n",
       "      <td>0.010437</td>\n",
       "      <td>-0.561195</td>\n",
       "      <td>0.575</td>\n",
       "      <td>0.014599</td>\n",
       "      <td>-0.026314</td>\n",
       "    </tr>\n",
       "    <tr>\n",
       "      <th>0</th>\n",
       "      <td>0.199683</td>\n",
       "      <td>0.182320</td>\n",
       "      <td>0.016413</td>\n",
       "      <td>12.166385</td>\n",
       "      <td>0.000</td>\n",
       "      <td>0.231852</td>\n",
       "      <td>0.167515</td>\n",
       "    </tr>\n",
       "    <tr>\n",
       "      <th>1</th>\n",
       "      <td>0.195113</td>\n",
       "      <td>0.184524</td>\n",
       "      <td>0.014377</td>\n",
       "      <td>13.570820</td>\n",
       "      <td>0.000</td>\n",
       "      <td>0.223292</td>\n",
       "      <td>0.166934</td>\n",
       "    </tr>\n",
       "    <tr>\n",
       "      <th>2</th>\n",
       "      <td>0.193129</td>\n",
       "      <td>0.180037</td>\n",
       "      <td>0.015790</td>\n",
       "      <td>12.230931</td>\n",
       "      <td>0.000</td>\n",
       "      <td>0.224077</td>\n",
       "      <td>0.162181</td>\n",
       "    </tr>\n",
       "    <tr>\n",
       "      <th>3</th>\n",
       "      <td>0.195889</td>\n",
       "      <td>0.181100</td>\n",
       "      <td>0.015707</td>\n",
       "      <td>12.471707</td>\n",
       "      <td>0.000</td>\n",
       "      <td>0.226674</td>\n",
       "      <td>0.165105</td>\n",
       "    </tr>\n",
       "    <tr>\n",
       "      <th>4</th>\n",
       "      <td>0.195916</td>\n",
       "      <td>0.177109</td>\n",
       "      <td>0.015143</td>\n",
       "      <td>12.937641</td>\n",
       "      <td>0.000</td>\n",
       "      <td>0.225595</td>\n",
       "      <td>0.166236</td>\n",
       "    </tr>\n",
       "    <tr>\n",
       "      <th>5</th>\n",
       "      <td>0.195478</td>\n",
       "      <td>0.173240</td>\n",
       "      <td>0.015248</td>\n",
       "      <td>12.819776</td>\n",
       "      <td>0.000</td>\n",
       "      <td>0.225364</td>\n",
       "      <td>0.165592</td>\n",
       "    </tr>\n",
       "    <tr>\n",
       "      <th>6</th>\n",
       "      <td>0.198312</td>\n",
       "      <td>0.174393</td>\n",
       "      <td>0.014407</td>\n",
       "      <td>13.764772</td>\n",
       "      <td>0.000</td>\n",
       "      <td>0.226549</td>\n",
       "      <td>0.170074</td>\n",
       "    </tr>\n",
       "    <tr>\n",
       "      <th>7</th>\n",
       "      <td>0.197357</td>\n",
       "      <td>0.174935</td>\n",
       "      <td>0.014842</td>\n",
       "      <td>13.297295</td>\n",
       "      <td>0.000</td>\n",
       "      <td>0.226446</td>\n",
       "      <td>0.168267</td>\n",
       "    </tr>\n",
       "    <tr>\n",
       "      <th>8</th>\n",
       "      <td>0.196842</td>\n",
       "      <td>0.176545</td>\n",
       "      <td>0.015074</td>\n",
       "      <td>13.058194</td>\n",
       "      <td>0.000</td>\n",
       "      <td>0.226387</td>\n",
       "      <td>0.167297</td>\n",
       "    </tr>\n",
       "    <tr>\n",
       "      <th>9</th>\n",
       "      <td>0.196487</td>\n",
       "      <td>0.191663</td>\n",
       "      <td>0.015618</td>\n",
       "      <td>12.580380</td>\n",
       "      <td>0.000</td>\n",
       "      <td>0.227098</td>\n",
       "      <td>0.165875</td>\n",
       "    </tr>\n",
       "    <tr>\n",
       "      <th>10</th>\n",
       "      <td>0.194380</td>\n",
       "      <td>0.188896</td>\n",
       "      <td>0.015924</td>\n",
       "      <td>12.206765</td>\n",
       "      <td>0.000</td>\n",
       "      <td>0.225591</td>\n",
       "      <td>0.163170</td>\n",
       "    </tr>\n",
       "  </tbody>\n",
       "</table>\n",
       "</div>"
      ],
      "text/plain": [
       "            mean    median        sd     t_stat  p_value  upper_ci  lower_ci\n",
       "Offset                                                                      \n",
       "-10    -0.005119 -0.003075  0.002696  -1.898441    0.058  0.000166 -0.010403\n",
       "-9     -0.006913 -0.005001  0.003902  -1.771815    0.076  0.000734 -0.014561\n",
       "-8     -0.008918 -0.003972  0.006029  -1.479152    0.139  0.002899 -0.020736\n",
       "-7     -0.009972 -0.004459  0.006938  -1.437230    0.151  0.003627 -0.023571\n",
       "-6     -0.014504 -0.002461  0.007390  -1.962646    0.050 -0.000020 -0.028989\n",
       "-5     -0.008355  0.002768  0.008282  -1.008806    0.313  0.007877 -0.024587\n",
       "-4     -0.008015  0.002879  0.009823  -0.815918    0.415  0.011238 -0.027267\n",
       "-3     -0.008249  0.003756  0.010280  -0.802498    0.422  0.011898 -0.028397\n",
       "-2     -0.005908 -0.001566  0.010336  -0.571537    0.568  0.014351 -0.026167\n",
       "-1     -0.005857  0.000842  0.010437  -0.561195    0.575  0.014599 -0.026314\n",
       " 0      0.199683  0.182320  0.016413  12.166385    0.000  0.231852  0.167515\n",
       " 1      0.195113  0.184524  0.014377  13.570820    0.000  0.223292  0.166934\n",
       " 2      0.193129  0.180037  0.015790  12.230931    0.000  0.224077  0.162181\n",
       " 3      0.195889  0.181100  0.015707  12.471707    0.000  0.226674  0.165105\n",
       " 4      0.195916  0.177109  0.015143  12.937641    0.000  0.225595  0.166236\n",
       " 5      0.195478  0.173240  0.015248  12.819776    0.000  0.225364  0.165592\n",
       " 6      0.198312  0.174393  0.014407  13.764772    0.000  0.226549  0.170074\n",
       " 7      0.197357  0.174935  0.014842  13.297295    0.000  0.226446  0.168267\n",
       " 8      0.196842  0.176545  0.015074  13.058194    0.000  0.226387  0.167297\n",
       " 9      0.196487  0.191663  0.015618  12.580380    0.000  0.227098  0.165875\n",
       " 10     0.194380  0.188896  0.015924  12.206765    0.000  0.225591  0.163170"
      ]
     },
     "execution_count": 5,
     "metadata": {},
     "output_type": "execute_result"
    }
   ],
   "source": [
    "# Calculate average results in a dataframe format\n",
    "calculate_car_stats(results_df, critical_value=0.95)"
   ]
  },
  {
   "cell_type": "code",
   "execution_count": 6,
   "metadata": {},
   "outputs": [
    {
     "data": {
      "application/vnd.plotly.v1+json": {
       "config": {
        "plotlyServerURL": "https://plot.ly"
       },
       "data": [
        {
         "line": {
          "color": "rgb(0, 0, 255)"
         },
         "mode": "lines",
         "name": "Mean",
         "showlegend": true,
         "type": "scatter",
         "x": [
          -10,
          -9,
          -8,
          -7,
          -6,
          -5,
          -4,
          -3,
          -2,
          -1,
          0,
          1,
          2,
          3,
          4,
          5,
          6,
          7,
          8,
          9,
          10
         ],
         "y": [
          -0.005118772675553986,
          -0.0069132747226391305,
          -0.008918329600044895,
          -0.009971875815748748,
          -0.014504346273330304,
          -0.00835478515287603,
          -0.008014593931044466,
          -0.0082494737363014,
          -0.005907672779262805,
          -0.005857245473503935,
          0.19968346808166512,
          0.19511313445300357,
          0.19312887353956942,
          0.19588945892833654,
          0.19591550345016595,
          0.19547815133449017,
          0.19831175529746223,
          0.19735671298680682,
          0.19684192159370303,
          0.1964865544658098,
          0.19438038710412994
         ]
        },
        {
         "line": {
          "color": "rgba(0, 0, 255, 0.5)",
          "dash": "dash",
          "width": 1
         },
         "mode": "lines",
         "name": "Mean + 1.64SE",
         "showlegend": true,
         "type": "scatter",
         "x": [
          -10,
          -9,
          -8,
          -7,
          -6,
          -5,
          -4,
          -3,
          -2,
          -1,
          0,
          1,
          2,
          3,
          4,
          5,
          6,
          7,
          8,
          9,
          10
         ],
         "y": [
          -0.0006837493509133279,
          -0.0004953778892050941,
          0.0009990710120978859,
          0.0014405468150660398,
          -0.002348550890180873,
          0.005267660355495526,
          0.008142455843856667,
          0.008659196543110417,
          0.011094314939267599,
          0.011310237680711155,
          0.2266799899953778,
          0.21876185619158856,
          0.21910144416019808,
          0.22172469449833515,
          0.22082362482298956,
          0.22055916173181767,
          0.22200948307101137,
          0.22176941466982072,
          0.22163678644359674,
          0.2221766869420899,
          0.2205730175595993
         ]
        },
        {
         "fill": "tonextx",
         "fillcolor": "rgba(0, 0, 255,0.1)",
         "line": {
          "color": "rgba(0, 0, 255, 0.5)",
          "dash": "dash",
          "width": 1
         },
         "mode": "lines",
         "name": "ShadedArea",
         "showlegend": false,
         "type": "scatter",
         "x": [
          -10,
          -9,
          -8,
          -7,
          -6,
          -5,
          -4,
          -3,
          -2,
          -1,
          0,
          1,
          2,
          3,
          4,
          5,
          6,
          7,
          8,
          9,
          10
         ],
         "y": [
          -0.009553796000194643,
          -0.013331171556073166,
          -0.018835730212187676,
          -0.021384298446563536,
          -0.026660141656479737,
          -0.021977230661247585,
          -0.0241716437059456,
          -0.025158144015713216,
          -0.02290966049779321,
          -0.023024728627719024,
          0.17268694616795244,
          0.1714644127144186,
          0.16715630291894076,
          0.17005422335833792,
          0.17100738207734234,
          0.17039714093716268,
          0.17461402752391308,
          0.17294401130379292,
          0.17204705674380932,
          0.17079642198952968,
          0.1681877566486606
         ]
        },
        {
         "line": {
          "color": "rgba(0, 0, 255, 0.5)",
          "dash": "dash",
          "width": 1
         },
         "mode": "lines",
         "name": "Mean - 1.64SE",
         "showlegend": true,
         "type": "scatter",
         "x": [
          -10,
          -9,
          -8,
          -7,
          -6,
          -5,
          -4,
          -3,
          -2,
          -1,
          0,
          1,
          2,
          3,
          4,
          5,
          6,
          7,
          8,
          9,
          10
         ],
         "y": [
          -0.009553796000194643,
          -0.013331171556073166,
          -0.018835730212187676,
          -0.021384298446563536,
          -0.026660141656479737,
          -0.021977230661247585,
          -0.0241716437059456,
          -0.025158144015713216,
          -0.02290966049779321,
          -0.023024728627719024,
          0.17268694616795244,
          0.1714644127144186,
          0.16715630291894076,
          0.17005422335833792,
          0.17100738207734234,
          0.17039714093716268,
          0.17461402752391308,
          0.17294401130379292,
          0.17204705674380932,
          0.17079642198952968,
          0.1681877566486606
         ]
        }
       ],
       "layout": {
        "legend": {
         "orientation": "h",
         "x": 0.5,
         "xanchor": "center",
         "y": -0.2
        },
        "shapes": [
         {
          "line": {
           "color": "rgba(0, 0,0, 0.5)",
           "width": 1
          },
          "type": "line",
          "x0": 0,
          "x1": 0,
          "xref": "x",
          "y0": 0,
          "y1": 1,
          "yref": "y domain"
         },
         {
          "line": {
           "color": "rgba(0, 0,0, 0.5)",
           "width": 1
          },
          "type": "line",
          "x0": 0,
          "x1": 1,
          "xref": "x domain",
          "y0": 0,
          "y1": 0,
          "yref": "y"
         }
        ],
        "template": {
         "data": {
          "bar": [
           {
            "error_x": {
             "color": "#2a3f5f"
            },
            "error_y": {
             "color": "#2a3f5f"
            },
            "marker": {
             "line": {
              "color": "white",
              "width": 0.5
             },
             "pattern": {
              "fillmode": "overlay",
              "size": 10,
              "solidity": 0.2
             }
            },
            "type": "bar"
           }
          ],
          "barpolar": [
           {
            "marker": {
             "line": {
              "color": "white",
              "width": 0.5
             },
             "pattern": {
              "fillmode": "overlay",
              "size": 10,
              "solidity": 0.2
             }
            },
            "type": "barpolar"
           }
          ],
          "carpet": [
           {
            "aaxis": {
             "endlinecolor": "#2a3f5f",
             "gridcolor": "#C8D4E3",
             "linecolor": "#C8D4E3",
             "minorgridcolor": "#C8D4E3",
             "startlinecolor": "#2a3f5f"
            },
            "baxis": {
             "endlinecolor": "#2a3f5f",
             "gridcolor": "#C8D4E3",
             "linecolor": "#C8D4E3",
             "minorgridcolor": "#C8D4E3",
             "startlinecolor": "#2a3f5f"
            },
            "type": "carpet"
           }
          ],
          "choropleth": [
           {
            "colorbar": {
             "outlinewidth": 0,
             "ticks": ""
            },
            "type": "choropleth"
           }
          ],
          "contour": [
           {
            "colorbar": {
             "outlinewidth": 0,
             "ticks": ""
            },
            "colorscale": [
             [
              0,
              "#0d0887"
             ],
             [
              0.1111111111111111,
              "#46039f"
             ],
             [
              0.2222222222222222,
              "#7201a8"
             ],
             [
              0.3333333333333333,
              "#9c179e"
             ],
             [
              0.4444444444444444,
              "#bd3786"
             ],
             [
              0.5555555555555556,
              "#d8576b"
             ],
             [
              0.6666666666666666,
              "#ed7953"
             ],
             [
              0.7777777777777778,
              "#fb9f3a"
             ],
             [
              0.8888888888888888,
              "#fdca26"
             ],
             [
              1,
              "#f0f921"
             ]
            ],
            "type": "contour"
           }
          ],
          "contourcarpet": [
           {
            "colorbar": {
             "outlinewidth": 0,
             "ticks": ""
            },
            "type": "contourcarpet"
           }
          ],
          "heatmap": [
           {
            "colorbar": {
             "outlinewidth": 0,
             "ticks": ""
            },
            "colorscale": [
             [
              0,
              "#0d0887"
             ],
             [
              0.1111111111111111,
              "#46039f"
             ],
             [
              0.2222222222222222,
              "#7201a8"
             ],
             [
              0.3333333333333333,
              "#9c179e"
             ],
             [
              0.4444444444444444,
              "#bd3786"
             ],
             [
              0.5555555555555556,
              "#d8576b"
             ],
             [
              0.6666666666666666,
              "#ed7953"
             ],
             [
              0.7777777777777778,
              "#fb9f3a"
             ],
             [
              0.8888888888888888,
              "#fdca26"
             ],
             [
              1,
              "#f0f921"
             ]
            ],
            "type": "heatmap"
           }
          ],
          "heatmapgl": [
           {
            "colorbar": {
             "outlinewidth": 0,
             "ticks": ""
            },
            "colorscale": [
             [
              0,
              "#0d0887"
             ],
             [
              0.1111111111111111,
              "#46039f"
             ],
             [
              0.2222222222222222,
              "#7201a8"
             ],
             [
              0.3333333333333333,
              "#9c179e"
             ],
             [
              0.4444444444444444,
              "#bd3786"
             ],
             [
              0.5555555555555556,
              "#d8576b"
             ],
             [
              0.6666666666666666,
              "#ed7953"
             ],
             [
              0.7777777777777778,
              "#fb9f3a"
             ],
             [
              0.8888888888888888,
              "#fdca26"
             ],
             [
              1,
              "#f0f921"
             ]
            ],
            "type": "heatmapgl"
           }
          ],
          "histogram": [
           {
            "marker": {
             "pattern": {
              "fillmode": "overlay",
              "size": 10,
              "solidity": 0.2
             }
            },
            "type": "histogram"
           }
          ],
          "histogram2d": [
           {
            "colorbar": {
             "outlinewidth": 0,
             "ticks": ""
            },
            "colorscale": [
             [
              0,
              "#0d0887"
             ],
             [
              0.1111111111111111,
              "#46039f"
             ],
             [
              0.2222222222222222,
              "#7201a8"
             ],
             [
              0.3333333333333333,
              "#9c179e"
             ],
             [
              0.4444444444444444,
              "#bd3786"
             ],
             [
              0.5555555555555556,
              "#d8576b"
             ],
             [
              0.6666666666666666,
              "#ed7953"
             ],
             [
              0.7777777777777778,
              "#fb9f3a"
             ],
             [
              0.8888888888888888,
              "#fdca26"
             ],
             [
              1,
              "#f0f921"
             ]
            ],
            "type": "histogram2d"
           }
          ],
          "histogram2dcontour": [
           {
            "colorbar": {
             "outlinewidth": 0,
             "ticks": ""
            },
            "colorscale": [
             [
              0,
              "#0d0887"
             ],
             [
              0.1111111111111111,
              "#46039f"
             ],
             [
              0.2222222222222222,
              "#7201a8"
             ],
             [
              0.3333333333333333,
              "#9c179e"
             ],
             [
              0.4444444444444444,
              "#bd3786"
             ],
             [
              0.5555555555555556,
              "#d8576b"
             ],
             [
              0.6666666666666666,
              "#ed7953"
             ],
             [
              0.7777777777777778,
              "#fb9f3a"
             ],
             [
              0.8888888888888888,
              "#fdca26"
             ],
             [
              1,
              "#f0f921"
             ]
            ],
            "type": "histogram2dcontour"
           }
          ],
          "mesh3d": [
           {
            "colorbar": {
             "outlinewidth": 0,
             "ticks": ""
            },
            "type": "mesh3d"
           }
          ],
          "parcoords": [
           {
            "line": {
             "colorbar": {
              "outlinewidth": 0,
              "ticks": ""
             }
            },
            "type": "parcoords"
           }
          ],
          "pie": [
           {
            "automargin": true,
            "type": "pie"
           }
          ],
          "scatter": [
           {
            "fillpattern": {
             "fillmode": "overlay",
             "size": 10,
             "solidity": 0.2
            },
            "type": "scatter"
           }
          ],
          "scatter3d": [
           {
            "line": {
             "colorbar": {
              "outlinewidth": 0,
              "ticks": ""
             }
            },
            "marker": {
             "colorbar": {
              "outlinewidth": 0,
              "ticks": ""
             }
            },
            "type": "scatter3d"
           }
          ],
          "scattercarpet": [
           {
            "marker": {
             "colorbar": {
              "outlinewidth": 0,
              "ticks": ""
             }
            },
            "type": "scattercarpet"
           }
          ],
          "scattergeo": [
           {
            "marker": {
             "colorbar": {
              "outlinewidth": 0,
              "ticks": ""
             }
            },
            "type": "scattergeo"
           }
          ],
          "scattergl": [
           {
            "marker": {
             "colorbar": {
              "outlinewidth": 0,
              "ticks": ""
             }
            },
            "type": "scattergl"
           }
          ],
          "scattermapbox": [
           {
            "marker": {
             "colorbar": {
              "outlinewidth": 0,
              "ticks": ""
             }
            },
            "type": "scattermapbox"
           }
          ],
          "scatterpolar": [
           {
            "marker": {
             "colorbar": {
              "outlinewidth": 0,
              "ticks": ""
             }
            },
            "type": "scatterpolar"
           }
          ],
          "scatterpolargl": [
           {
            "marker": {
             "colorbar": {
              "outlinewidth": 0,
              "ticks": ""
             }
            },
            "type": "scatterpolargl"
           }
          ],
          "scatterternary": [
           {
            "marker": {
             "colorbar": {
              "outlinewidth": 0,
              "ticks": ""
             }
            },
            "type": "scatterternary"
           }
          ],
          "surface": [
           {
            "colorbar": {
             "outlinewidth": 0,
             "ticks": ""
            },
            "colorscale": [
             [
              0,
              "#0d0887"
             ],
             [
              0.1111111111111111,
              "#46039f"
             ],
             [
              0.2222222222222222,
              "#7201a8"
             ],
             [
              0.3333333333333333,
              "#9c179e"
             ],
             [
              0.4444444444444444,
              "#bd3786"
             ],
             [
              0.5555555555555556,
              "#d8576b"
             ],
             [
              0.6666666666666666,
              "#ed7953"
             ],
             [
              0.7777777777777778,
              "#fb9f3a"
             ],
             [
              0.8888888888888888,
              "#fdca26"
             ],
             [
              1,
              "#f0f921"
             ]
            ],
            "type": "surface"
           }
          ],
          "table": [
           {
            "cells": {
             "fill": {
              "color": "#EBF0F8"
             },
             "line": {
              "color": "white"
             }
            },
            "header": {
             "fill": {
              "color": "#C8D4E3"
             },
             "line": {
              "color": "white"
             }
            },
            "type": "table"
           }
          ]
         },
         "layout": {
          "annotationdefaults": {
           "arrowcolor": "#2a3f5f",
           "arrowhead": 0,
           "arrowwidth": 1
          },
          "autotypenumbers": "strict",
          "coloraxis": {
           "colorbar": {
            "outlinewidth": 0,
            "ticks": ""
           }
          },
          "colorscale": {
           "diverging": [
            [
             0,
             "#8e0152"
            ],
            [
             0.1,
             "#c51b7d"
            ],
            [
             0.2,
             "#de77ae"
            ],
            [
             0.3,
             "#f1b6da"
            ],
            [
             0.4,
             "#fde0ef"
            ],
            [
             0.5,
             "#f7f7f7"
            ],
            [
             0.6,
             "#e6f5d0"
            ],
            [
             0.7,
             "#b8e186"
            ],
            [
             0.8,
             "#7fbc41"
            ],
            [
             0.9,
             "#4d9221"
            ],
            [
             1,
             "#276419"
            ]
           ],
           "sequential": [
            [
             0,
             "#0d0887"
            ],
            [
             0.1111111111111111,
             "#46039f"
            ],
            [
             0.2222222222222222,
             "#7201a8"
            ],
            [
             0.3333333333333333,
             "#9c179e"
            ],
            [
             0.4444444444444444,
             "#bd3786"
            ],
            [
             0.5555555555555556,
             "#d8576b"
            ],
            [
             0.6666666666666666,
             "#ed7953"
            ],
            [
             0.7777777777777778,
             "#fb9f3a"
            ],
            [
             0.8888888888888888,
             "#fdca26"
            ],
            [
             1,
             "#f0f921"
            ]
           ],
           "sequentialminus": [
            [
             0,
             "#0d0887"
            ],
            [
             0.1111111111111111,
             "#46039f"
            ],
            [
             0.2222222222222222,
             "#7201a8"
            ],
            [
             0.3333333333333333,
             "#9c179e"
            ],
            [
             0.4444444444444444,
             "#bd3786"
            ],
            [
             0.5555555555555556,
             "#d8576b"
            ],
            [
             0.6666666666666666,
             "#ed7953"
            ],
            [
             0.7777777777777778,
             "#fb9f3a"
            ],
            [
             0.8888888888888888,
             "#fdca26"
            ],
            [
             1,
             "#f0f921"
            ]
           ]
          },
          "colorway": [
           "#636efa",
           "#EF553B",
           "#00cc96",
           "#ab63fa",
           "#FFA15A",
           "#19d3f3",
           "#FF6692",
           "#B6E880",
           "#FF97FF",
           "#FECB52"
          ],
          "font": {
           "color": "#2a3f5f"
          },
          "geo": {
           "bgcolor": "white",
           "lakecolor": "white",
           "landcolor": "white",
           "showlakes": true,
           "showland": true,
           "subunitcolor": "#C8D4E3"
          },
          "hoverlabel": {
           "align": "left"
          },
          "hovermode": "closest",
          "mapbox": {
           "style": "light"
          },
          "paper_bgcolor": "white",
          "plot_bgcolor": "white",
          "polar": {
           "angularaxis": {
            "gridcolor": "#EBF0F8",
            "linecolor": "#EBF0F8",
            "ticks": ""
           },
           "bgcolor": "white",
           "radialaxis": {
            "gridcolor": "#EBF0F8",
            "linecolor": "#EBF0F8",
            "ticks": ""
           }
          },
          "scene": {
           "xaxis": {
            "backgroundcolor": "white",
            "gridcolor": "#DFE8F3",
            "gridwidth": 2,
            "linecolor": "#EBF0F8",
            "showbackground": true,
            "ticks": "",
            "zerolinecolor": "#EBF0F8"
           },
           "yaxis": {
            "backgroundcolor": "white",
            "gridcolor": "#DFE8F3",
            "gridwidth": 2,
            "linecolor": "#EBF0F8",
            "showbackground": true,
            "ticks": "",
            "zerolinecolor": "#EBF0F8"
           },
           "zaxis": {
            "backgroundcolor": "white",
            "gridcolor": "#DFE8F3",
            "gridwidth": 2,
            "linecolor": "#EBF0F8",
            "showbackground": true,
            "ticks": "",
            "zerolinecolor": "#EBF0F8"
           }
          },
          "shapedefaults": {
           "line": {
            "color": "#2a3f5f"
           }
          },
          "ternary": {
           "aaxis": {
            "gridcolor": "#DFE8F3",
            "linecolor": "#A2B1C6",
            "ticks": ""
           },
           "baxis": {
            "gridcolor": "#DFE8F3",
            "linecolor": "#A2B1C6",
            "ticks": ""
           },
           "bgcolor": "white",
           "caxis": {
            "gridcolor": "#DFE8F3",
            "linecolor": "#A2B1C6",
            "ticks": ""
           }
          },
          "title": {
           "x": 0.05
          },
          "xaxis": {
           "automargin": true,
           "gridcolor": "#EBF0F8",
           "linecolor": "#EBF0F8",
           "ticks": "",
           "title": {
            "standoff": 15
           },
           "zerolinecolor": "#EBF0F8",
           "zerolinewidth": 2
          },
          "yaxis": {
           "automargin": true,
           "gridcolor": "#EBF0F8",
           "linecolor": "#EBF0F8",
           "ticks": "",
           "title": {
            "standoff": 15
           },
           "zerolinecolor": "#EBF0F8",
           "zerolinewidth": 2
          }
         }
        },
        "title": {
         "text": "<b>Cumulitative Abnormal Return: Mean & 90% Confidence Limits</b><br><i>Based on 48 non-missing events"
        },
        "xaxis": {
         "title": {
          "text": "Day Relative to Event"
         }
        },
        "yaxis": {
         "tickformat": ",.1%",
         "title": {
          "text": "Return"
         }
        }
       }
      }
     },
     "metadata": {},
     "output_type": "display_data"
    }
   ],
   "source": [
    "# Plot graph with the results\n",
    "plot_mean_car(results_df, critical_value=0.9)"
   ]
  },
  {
   "cell_type": "markdown",
   "metadata": {},
   "source": [
    "### Pre-loading returns data"
   ]
  },
  {
   "cell_type": "code",
   "execution_count": 7,
   "metadata": {},
   "outputs": [
    {
     "name": "stderr",
     "output_type": "stream",
     "text": [
      "100%|██████████| 33/33 [00:18<00:00,  1.79it/s]\n"
     ]
    }
   ],
   "source": [
    "### One can explicitely load the returns data and to dump into a CSV file \n",
    "event_study.add_returns(\n",
    "    list_of_tickers=events_df['ticker'].unique(),\n",
    "    min_date=events_df['event_date'].min(),\n",
    "    max_date=events_df['event_date'].max()\n",
    ")\n",
    "event_study.returns_df.to_csv('returns_test_dump.csv', index=False)"
   ]
  },
  {
   "cell_type": "code",
   "execution_count": 8,
   "metadata": {},
   "outputs": [],
   "source": [
    "# Then to reload it and initialize the event-study with pre-loaded returns\n",
    "event_study = EventStudy(\n",
    "    estimation_days=255,\n",
    "    gap_days=50,\n",
    "    window_after=10,\n",
    "    window_before=10,\n",
    "    min_estimation_days=100,\n",
    "    estimator_type='ff5'\n",
    ")\n",
    "event_study.add_returns(ret_df=pd.read_csv('returns_test_dump.csv'))\n",
    "\n",
    "# Run the study\n",
    "results_df = event_study.run_study(events_df)"
   ]
  },
  {
   "cell_type": "markdown",
   "metadata": {},
   "source": [
    "### Plotting two event study results together"
   ]
  },
  {
   "cell_type": "code",
   "execution_count": 9,
   "metadata": {},
   "outputs": [
    {
     "name": "stderr",
     "output_type": "stream",
     "text": [
      "100%|██████████| 33/33 [00:20<00:00,  1.62it/s]\n"
     ]
    }
   ],
   "source": [
    "# Run first event study\n",
    "events_df_one = pd.read_csv('https://raw.githubusercontent.com/Darenar/easy-event-study/main/tests/test_one/input_events.csv')\n",
    "event_study_one = EventStudy(\n",
    "    estimation_days=255,\n",
    "    gap_days=50,\n",
    "    window_after=10,\n",
    "    window_before=10,\n",
    "    min_estimation_days=100,\n",
    "    estimator_type='ff5'\n",
    ")\n",
    "result_one = event_study_one.run_study(events_df_one)"
   ]
  },
  {
   "cell_type": "code",
   "execution_count": 10,
   "metadata": {},
   "outputs": [
    {
     "name": "stderr",
     "output_type": "stream",
     "text": [
      "100%|██████████| 41/41 [00:25<00:00,  1.62it/s]\n"
     ]
    }
   ],
   "source": [
    "# Run second event study\n",
    "events_df_two = pd.read_csv('https://raw.githubusercontent.com/Darenar/easy-event-study/main/tests/test_two/input_events.csv')\n",
    "event_study_two = EventStudy(\n",
    "    estimation_days=255,\n",
    "    gap_days=50,\n",
    "    window_after=10,\n",
    "    window_before=10,\n",
    "    min_estimation_days=100,\n",
    "    estimator_type='ff5'\n",
    "    \n",
    ")\n",
    "result_two = event_study_two.run_study(events_df_two)"
   ]
  },
  {
   "cell_type": "code",
   "execution_count": 11,
   "metadata": {},
   "outputs": [
    {
     "data": {
      "application/vnd.plotly.v1+json": {
       "config": {
        "plotlyServerURL": "https://plot.ly"
       },
       "data": [
        {
         "legendgroup": "group2",
         "legendgrouptitle": {
          "text": "<b>Decrease</b> (49 events)"
         },
         "line": {
          "color": "rgb(0, 153, 0)"
         },
         "mode": "lines",
         "name": "Mean",
         "showlegend": true,
         "type": "scatter",
         "x": [
          -10,
          -9,
          -8,
          -7,
          -6,
          -5,
          -4,
          -3,
          -2,
          -1,
          0,
          1,
          2,
          3,
          4,
          5,
          6,
          7,
          8,
          9,
          10
         ],
         "y": [
          -0.002529749410997301,
          -0.0023523288141630468,
          -0.0005474305788356345,
          -0.0013828365188190942,
          -0.0002742130157426029,
          0.000794492421479541,
          0.001475739554445965,
          0.0034889757550069698,
          0.009047689938072688,
          0.01199032410580493,
          -0.08658422383724892,
          -0.08623056904960968,
          -0.09093618642589127,
          -0.09603532970509895,
          -0.09561622029598375,
          -0.09364285673229034,
          -0.09384654105730413,
          -0.09503186210634161,
          -0.09176442843198557,
          -0.09149631598017817,
          -0.09399715210104517
         ]
        },
        {
         "legendgroup": "group2",
         "legendgrouptitle": {
          "text": "<b>Decrease</b> (49 events)"
         },
         "line": {
          "color": "rgba(0, 153, 0, 0.5)",
          "dash": "dash",
          "width": 1
         },
         "mode": "lines",
         "name": "Mean + 1.96SE",
         "showlegend": true,
         "type": "scatter",
         "x": [
          -10,
          -9,
          -8,
          -7,
          -6,
          -5,
          -4,
          -3,
          -2,
          -1,
          0,
          1,
          2,
          3,
          4,
          5,
          6,
          7,
          8,
          9,
          10
         ],
         "y": [
          0.0026917061214383536,
          0.004428913753802765,
          0.007714274540864288,
          0.008446002872727914,
          0.010481163422491823,
          0.011756198755399877,
          0.012696416081430559,
          0.018475751029330183,
          0.023618945006815044,
          0.027818147734152643,
          -0.06603320418350123,
          -0.06265719691196564,
          -0.0668847388070566,
          -0.07137998073260729,
          -0.07103046834163694,
          -0.06603036223062028,
          -0.06725763828966959,
          -0.06687112521038198,
          -0.06339426864780824,
          -0.0634594190268811,
          -0.06492261267740855
         ]
        },
        {
         "fill": "tonextx",
         "fillcolor": "rgba(0, 153, 0,0.1)",
         "legendgroup": "group2",
         "legendgrouptitle": {
          "text": "<b>Decrease</b> (49 events)"
         },
         "line": {
          "color": "rgba(0, 153, 0, 0.5)",
          "dash": "dash",
          "width": 1
         },
         "mode": "lines",
         "name": "ShadedArea",
         "showlegend": false,
         "type": "scatter",
         "x": [
          -10,
          -9,
          -8,
          -7,
          -6,
          -5,
          -4,
          -3,
          -2,
          -1,
          0,
          1,
          2,
          3,
          4,
          5,
          6,
          7,
          8,
          9,
          10
         ],
         "y": [
          -0.007751204943432955,
          -0.009133571382128858,
          -0.008809135698535557,
          -0.011211675910366101,
          -0.011029589453977027,
          -0.010167213912440794,
          -0.009744936972538629,
          -0.011497799519316244,
          -0.0055235651306696654,
          -0.0038374995225427828,
          -0.10713524349099662,
          -0.10980394118725373,
          -0.11498763404472594,
          -0.12069067867759062,
          -0.12020197225033057,
          -0.12125535123396039,
          -0.12043544382493866,
          -0.12319259900230124,
          -0.1201345882161629,
          -0.11953321293347524,
          -0.1230716915246818
         ]
        },
        {
         "legendgroup": "group2",
         "legendgrouptitle": {
          "text": "<b>Decrease</b> (49 events)"
         },
         "line": {
          "color": "rgba(0, 153, 0, 0.5)",
          "dash": "dash",
          "width": 1
         },
         "mode": "lines",
         "name": "Mean - 1.96SE",
         "showlegend": true,
         "type": "scatter",
         "x": [
          -10,
          -9,
          -8,
          -7,
          -6,
          -5,
          -4,
          -3,
          -2,
          -1,
          0,
          1,
          2,
          3,
          4,
          5,
          6,
          7,
          8,
          9,
          10
         ],
         "y": [
          -0.007751204943432955,
          -0.009133571382128858,
          -0.008809135698535557,
          -0.011211675910366101,
          -0.011029589453977027,
          -0.010167213912440794,
          -0.009744936972538629,
          -0.011497799519316244,
          -0.0055235651306696654,
          -0.0038374995225427828,
          -0.10713524349099662,
          -0.10980394118725373,
          -0.11498763404472594,
          -0.12069067867759062,
          -0.12020197225033057,
          -0.12125535123396039,
          -0.12043544382493866,
          -0.12319259900230124,
          -0.1201345882161629,
          -0.11953321293347524,
          -0.1230716915246818
         ]
        },
        {
         "legendgroup": "group1",
         "legendgrouptitle": {
          "text": "<b>Increase</b> (48 events)"
         },
         "line": {
          "color": "rgb(0, 0, 255)"
         },
         "mode": "lines",
         "name": "Mean",
         "showlegend": true,
         "type": "scatter",
         "x": [
          -10,
          -9,
          -8,
          -7,
          -6,
          -5,
          -4,
          -3,
          -2,
          -1,
          0,
          1,
          2,
          3,
          4,
          5,
          6,
          7,
          8,
          9,
          10
         ],
         "y": [
          -0.005118789497922756,
          -0.006913277993182496,
          -0.008918328138635566,
          -0.009971854487167474,
          -0.014504339490964005,
          -0.008354773387916417,
          -0.00801458286925911,
          -0.00824944836557198,
          -0.005907650156396816,
          -0.005857222302984424,
          0.19968345803390553,
          0.19511313524450088,
          0.1931288692755645,
          0.1958894566724544,
          0.19591552389326253,
          0.1954781625064996,
          0.19831176231239,
          0.19735671592766676,
          0.19684191398486686,
          0.19648654498540707,
          0.1943804137382731
         ]
        },
        {
         "legendgroup": "group1",
         "legendgrouptitle": {
          "text": "<b>Increase</b> (48 events)"
         },
         "line": {
          "color": "rgba(0, 0, 255, 0.5)",
          "dash": "dash",
          "width": 1
         },
         "mode": "lines",
         "name": "Mean + 1.96SE",
         "showlegend": true,
         "type": "scatter",
         "x": [
          -10,
          -9,
          -8,
          -7,
          -6,
          -5,
          -4,
          -3,
          -2,
          -1,
          0,
          1,
          2,
          3,
          4,
          5,
          6,
          7,
          8,
          9,
          10
         ],
         "y": [
          0.00016586617231894533,
          0.0007341228786871008,
          0.002898987868918401,
          0.0036268815897517494,
          -0.000019814984338603625,
          0.007877370905126361,
          0.011237729063275881,
          0.011898475465552198,
          0.014351461333351117,
          0.014599094771411063,
          0.23185179291467425,
          0.22329231857539267,
          0.22407709225717934,
          0.2266740351299014,
          0.22559537522533205,
          0.22536402458144866,
          0.22654934033149773,
          0.2264462391207864,
          0.22638681859354523,
          0.22709822626947143,
          0.22559085639075377
         ]
        },
        {
         "fill": "tonextx",
         "fillcolor": "rgba(0, 0, 255,0.1)",
         "legendgroup": "group1",
         "legendgrouptitle": {
          "text": "<b>Increase</b> (48 events)"
         },
         "line": {
          "color": "rgba(0, 0, 255, 0.5)",
          "dash": "dash",
          "width": 1
         },
         "mode": "lines",
         "name": "ShadedArea",
         "showlegend": false,
         "type": "scatter",
         "x": [
          -10,
          -9,
          -8,
          -7,
          -6,
          -5,
          -4,
          -3,
          -2,
          -1,
          0,
          1,
          2,
          3,
          4,
          5,
          6,
          7,
          8,
          9,
          10
         ],
         "y": [
          -0.010403445168164459,
          -0.014560678865052093,
          -0.020735644146189534,
          -0.023570590564086696,
          -0.028988863997589407,
          -0.024586917680959195,
          -0.027266894801794103,
          -0.028397372196696156,
          -0.02616676164614475,
          -0.026313539377379912,
          0.1675151231531368,
          0.1669339519136091,
          0.16218064629394965,
          0.16510487821500738,
          0.166235672561193,
          0.16559230043155054,
          0.17007418429328228,
          0.16826719273454713,
          0.1672970093761885,
          0.16587486370134272,
          0.16316997108579245
         ]
        },
        {
         "legendgroup": "group1",
         "legendgrouptitle": {
          "text": "<b>Increase</b> (48 events)"
         },
         "line": {
          "color": "rgba(0, 0, 255, 0.5)",
          "dash": "dash",
          "width": 1
         },
         "mode": "lines",
         "name": "Mean - 1.96SE",
         "showlegend": true,
         "type": "scatter",
         "x": [
          -10,
          -9,
          -8,
          -7,
          -6,
          -5,
          -4,
          -3,
          -2,
          -1,
          0,
          1,
          2,
          3,
          4,
          5,
          6,
          7,
          8,
          9,
          10
         ],
         "y": [
          -0.010403445168164459,
          -0.014560678865052093,
          -0.020735644146189534,
          -0.023570590564086696,
          -0.028988863997589407,
          -0.024586917680959195,
          -0.027266894801794103,
          -0.028397372196696156,
          -0.02616676164614475,
          -0.026313539377379912,
          0.1675151231531368,
          0.1669339519136091,
          0.16218064629394965,
          0.16510487821500738,
          0.166235672561193,
          0.16559230043155054,
          0.17007418429328228,
          0.16826719273454713,
          0.1672970093761885,
          0.16587486370134272,
          0.16316997108579245
         ]
        }
       ],
       "layout": {
        "legend": {
         "entrywidth": 200,
         "orientation": "h",
         "tracegroupgap": 50,
         "traceorder": "grouped",
         "x": 0.55,
         "xanchor": "center",
         "y": -0.3
        },
        "shapes": [
         {
          "line": {
           "color": "rgba(0, 0,0, 0.5)",
           "width": 1
          },
          "type": "line",
          "x0": 0,
          "x1": 0,
          "xref": "x",
          "y0": 0,
          "y1": 1,
          "yref": "y domain"
         },
         {
          "line": {
           "color": "rgba(0, 0,0, 0.5)",
           "width": 1
          },
          "type": "line",
          "x0": 0,
          "x1": 1,
          "xref": "x domain",
          "y0": 0,
          "y1": 0,
          "yref": "y"
         }
        ],
        "template": {
         "data": {
          "bar": [
           {
            "error_x": {
             "color": "#2a3f5f"
            },
            "error_y": {
             "color": "#2a3f5f"
            },
            "marker": {
             "line": {
              "color": "white",
              "width": 0.5
             },
             "pattern": {
              "fillmode": "overlay",
              "size": 10,
              "solidity": 0.2
             }
            },
            "type": "bar"
           }
          ],
          "barpolar": [
           {
            "marker": {
             "line": {
              "color": "white",
              "width": 0.5
             },
             "pattern": {
              "fillmode": "overlay",
              "size": 10,
              "solidity": 0.2
             }
            },
            "type": "barpolar"
           }
          ],
          "carpet": [
           {
            "aaxis": {
             "endlinecolor": "#2a3f5f",
             "gridcolor": "#C8D4E3",
             "linecolor": "#C8D4E3",
             "minorgridcolor": "#C8D4E3",
             "startlinecolor": "#2a3f5f"
            },
            "baxis": {
             "endlinecolor": "#2a3f5f",
             "gridcolor": "#C8D4E3",
             "linecolor": "#C8D4E3",
             "minorgridcolor": "#C8D4E3",
             "startlinecolor": "#2a3f5f"
            },
            "type": "carpet"
           }
          ],
          "choropleth": [
           {
            "colorbar": {
             "outlinewidth": 0,
             "ticks": ""
            },
            "type": "choropleth"
           }
          ],
          "contour": [
           {
            "colorbar": {
             "outlinewidth": 0,
             "ticks": ""
            },
            "colorscale": [
             [
              0,
              "#0d0887"
             ],
             [
              0.1111111111111111,
              "#46039f"
             ],
             [
              0.2222222222222222,
              "#7201a8"
             ],
             [
              0.3333333333333333,
              "#9c179e"
             ],
             [
              0.4444444444444444,
              "#bd3786"
             ],
             [
              0.5555555555555556,
              "#d8576b"
             ],
             [
              0.6666666666666666,
              "#ed7953"
             ],
             [
              0.7777777777777778,
              "#fb9f3a"
             ],
             [
              0.8888888888888888,
              "#fdca26"
             ],
             [
              1,
              "#f0f921"
             ]
            ],
            "type": "contour"
           }
          ],
          "contourcarpet": [
           {
            "colorbar": {
             "outlinewidth": 0,
             "ticks": ""
            },
            "type": "contourcarpet"
           }
          ],
          "heatmap": [
           {
            "colorbar": {
             "outlinewidth": 0,
             "ticks": ""
            },
            "colorscale": [
             [
              0,
              "#0d0887"
             ],
             [
              0.1111111111111111,
              "#46039f"
             ],
             [
              0.2222222222222222,
              "#7201a8"
             ],
             [
              0.3333333333333333,
              "#9c179e"
             ],
             [
              0.4444444444444444,
              "#bd3786"
             ],
             [
              0.5555555555555556,
              "#d8576b"
             ],
             [
              0.6666666666666666,
              "#ed7953"
             ],
             [
              0.7777777777777778,
              "#fb9f3a"
             ],
             [
              0.8888888888888888,
              "#fdca26"
             ],
             [
              1,
              "#f0f921"
             ]
            ],
            "type": "heatmap"
           }
          ],
          "heatmapgl": [
           {
            "colorbar": {
             "outlinewidth": 0,
             "ticks": ""
            },
            "colorscale": [
             [
              0,
              "#0d0887"
             ],
             [
              0.1111111111111111,
              "#46039f"
             ],
             [
              0.2222222222222222,
              "#7201a8"
             ],
             [
              0.3333333333333333,
              "#9c179e"
             ],
             [
              0.4444444444444444,
              "#bd3786"
             ],
             [
              0.5555555555555556,
              "#d8576b"
             ],
             [
              0.6666666666666666,
              "#ed7953"
             ],
             [
              0.7777777777777778,
              "#fb9f3a"
             ],
             [
              0.8888888888888888,
              "#fdca26"
             ],
             [
              1,
              "#f0f921"
             ]
            ],
            "type": "heatmapgl"
           }
          ],
          "histogram": [
           {
            "marker": {
             "pattern": {
              "fillmode": "overlay",
              "size": 10,
              "solidity": 0.2
             }
            },
            "type": "histogram"
           }
          ],
          "histogram2d": [
           {
            "colorbar": {
             "outlinewidth": 0,
             "ticks": ""
            },
            "colorscale": [
             [
              0,
              "#0d0887"
             ],
             [
              0.1111111111111111,
              "#46039f"
             ],
             [
              0.2222222222222222,
              "#7201a8"
             ],
             [
              0.3333333333333333,
              "#9c179e"
             ],
             [
              0.4444444444444444,
              "#bd3786"
             ],
             [
              0.5555555555555556,
              "#d8576b"
             ],
             [
              0.6666666666666666,
              "#ed7953"
             ],
             [
              0.7777777777777778,
              "#fb9f3a"
             ],
             [
              0.8888888888888888,
              "#fdca26"
             ],
             [
              1,
              "#f0f921"
             ]
            ],
            "type": "histogram2d"
           }
          ],
          "histogram2dcontour": [
           {
            "colorbar": {
             "outlinewidth": 0,
             "ticks": ""
            },
            "colorscale": [
             [
              0,
              "#0d0887"
             ],
             [
              0.1111111111111111,
              "#46039f"
             ],
             [
              0.2222222222222222,
              "#7201a8"
             ],
             [
              0.3333333333333333,
              "#9c179e"
             ],
             [
              0.4444444444444444,
              "#bd3786"
             ],
             [
              0.5555555555555556,
              "#d8576b"
             ],
             [
              0.6666666666666666,
              "#ed7953"
             ],
             [
              0.7777777777777778,
              "#fb9f3a"
             ],
             [
              0.8888888888888888,
              "#fdca26"
             ],
             [
              1,
              "#f0f921"
             ]
            ],
            "type": "histogram2dcontour"
           }
          ],
          "mesh3d": [
           {
            "colorbar": {
             "outlinewidth": 0,
             "ticks": ""
            },
            "type": "mesh3d"
           }
          ],
          "parcoords": [
           {
            "line": {
             "colorbar": {
              "outlinewidth": 0,
              "ticks": ""
             }
            },
            "type": "parcoords"
           }
          ],
          "pie": [
           {
            "automargin": true,
            "type": "pie"
           }
          ],
          "scatter": [
           {
            "fillpattern": {
             "fillmode": "overlay",
             "size": 10,
             "solidity": 0.2
            },
            "type": "scatter"
           }
          ],
          "scatter3d": [
           {
            "line": {
             "colorbar": {
              "outlinewidth": 0,
              "ticks": ""
             }
            },
            "marker": {
             "colorbar": {
              "outlinewidth": 0,
              "ticks": ""
             }
            },
            "type": "scatter3d"
           }
          ],
          "scattercarpet": [
           {
            "marker": {
             "colorbar": {
              "outlinewidth": 0,
              "ticks": ""
             }
            },
            "type": "scattercarpet"
           }
          ],
          "scattergeo": [
           {
            "marker": {
             "colorbar": {
              "outlinewidth": 0,
              "ticks": ""
             }
            },
            "type": "scattergeo"
           }
          ],
          "scattergl": [
           {
            "marker": {
             "colorbar": {
              "outlinewidth": 0,
              "ticks": ""
             }
            },
            "type": "scattergl"
           }
          ],
          "scattermapbox": [
           {
            "marker": {
             "colorbar": {
              "outlinewidth": 0,
              "ticks": ""
             }
            },
            "type": "scattermapbox"
           }
          ],
          "scatterpolar": [
           {
            "marker": {
             "colorbar": {
              "outlinewidth": 0,
              "ticks": ""
             }
            },
            "type": "scatterpolar"
           }
          ],
          "scatterpolargl": [
           {
            "marker": {
             "colorbar": {
              "outlinewidth": 0,
              "ticks": ""
             }
            },
            "type": "scatterpolargl"
           }
          ],
          "scatterternary": [
           {
            "marker": {
             "colorbar": {
              "outlinewidth": 0,
              "ticks": ""
             }
            },
            "type": "scatterternary"
           }
          ],
          "surface": [
           {
            "colorbar": {
             "outlinewidth": 0,
             "ticks": ""
            },
            "colorscale": [
             [
              0,
              "#0d0887"
             ],
             [
              0.1111111111111111,
              "#46039f"
             ],
             [
              0.2222222222222222,
              "#7201a8"
             ],
             [
              0.3333333333333333,
              "#9c179e"
             ],
             [
              0.4444444444444444,
              "#bd3786"
             ],
             [
              0.5555555555555556,
              "#d8576b"
             ],
             [
              0.6666666666666666,
              "#ed7953"
             ],
             [
              0.7777777777777778,
              "#fb9f3a"
             ],
             [
              0.8888888888888888,
              "#fdca26"
             ],
             [
              1,
              "#f0f921"
             ]
            ],
            "type": "surface"
           }
          ],
          "table": [
           {
            "cells": {
             "fill": {
              "color": "#EBF0F8"
             },
             "line": {
              "color": "white"
             }
            },
            "header": {
             "fill": {
              "color": "#C8D4E3"
             },
             "line": {
              "color": "white"
             }
            },
            "type": "table"
           }
          ]
         },
         "layout": {
          "annotationdefaults": {
           "arrowcolor": "#2a3f5f",
           "arrowhead": 0,
           "arrowwidth": 1
          },
          "autotypenumbers": "strict",
          "coloraxis": {
           "colorbar": {
            "outlinewidth": 0,
            "ticks": ""
           }
          },
          "colorscale": {
           "diverging": [
            [
             0,
             "#8e0152"
            ],
            [
             0.1,
             "#c51b7d"
            ],
            [
             0.2,
             "#de77ae"
            ],
            [
             0.3,
             "#f1b6da"
            ],
            [
             0.4,
             "#fde0ef"
            ],
            [
             0.5,
             "#f7f7f7"
            ],
            [
             0.6,
             "#e6f5d0"
            ],
            [
             0.7,
             "#b8e186"
            ],
            [
             0.8,
             "#7fbc41"
            ],
            [
             0.9,
             "#4d9221"
            ],
            [
             1,
             "#276419"
            ]
           ],
           "sequential": [
            [
             0,
             "#0d0887"
            ],
            [
             0.1111111111111111,
             "#46039f"
            ],
            [
             0.2222222222222222,
             "#7201a8"
            ],
            [
             0.3333333333333333,
             "#9c179e"
            ],
            [
             0.4444444444444444,
             "#bd3786"
            ],
            [
             0.5555555555555556,
             "#d8576b"
            ],
            [
             0.6666666666666666,
             "#ed7953"
            ],
            [
             0.7777777777777778,
             "#fb9f3a"
            ],
            [
             0.8888888888888888,
             "#fdca26"
            ],
            [
             1,
             "#f0f921"
            ]
           ],
           "sequentialminus": [
            [
             0,
             "#0d0887"
            ],
            [
             0.1111111111111111,
             "#46039f"
            ],
            [
             0.2222222222222222,
             "#7201a8"
            ],
            [
             0.3333333333333333,
             "#9c179e"
            ],
            [
             0.4444444444444444,
             "#bd3786"
            ],
            [
             0.5555555555555556,
             "#d8576b"
            ],
            [
             0.6666666666666666,
             "#ed7953"
            ],
            [
             0.7777777777777778,
             "#fb9f3a"
            ],
            [
             0.8888888888888888,
             "#fdca26"
            ],
            [
             1,
             "#f0f921"
            ]
           ]
          },
          "colorway": [
           "#636efa",
           "#EF553B",
           "#00cc96",
           "#ab63fa",
           "#FFA15A",
           "#19d3f3",
           "#FF6692",
           "#B6E880",
           "#FF97FF",
           "#FECB52"
          ],
          "font": {
           "color": "#2a3f5f"
          },
          "geo": {
           "bgcolor": "white",
           "lakecolor": "white",
           "landcolor": "white",
           "showlakes": true,
           "showland": true,
           "subunitcolor": "#C8D4E3"
          },
          "hoverlabel": {
           "align": "left"
          },
          "hovermode": "closest",
          "mapbox": {
           "style": "light"
          },
          "paper_bgcolor": "white",
          "plot_bgcolor": "white",
          "polar": {
           "angularaxis": {
            "gridcolor": "#EBF0F8",
            "linecolor": "#EBF0F8",
            "ticks": ""
           },
           "bgcolor": "white",
           "radialaxis": {
            "gridcolor": "#EBF0F8",
            "linecolor": "#EBF0F8",
            "ticks": ""
           }
          },
          "scene": {
           "xaxis": {
            "backgroundcolor": "white",
            "gridcolor": "#DFE8F3",
            "gridwidth": 2,
            "linecolor": "#EBF0F8",
            "showbackground": true,
            "ticks": "",
            "zerolinecolor": "#EBF0F8"
           },
           "yaxis": {
            "backgroundcolor": "white",
            "gridcolor": "#DFE8F3",
            "gridwidth": 2,
            "linecolor": "#EBF0F8",
            "showbackground": true,
            "ticks": "",
            "zerolinecolor": "#EBF0F8"
           },
           "zaxis": {
            "backgroundcolor": "white",
            "gridcolor": "#DFE8F3",
            "gridwidth": 2,
            "linecolor": "#EBF0F8",
            "showbackground": true,
            "ticks": "",
            "zerolinecolor": "#EBF0F8"
           }
          },
          "shapedefaults": {
           "line": {
            "color": "#2a3f5f"
           }
          },
          "ternary": {
           "aaxis": {
            "gridcolor": "#DFE8F3",
            "linecolor": "#A2B1C6",
            "ticks": ""
           },
           "baxis": {
            "gridcolor": "#DFE8F3",
            "linecolor": "#A2B1C6",
            "ticks": ""
           },
           "bgcolor": "white",
           "caxis": {
            "gridcolor": "#DFE8F3",
            "linecolor": "#A2B1C6",
            "ticks": ""
           }
          },
          "title": {
           "x": 0.05
          },
          "xaxis": {
           "automargin": true,
           "gridcolor": "#EBF0F8",
           "linecolor": "#EBF0F8",
           "ticks": "",
           "title": {
            "standoff": 15
           },
           "zerolinecolor": "#EBF0F8",
           "zerolinewidth": 2
          },
          "yaxis": {
           "automargin": true,
           "gridcolor": "#EBF0F8",
           "linecolor": "#EBF0F8",
           "ticks": "",
           "title": {
            "standoff": 15
           },
           "zerolinecolor": "#EBF0F8",
           "zerolinewidth": 2
          }
         }
        },
        "title": {
         "text": "<b>Cumulitative Abnormal Return: Mean & 95% Confidence Limits</b><br>"
        },
        "xaxis": {
         "title": {
          "text": "Day Relative to Event"
         }
        },
        "yaxis": {
         "tickformat": ",.1%",
         "title": {
          "text": "Return"
         }
        }
       }
      }
     },
     "metadata": {},
     "output_type": "display_data"
    }
   ],
   "source": [
    "plot_joint_mean_car(\n",
    "    result_one, \n",
    "    result_two, \n",
    "    name_one='Increase', \n",
    "    name_two='Decrease')"
   ]
  },
  {
   "cell_type": "markdown",
   "metadata": {},
   "source": [
    "### Bootstrap test"
   ]
  },
  {
   "cell_type": "markdown",
   "metadata": {},
   "source": [
    "The confidence intervals around mean CAR estimates are calculated using the parametric method.\n",
    "\n",
    "One also could calculate them using non-parametric approach - by bootstrap. Strategy:\n",
    "1. Given a list of ticker and events, randomly permute the events N times.\n",
    "2. Calculate mean CAR estimate for each of these N-runs.\n",
    "3. Calculate confidence by using quantiles (e.g. 0.05 and 0.95) on those N runs.\n",
    "4. Plot together with the original mean CAR to see the significance.\n",
    "\n",
    "\n",
    "Note: highly depends on the number of bootstrap runs. If possible, increase **n_cores** parameter to the greater number of cpu in use"
   ]
  },
  {
   "cell_type": "code",
   "execution_count": 12,
   "metadata": {},
   "outputs": [
    {
     "name": "stdout",
     "output_type": "stream",
     "text": [
      "10 cores available\n"
     ]
    }
   ],
   "source": [
    "# For bootstrap - if there are several CPU cores available - it is better to use them \n",
    "import psutil\n",
    "CPU_CORES = psutil.cpu_count()\n",
    "print(f\"{CPU_CORES} cores available\")"
   ]
  },
  {
   "cell_type": "code",
   "execution_count": 13,
   "metadata": {},
   "outputs": [
    {
     "name": "stderr",
     "output_type": "stream",
     "text": [
      "  0%|          | 0/33 [00:00<?, ?it/s]"
     ]
    },
    {
     "name": "stderr",
     "output_type": "stream",
     "text": [
      "100%|██████████| 33/33 [00:18<00:00,  1.77it/s]\n"
     ]
    }
   ],
   "source": [
    "# Initialize EventStudy class object\n",
    "event_study = EventStudy(\n",
    "    estimation_days=255,\n",
    "    gap_days=50,\n",
    "    window_after=10,\n",
    "    window_before=10,\n",
    "    min_estimation_days=100,\n",
    "    estimator_type='ff5',\n",
    "    n_cores=CPU_CORES\n",
    ")\n",
    "\n",
    "# Run the study\n",
    "results_df = event_study.run_study(events_df)"
   ]
  },
  {
   "cell_type": "code",
   "execution_count": 14,
   "metadata": {},
   "outputs": [
    {
     "name": "stderr",
     "output_type": "stream",
     "text": [
      "  0%|          | 0/100 [00:00<?, ?it/s]"
     ]
    },
    {
     "name": "stderr",
     "output_type": "stream",
     "text": [
      "100%|██████████| 100/100 [00:00<00:00, 2679.47it/s]\n"
     ]
    }
   ],
   "source": [
    "bootstrap_results_df = event_study.run_bootstrap_study(events_df, n_bootstrap=100)"
   ]
  },
  {
   "cell_type": "code",
   "execution_count": 15,
   "metadata": {},
   "outputs": [
    {
     "data": {
      "text/html": [
       "<div>\n",
       "<style scoped>\n",
       "    .dataframe tbody tr th:only-of-type {\n",
       "        vertical-align: middle;\n",
       "    }\n",
       "\n",
       "    .dataframe tbody tr th {\n",
       "        vertical-align: top;\n",
       "    }\n",
       "\n",
       "    .dataframe thead th {\n",
       "        text-align: right;\n",
       "    }\n",
       "</style>\n",
       "<table border=\"1\" class=\"dataframe\">\n",
       "  <thead>\n",
       "    <tr style=\"text-align: right;\">\n",
       "      <th></th>\n",
       "      <th>0</th>\n",
       "      <th>1</th>\n",
       "      <th>2</th>\n",
       "      <th>3</th>\n",
       "      <th>4</th>\n",
       "      <th>5</th>\n",
       "      <th>6</th>\n",
       "      <th>7</th>\n",
       "      <th>8</th>\n",
       "      <th>9</th>\n",
       "      <th>...</th>\n",
       "      <th>90</th>\n",
       "      <th>91</th>\n",
       "      <th>92</th>\n",
       "      <th>93</th>\n",
       "      <th>94</th>\n",
       "      <th>95</th>\n",
       "      <th>96</th>\n",
       "      <th>97</th>\n",
       "      <th>98</th>\n",
       "      <th>99</th>\n",
       "    </tr>\n",
       "    <tr>\n",
       "      <th>Offset</th>\n",
       "      <th></th>\n",
       "      <th></th>\n",
       "      <th></th>\n",
       "      <th></th>\n",
       "      <th></th>\n",
       "      <th></th>\n",
       "      <th></th>\n",
       "      <th></th>\n",
       "      <th></th>\n",
       "      <th></th>\n",
       "      <th></th>\n",
       "      <th></th>\n",
       "      <th></th>\n",
       "      <th></th>\n",
       "      <th></th>\n",
       "      <th></th>\n",
       "      <th></th>\n",
       "      <th></th>\n",
       "      <th></th>\n",
       "      <th></th>\n",
       "      <th></th>\n",
       "    </tr>\n",
       "  </thead>\n",
       "  <tbody>\n",
       "    <tr>\n",
       "      <th>-10</th>\n",
       "      <td>0.002857</td>\n",
       "      <td>-0.000930</td>\n",
       "      <td>-0.000569</td>\n",
       "      <td>-0.003973</td>\n",
       "      <td>-0.003516</td>\n",
       "      <td>-0.000342</td>\n",
       "      <td>-0.001367</td>\n",
       "      <td>-0.003918</td>\n",
       "      <td>-0.000704</td>\n",
       "      <td>0.006883</td>\n",
       "      <td>...</td>\n",
       "      <td>0.001598</td>\n",
       "      <td>-0.004992</td>\n",
       "      <td>0.003323</td>\n",
       "      <td>-0.001014</td>\n",
       "      <td>-0.002297</td>\n",
       "      <td>0.001953</td>\n",
       "      <td>0.001289</td>\n",
       "      <td>-0.002962</td>\n",
       "      <td>0.004557</td>\n",
       "      <td>0.000752</td>\n",
       "    </tr>\n",
       "    <tr>\n",
       "      <th>-9</th>\n",
       "      <td>0.001295</td>\n",
       "      <td>0.002066</td>\n",
       "      <td>0.001748</td>\n",
       "      <td>-0.007525</td>\n",
       "      <td>-0.001740</td>\n",
       "      <td>0.005547</td>\n",
       "      <td>-0.006788</td>\n",
       "      <td>0.006664</td>\n",
       "      <td>0.000416</td>\n",
       "      <td>0.012453</td>\n",
       "      <td>...</td>\n",
       "      <td>0.002173</td>\n",
       "      <td>-0.002083</td>\n",
       "      <td>0.009599</td>\n",
       "      <td>0.001136</td>\n",
       "      <td>0.005194</td>\n",
       "      <td>-0.000528</td>\n",
       "      <td>-0.001880</td>\n",
       "      <td>0.006051</td>\n",
       "      <td>0.008829</td>\n",
       "      <td>0.015905</td>\n",
       "    </tr>\n",
       "    <tr>\n",
       "      <th>-8</th>\n",
       "      <td>-0.003024</td>\n",
       "      <td>0.000249</td>\n",
       "      <td>0.001258</td>\n",
       "      <td>-0.008464</td>\n",
       "      <td>-0.002183</td>\n",
       "      <td>0.009989</td>\n",
       "      <td>-0.008308</td>\n",
       "      <td>0.005507</td>\n",
       "      <td>-0.001744</td>\n",
       "      <td>0.017194</td>\n",
       "      <td>...</td>\n",
       "      <td>0.001197</td>\n",
       "      <td>-0.001283</td>\n",
       "      <td>0.004516</td>\n",
       "      <td>0.001970</td>\n",
       "      <td>0.003832</td>\n",
       "      <td>-0.003268</td>\n",
       "      <td>-0.004967</td>\n",
       "      <td>0.006418</td>\n",
       "      <td>0.007339</td>\n",
       "      <td>0.010300</td>\n",
       "    </tr>\n",
       "    <tr>\n",
       "      <th>-7</th>\n",
       "      <td>0.000187</td>\n",
       "      <td>-0.003541</td>\n",
       "      <td>0.008272</td>\n",
       "      <td>-0.008078</td>\n",
       "      <td>0.003852</td>\n",
       "      <td>0.008433</td>\n",
       "      <td>-0.007332</td>\n",
       "      <td>0.008599</td>\n",
       "      <td>0.002666</td>\n",
       "      <td>0.016530</td>\n",
       "      <td>...</td>\n",
       "      <td>0.006014</td>\n",
       "      <td>-0.001305</td>\n",
       "      <td>-0.000128</td>\n",
       "      <td>0.007666</td>\n",
       "      <td>-0.002024</td>\n",
       "      <td>-0.005005</td>\n",
       "      <td>-0.005124</td>\n",
       "      <td>0.007321</td>\n",
       "      <td>0.003408</td>\n",
       "      <td>0.015932</td>\n",
       "    </tr>\n",
       "    <tr>\n",
       "      <th>-6</th>\n",
       "      <td>0.002124</td>\n",
       "      <td>-0.004338</td>\n",
       "      <td>0.014155</td>\n",
       "      <td>-0.007725</td>\n",
       "      <td>0.008104</td>\n",
       "      <td>0.008553</td>\n",
       "      <td>-0.001250</td>\n",
       "      <td>0.010539</td>\n",
       "      <td>0.004928</td>\n",
       "      <td>0.022408</td>\n",
       "      <td>...</td>\n",
       "      <td>0.000351</td>\n",
       "      <td>-0.001487</td>\n",
       "      <td>-0.001093</td>\n",
       "      <td>0.011047</td>\n",
       "      <td>0.000148</td>\n",
       "      <td>-0.008253</td>\n",
       "      <td>-0.004208</td>\n",
       "      <td>0.008208</td>\n",
       "      <td>0.008357</td>\n",
       "      <td>0.016811</td>\n",
       "    </tr>\n",
       "    <tr>\n",
       "      <th>-5</th>\n",
       "      <td>0.000957</td>\n",
       "      <td>-0.004499</td>\n",
       "      <td>0.015464</td>\n",
       "      <td>-0.010009</td>\n",
       "      <td>0.008641</td>\n",
       "      <td>0.010104</td>\n",
       "      <td>-0.004238</td>\n",
       "      <td>0.013102</td>\n",
       "      <td>0.000871</td>\n",
       "      <td>0.022814</td>\n",
       "      <td>...</td>\n",
       "      <td>0.002566</td>\n",
       "      <td>-0.005486</td>\n",
       "      <td>-0.000983</td>\n",
       "      <td>0.010700</td>\n",
       "      <td>-0.001929</td>\n",
       "      <td>-0.010266</td>\n",
       "      <td>-0.002873</td>\n",
       "      <td>0.005625</td>\n",
       "      <td>0.002725</td>\n",
       "      <td>0.013268</td>\n",
       "    </tr>\n",
       "    <tr>\n",
       "      <th>-4</th>\n",
       "      <td>-0.007264</td>\n",
       "      <td>-0.003365</td>\n",
       "      <td>0.008239</td>\n",
       "      <td>-0.008087</td>\n",
       "      <td>0.011524</td>\n",
       "      <td>0.006667</td>\n",
       "      <td>-0.005339</td>\n",
       "      <td>0.009187</td>\n",
       "      <td>-0.000532</td>\n",
       "      <td>0.026803</td>\n",
       "      <td>...</td>\n",
       "      <td>0.005224</td>\n",
       "      <td>-0.006802</td>\n",
       "      <td>-0.001159</td>\n",
       "      <td>0.009316</td>\n",
       "      <td>-0.015802</td>\n",
       "      <td>-0.015019</td>\n",
       "      <td>-0.001616</td>\n",
       "      <td>0.003323</td>\n",
       "      <td>0.003382</td>\n",
       "      <td>0.022307</td>\n",
       "    </tr>\n",
       "    <tr>\n",
       "      <th>-3</th>\n",
       "      <td>-0.007825</td>\n",
       "      <td>-0.005508</td>\n",
       "      <td>0.008467</td>\n",
       "      <td>-0.012040</td>\n",
       "      <td>0.010201</td>\n",
       "      <td>0.007506</td>\n",
       "      <td>-0.003516</td>\n",
       "      <td>0.006963</td>\n",
       "      <td>0.002964</td>\n",
       "      <td>0.025913</td>\n",
       "      <td>...</td>\n",
       "      <td>0.002159</td>\n",
       "      <td>-0.010916</td>\n",
       "      <td>-0.000175</td>\n",
       "      <td>0.010927</td>\n",
       "      <td>-0.015299</td>\n",
       "      <td>-0.014121</td>\n",
       "      <td>0.001346</td>\n",
       "      <td>0.001945</td>\n",
       "      <td>0.003708</td>\n",
       "      <td>0.019947</td>\n",
       "    </tr>\n",
       "    <tr>\n",
       "      <th>-2</th>\n",
       "      <td>-0.004517</td>\n",
       "      <td>-0.004046</td>\n",
       "      <td>0.008836</td>\n",
       "      <td>-0.011536</td>\n",
       "      <td>0.010242</td>\n",
       "      <td>0.011459</td>\n",
       "      <td>-0.001382</td>\n",
       "      <td>0.008300</td>\n",
       "      <td>0.003522</td>\n",
       "      <td>0.026906</td>\n",
       "      <td>...</td>\n",
       "      <td>0.006973</td>\n",
       "      <td>-0.010020</td>\n",
       "      <td>0.000988</td>\n",
       "      <td>0.009600</td>\n",
       "      <td>-0.018684</td>\n",
       "      <td>-0.018624</td>\n",
       "      <td>0.002187</td>\n",
       "      <td>0.001851</td>\n",
       "      <td>0.009954</td>\n",
       "      <td>0.018830</td>\n",
       "    </tr>\n",
       "    <tr>\n",
       "      <th>-1</th>\n",
       "      <td>-0.007772</td>\n",
       "      <td>-0.004303</td>\n",
       "      <td>0.010541</td>\n",
       "      <td>-0.012317</td>\n",
       "      <td>0.008150</td>\n",
       "      <td>0.012581</td>\n",
       "      <td>0.002641</td>\n",
       "      <td>0.010866</td>\n",
       "      <td>0.006890</td>\n",
       "      <td>0.030369</td>\n",
       "      <td>...</td>\n",
       "      <td>0.006607</td>\n",
       "      <td>-0.010256</td>\n",
       "      <td>-0.000592</td>\n",
       "      <td>0.014106</td>\n",
       "      <td>-0.020510</td>\n",
       "      <td>-0.019720</td>\n",
       "      <td>0.000699</td>\n",
       "      <td>0.002061</td>\n",
       "      <td>0.009628</td>\n",
       "      <td>0.015971</td>\n",
       "    </tr>\n",
       "    <tr>\n",
       "      <th>0</th>\n",
       "      <td>0.010391</td>\n",
       "      <td>0.001944</td>\n",
       "      <td>0.007858</td>\n",
       "      <td>-0.008764</td>\n",
       "      <td>0.022584</td>\n",
       "      <td>0.027059</td>\n",
       "      <td>0.006500</td>\n",
       "      <td>0.013813</td>\n",
       "      <td>0.026012</td>\n",
       "      <td>0.039991</td>\n",
       "      <td>...</td>\n",
       "      <td>0.009894</td>\n",
       "      <td>0.002856</td>\n",
       "      <td>0.005195</td>\n",
       "      <td>0.012798</td>\n",
       "      <td>-0.008468</td>\n",
       "      <td>-0.017369</td>\n",
       "      <td>0.029802</td>\n",
       "      <td>-0.000792</td>\n",
       "      <td>0.023393</td>\n",
       "      <td>0.030713</td>\n",
       "    </tr>\n",
       "    <tr>\n",
       "      <th>1</th>\n",
       "      <td>0.008017</td>\n",
       "      <td>0.000556</td>\n",
       "      <td>0.005953</td>\n",
       "      <td>-0.011515</td>\n",
       "      <td>0.021983</td>\n",
       "      <td>0.027496</td>\n",
       "      <td>0.005481</td>\n",
       "      <td>0.016806</td>\n",
       "      <td>0.023013</td>\n",
       "      <td>0.037910</td>\n",
       "      <td>...</td>\n",
       "      <td>0.014943</td>\n",
       "      <td>0.002691</td>\n",
       "      <td>0.003124</td>\n",
       "      <td>0.012562</td>\n",
       "      <td>-0.002190</td>\n",
       "      <td>-0.018794</td>\n",
       "      <td>0.030436</td>\n",
       "      <td>-0.008028</td>\n",
       "      <td>0.020671</td>\n",
       "      <td>0.029401</td>\n",
       "    </tr>\n",
       "    <tr>\n",
       "      <th>2</th>\n",
       "      <td>0.009592</td>\n",
       "      <td>-0.000842</td>\n",
       "      <td>0.012012</td>\n",
       "      <td>-0.007514</td>\n",
       "      <td>0.021734</td>\n",
       "      <td>0.028125</td>\n",
       "      <td>0.007649</td>\n",
       "      <td>0.017522</td>\n",
       "      <td>0.017822</td>\n",
       "      <td>0.034041</td>\n",
       "      <td>...</td>\n",
       "      <td>0.018351</td>\n",
       "      <td>0.008648</td>\n",
       "      <td>0.006273</td>\n",
       "      <td>0.014374</td>\n",
       "      <td>0.010351</td>\n",
       "      <td>-0.020945</td>\n",
       "      <td>0.030643</td>\n",
       "      <td>-0.008346</td>\n",
       "      <td>0.020919</td>\n",
       "      <td>0.026793</td>\n",
       "    </tr>\n",
       "    <tr>\n",
       "      <th>3</th>\n",
       "      <td>0.001592</td>\n",
       "      <td>-0.000279</td>\n",
       "      <td>0.010057</td>\n",
       "      <td>-0.003966</td>\n",
       "      <td>0.020996</td>\n",
       "      <td>0.029756</td>\n",
       "      <td>0.008741</td>\n",
       "      <td>0.019046</td>\n",
       "      <td>0.009082</td>\n",
       "      <td>0.035871</td>\n",
       "      <td>...</td>\n",
       "      <td>0.019644</td>\n",
       "      <td>0.008874</td>\n",
       "      <td>0.005953</td>\n",
       "      <td>0.019983</td>\n",
       "      <td>0.017554</td>\n",
       "      <td>-0.019211</td>\n",
       "      <td>0.032195</td>\n",
       "      <td>-0.009683</td>\n",
       "      <td>0.023589</td>\n",
       "      <td>0.026751</td>\n",
       "    </tr>\n",
       "    <tr>\n",
       "      <th>4</th>\n",
       "      <td>-0.001289</td>\n",
       "      <td>0.001393</td>\n",
       "      <td>0.008492</td>\n",
       "      <td>-0.004191</td>\n",
       "      <td>0.015143</td>\n",
       "      <td>0.027703</td>\n",
       "      <td>0.005521</td>\n",
       "      <td>0.020636</td>\n",
       "      <td>0.010588</td>\n",
       "      <td>0.034637</td>\n",
       "      <td>...</td>\n",
       "      <td>0.022122</td>\n",
       "      <td>0.010068</td>\n",
       "      <td>0.007217</td>\n",
       "      <td>0.026070</td>\n",
       "      <td>0.017301</td>\n",
       "      <td>-0.020901</td>\n",
       "      <td>0.033242</td>\n",
       "      <td>-0.008131</td>\n",
       "      <td>0.014261</td>\n",
       "      <td>0.030176</td>\n",
       "    </tr>\n",
       "    <tr>\n",
       "      <th>5</th>\n",
       "      <td>-0.001218</td>\n",
       "      <td>0.005939</td>\n",
       "      <td>0.002711</td>\n",
       "      <td>0.006253</td>\n",
       "      <td>0.012504</td>\n",
       "      <td>0.028429</td>\n",
       "      <td>0.006155</td>\n",
       "      <td>0.023106</td>\n",
       "      <td>0.015092</td>\n",
       "      <td>0.030824</td>\n",
       "      <td>...</td>\n",
       "      <td>0.017016</td>\n",
       "      <td>0.008603</td>\n",
       "      <td>0.006715</td>\n",
       "      <td>0.026018</td>\n",
       "      <td>0.018258</td>\n",
       "      <td>-0.016015</td>\n",
       "      <td>0.031897</td>\n",
       "      <td>-0.006592</td>\n",
       "      <td>0.014844</td>\n",
       "      <td>0.027702</td>\n",
       "    </tr>\n",
       "    <tr>\n",
       "      <th>6</th>\n",
       "      <td>-0.006550</td>\n",
       "      <td>0.000901</td>\n",
       "      <td>-0.000820</td>\n",
       "      <td>0.009215</td>\n",
       "      <td>0.010643</td>\n",
       "      <td>0.027267</td>\n",
       "      <td>0.011504</td>\n",
       "      <td>0.024931</td>\n",
       "      <td>0.011856</td>\n",
       "      <td>0.031737</td>\n",
       "      <td>...</td>\n",
       "      <td>0.016258</td>\n",
       "      <td>0.011638</td>\n",
       "      <td>0.007821</td>\n",
       "      <td>0.026374</td>\n",
       "      <td>0.011784</td>\n",
       "      <td>-0.013744</td>\n",
       "      <td>0.031239</td>\n",
       "      <td>-0.005519</td>\n",
       "      <td>0.012780</td>\n",
       "      <td>0.027734</td>\n",
       "    </tr>\n",
       "    <tr>\n",
       "      <th>7</th>\n",
       "      <td>-0.011589</td>\n",
       "      <td>-0.001233</td>\n",
       "      <td>-0.003493</td>\n",
       "      <td>0.008876</td>\n",
       "      <td>0.009568</td>\n",
       "      <td>0.018568</td>\n",
       "      <td>0.012909</td>\n",
       "      <td>0.024226</td>\n",
       "      <td>0.008562</td>\n",
       "      <td>0.035228</td>\n",
       "      <td>...</td>\n",
       "      <td>0.016314</td>\n",
       "      <td>0.007214</td>\n",
       "      <td>0.009517</td>\n",
       "      <td>0.021502</td>\n",
       "      <td>0.008569</td>\n",
       "      <td>-0.022656</td>\n",
       "      <td>0.029354</td>\n",
       "      <td>-0.004633</td>\n",
       "      <td>0.014981</td>\n",
       "      <td>0.027961</td>\n",
       "    </tr>\n",
       "    <tr>\n",
       "      <th>8</th>\n",
       "      <td>-0.011149</td>\n",
       "      <td>-0.002282</td>\n",
       "      <td>-0.001727</td>\n",
       "      <td>0.007433</td>\n",
       "      <td>0.007866</td>\n",
       "      <td>0.020920</td>\n",
       "      <td>0.013946</td>\n",
       "      <td>0.026681</td>\n",
       "      <td>0.005799</td>\n",
       "      <td>0.034961</td>\n",
       "      <td>...</td>\n",
       "      <td>0.019177</td>\n",
       "      <td>0.012620</td>\n",
       "      <td>0.006351</td>\n",
       "      <td>0.017245</td>\n",
       "      <td>0.011288</td>\n",
       "      <td>-0.021352</td>\n",
       "      <td>0.032336</td>\n",
       "      <td>-0.002638</td>\n",
       "      <td>0.016580</td>\n",
       "      <td>0.029250</td>\n",
       "    </tr>\n",
       "    <tr>\n",
       "      <th>9</th>\n",
       "      <td>-0.016099</td>\n",
       "      <td>-0.001017</td>\n",
       "      <td>0.002096</td>\n",
       "      <td>0.008955</td>\n",
       "      <td>0.006798</td>\n",
       "      <td>0.020884</td>\n",
       "      <td>0.012828</td>\n",
       "      <td>0.026978</td>\n",
       "      <td>0.002038</td>\n",
       "      <td>0.033679</td>\n",
       "      <td>...</td>\n",
       "      <td>0.012617</td>\n",
       "      <td>0.015879</td>\n",
       "      <td>0.005608</td>\n",
       "      <td>0.015537</td>\n",
       "      <td>0.008988</td>\n",
       "      <td>-0.020379</td>\n",
       "      <td>0.029862</td>\n",
       "      <td>-0.005092</td>\n",
       "      <td>0.016032</td>\n",
       "      <td>0.032287</td>\n",
       "    </tr>\n",
       "    <tr>\n",
       "      <th>10</th>\n",
       "      <td>-0.009277</td>\n",
       "      <td>-0.002940</td>\n",
       "      <td>-0.001607</td>\n",
       "      <td>0.007333</td>\n",
       "      <td>0.004411</td>\n",
       "      <td>0.018329</td>\n",
       "      <td>0.004626</td>\n",
       "      <td>0.024572</td>\n",
       "      <td>-0.005499</td>\n",
       "      <td>0.030997</td>\n",
       "      <td>...</td>\n",
       "      <td>0.013024</td>\n",
       "      <td>0.017413</td>\n",
       "      <td>0.004941</td>\n",
       "      <td>0.020936</td>\n",
       "      <td>0.011595</td>\n",
       "      <td>-0.017092</td>\n",
       "      <td>0.026787</td>\n",
       "      <td>-0.003662</td>\n",
       "      <td>0.015872</td>\n",
       "      <td>0.032647</td>\n",
       "    </tr>\n",
       "  </tbody>\n",
       "</table>\n",
       "<p>21 rows × 100 columns</p>\n",
       "</div>"
      ],
      "text/plain": [
       "              0         1         2         3         4         5         6   \\\n",
       "Offset                                                                         \n",
       "-10     0.002857 -0.000930 -0.000569 -0.003973 -0.003516 -0.000342 -0.001367   \n",
       "-9      0.001295  0.002066  0.001748 -0.007525 -0.001740  0.005547 -0.006788   \n",
       "-8     -0.003024  0.000249  0.001258 -0.008464 -0.002183  0.009989 -0.008308   \n",
       "-7      0.000187 -0.003541  0.008272 -0.008078  0.003852  0.008433 -0.007332   \n",
       "-6      0.002124 -0.004338  0.014155 -0.007725  0.008104  0.008553 -0.001250   \n",
       "-5      0.000957 -0.004499  0.015464 -0.010009  0.008641  0.010104 -0.004238   \n",
       "-4     -0.007264 -0.003365  0.008239 -0.008087  0.011524  0.006667 -0.005339   \n",
       "-3     -0.007825 -0.005508  0.008467 -0.012040  0.010201  0.007506 -0.003516   \n",
       "-2     -0.004517 -0.004046  0.008836 -0.011536  0.010242  0.011459 -0.001382   \n",
       "-1     -0.007772 -0.004303  0.010541 -0.012317  0.008150  0.012581  0.002641   \n",
       " 0      0.010391  0.001944  0.007858 -0.008764  0.022584  0.027059  0.006500   \n",
       " 1      0.008017  0.000556  0.005953 -0.011515  0.021983  0.027496  0.005481   \n",
       " 2      0.009592 -0.000842  0.012012 -0.007514  0.021734  0.028125  0.007649   \n",
       " 3      0.001592 -0.000279  0.010057 -0.003966  0.020996  0.029756  0.008741   \n",
       " 4     -0.001289  0.001393  0.008492 -0.004191  0.015143  0.027703  0.005521   \n",
       " 5     -0.001218  0.005939  0.002711  0.006253  0.012504  0.028429  0.006155   \n",
       " 6     -0.006550  0.000901 -0.000820  0.009215  0.010643  0.027267  0.011504   \n",
       " 7     -0.011589 -0.001233 -0.003493  0.008876  0.009568  0.018568  0.012909   \n",
       " 8     -0.011149 -0.002282 -0.001727  0.007433  0.007866  0.020920  0.013946   \n",
       " 9     -0.016099 -0.001017  0.002096  0.008955  0.006798  0.020884  0.012828   \n",
       " 10    -0.009277 -0.002940 -0.001607  0.007333  0.004411  0.018329  0.004626   \n",
       "\n",
       "              7         8         9   ...        90        91        92  \\\n",
       "Offset                                ...                                 \n",
       "-10    -0.003918 -0.000704  0.006883  ...  0.001598 -0.004992  0.003323   \n",
       "-9      0.006664  0.000416  0.012453  ...  0.002173 -0.002083  0.009599   \n",
       "-8      0.005507 -0.001744  0.017194  ...  0.001197 -0.001283  0.004516   \n",
       "-7      0.008599  0.002666  0.016530  ...  0.006014 -0.001305 -0.000128   \n",
       "-6      0.010539  0.004928  0.022408  ...  0.000351 -0.001487 -0.001093   \n",
       "-5      0.013102  0.000871  0.022814  ...  0.002566 -0.005486 -0.000983   \n",
       "-4      0.009187 -0.000532  0.026803  ...  0.005224 -0.006802 -0.001159   \n",
       "-3      0.006963  0.002964  0.025913  ...  0.002159 -0.010916 -0.000175   \n",
       "-2      0.008300  0.003522  0.026906  ...  0.006973 -0.010020  0.000988   \n",
       "-1      0.010866  0.006890  0.030369  ...  0.006607 -0.010256 -0.000592   \n",
       " 0      0.013813  0.026012  0.039991  ...  0.009894  0.002856  0.005195   \n",
       " 1      0.016806  0.023013  0.037910  ...  0.014943  0.002691  0.003124   \n",
       " 2      0.017522  0.017822  0.034041  ...  0.018351  0.008648  0.006273   \n",
       " 3      0.019046  0.009082  0.035871  ...  0.019644  0.008874  0.005953   \n",
       " 4      0.020636  0.010588  0.034637  ...  0.022122  0.010068  0.007217   \n",
       " 5      0.023106  0.015092  0.030824  ...  0.017016  0.008603  0.006715   \n",
       " 6      0.024931  0.011856  0.031737  ...  0.016258  0.011638  0.007821   \n",
       " 7      0.024226  0.008562  0.035228  ...  0.016314  0.007214  0.009517   \n",
       " 8      0.026681  0.005799  0.034961  ...  0.019177  0.012620  0.006351   \n",
       " 9      0.026978  0.002038  0.033679  ...  0.012617  0.015879  0.005608   \n",
       " 10     0.024572 -0.005499  0.030997  ...  0.013024  0.017413  0.004941   \n",
       "\n",
       "              93        94        95        96        97        98        99  \n",
       "Offset                                                                        \n",
       "-10    -0.001014 -0.002297  0.001953  0.001289 -0.002962  0.004557  0.000752  \n",
       "-9      0.001136  0.005194 -0.000528 -0.001880  0.006051  0.008829  0.015905  \n",
       "-8      0.001970  0.003832 -0.003268 -0.004967  0.006418  0.007339  0.010300  \n",
       "-7      0.007666 -0.002024 -0.005005 -0.005124  0.007321  0.003408  0.015932  \n",
       "-6      0.011047  0.000148 -0.008253 -0.004208  0.008208  0.008357  0.016811  \n",
       "-5      0.010700 -0.001929 -0.010266 -0.002873  0.005625  0.002725  0.013268  \n",
       "-4      0.009316 -0.015802 -0.015019 -0.001616  0.003323  0.003382  0.022307  \n",
       "-3      0.010927 -0.015299 -0.014121  0.001346  0.001945  0.003708  0.019947  \n",
       "-2      0.009600 -0.018684 -0.018624  0.002187  0.001851  0.009954  0.018830  \n",
       "-1      0.014106 -0.020510 -0.019720  0.000699  0.002061  0.009628  0.015971  \n",
       " 0      0.012798 -0.008468 -0.017369  0.029802 -0.000792  0.023393  0.030713  \n",
       " 1      0.012562 -0.002190 -0.018794  0.030436 -0.008028  0.020671  0.029401  \n",
       " 2      0.014374  0.010351 -0.020945  0.030643 -0.008346  0.020919  0.026793  \n",
       " 3      0.019983  0.017554 -0.019211  0.032195 -0.009683  0.023589  0.026751  \n",
       " 4      0.026070  0.017301 -0.020901  0.033242 -0.008131  0.014261  0.030176  \n",
       " 5      0.026018  0.018258 -0.016015  0.031897 -0.006592  0.014844  0.027702  \n",
       " 6      0.026374  0.011784 -0.013744  0.031239 -0.005519  0.012780  0.027734  \n",
       " 7      0.021502  0.008569 -0.022656  0.029354 -0.004633  0.014981  0.027961  \n",
       " 8      0.017245  0.011288 -0.021352  0.032336 -0.002638  0.016580  0.029250  \n",
       " 9      0.015537  0.008988 -0.020379  0.029862 -0.005092  0.016032  0.032287  \n",
       " 10     0.020936  0.011595 -0.017092  0.026787 -0.003662  0.015872  0.032647  \n",
       "\n",
       "[21 rows x 100 columns]"
      ]
     },
     "execution_count": 15,
     "metadata": {},
     "output_type": "execute_result"
    }
   ],
   "source": [
    "# Each column represents mean CAR value obtained in each bootstrap run\n",
    "bootstrap_results_df"
   ]
  },
  {
   "cell_type": "code",
   "execution_count": 16,
   "metadata": {},
   "outputs": [
    {
     "data": {
      "application/vnd.plotly.v1+json": {
       "config": {
        "plotlyServerURL": "https://plot.ly"
       },
       "data": [
        {
         "line": {
          "color": "rgb(0, 0, 255)"
         },
         "mode": "lines",
         "name": "Mean",
         "showlegend": true,
         "type": "scatter",
         "x": [
          -10,
          -9,
          -8,
          -7,
          -6,
          -5,
          -4,
          -3,
          -2,
          -1,
          0,
          1,
          2,
          3,
          4,
          5,
          6,
          7,
          8,
          9,
          10
         ],
         "y": [
          -0.005118798477955226,
          -0.0069132835485601835,
          -0.008918348147999518,
          -0.009971916034536978,
          -0.014504373674908264,
          -0.008354825078320116,
          -0.008014627025737613,
          -0.008249516812207312,
          -0.00590772424838281,
          -0.005857280579087087,
          0.1996833799842654,
          0.1951130595362426,
          0.1931288023808915,
          0.195889424916158,
          0.19591547738525827,
          0.1954780913883316,
          0.19831171579129891,
          0.19735666578672983,
          0.19684184735478852,
          0.1964865259031204,
          0.19438032819970688
         ]
        },
        {
         "line": {
          "color": "rgba(0, 0, 255, 0.5)",
          "dash": "dash",
          "width": 1
         },
         "mode": "lines",
         "name": "Q:0.995 by bootstrap",
         "showlegend": true,
         "type": "scatter",
         "x": [
          -10,
          -9,
          -8,
          -7,
          -6,
          -5,
          -4,
          -3,
          -2,
          -1,
          0,
          1,
          2,
          3,
          4,
          5,
          6,
          7,
          8,
          9,
          10
         ],
         "y": [
          0.007491683774261636,
          0.018377824644002262,
          0.014708775535690609,
          0.018133540328197403,
          0.021692957711844485,
          0.021531952374771925,
          0.024577103365413588,
          0.022960137042884132,
          0.02300517282239456,
          0.024544555212451392,
          0.03796099403603148,
          0.03816751977433874,
          0.03911875730364784,
          0.04042064918667914,
          0.0410742485713416,
          0.042984087153212946,
          0.0429883568870618,
          0.04505484853919426,
          0.042413596917540396,
          0.05102788772042831,
          0.05150080200468249
         ]
        },
        {
         "fill": "tonextx",
         "fillcolor": "rgba(0, 0, 255,0.1)",
         "line": {
          "color": "rgba(0, 0, 255, 0.5)",
          "dash": "dash",
          "width": 1
         },
         "mode": "lines",
         "name": "ShadedArea",
         "showlegend": false,
         "type": "scatter",
         "x": [
          -10,
          -9,
          -8,
          -7,
          -6,
          -5,
          -4,
          -3,
          -2,
          -1,
          0,
          1,
          2,
          3,
          4,
          5,
          6,
          7,
          8,
          9,
          10
         ],
         "y": [
          -0.006070558184514754,
          -0.008184093590434417,
          -0.011030909995464197,
          -0.013411559443950066,
          -0.014749195059639328,
          -0.015738983520663833,
          -0.020858311708668628,
          -0.02231973998876649,
          -0.02419546822103859,
          -0.023269445328163677,
          -0.020111766322315573,
          -0.022862153692578012,
          -0.022436702892331017,
          -0.020494064856077666,
          -0.02373621849168566,
          -0.023561237575775818,
          -0.028108039632026252,
          -0.026902608023335335,
          -0.028838217098230513,
          -0.028941997639114606,
          -0.0324125164007074
         ]
        },
        {
         "line": {
          "color": "rgba(0, 0, 255, 0.5)",
          "dash": "dash",
          "width": 1
         },
         "mode": "lines",
         "name": "Q:0.005 by bootstrap",
         "showlegend": true,
         "type": "scatter",
         "x": [
          -10,
          -9,
          -8,
          -7,
          -6,
          -5,
          -4,
          -3,
          -2,
          -1,
          0,
          1,
          2,
          3,
          4,
          5,
          6,
          7,
          8,
          9,
          10
         ],
         "y": [
          -0.006070558184514754,
          -0.008184093590434417,
          -0.011030909995464197,
          -0.013411559443950066,
          -0.014749195059639328,
          -0.015738983520663833,
          -0.020858311708668628,
          -0.02231973998876649,
          -0.02419546822103859,
          -0.023269445328163677,
          -0.020111766322315573,
          -0.022862153692578012,
          -0.022436702892331017,
          -0.020494064856077666,
          -0.02373621849168566,
          -0.023561237575775818,
          -0.028108039632026252,
          -0.026902608023335335,
          -0.028838217098230513,
          -0.028941997639114606,
          -0.0324125164007074
         ]
        }
       ],
       "layout": {
        "legend": {
         "orientation": "h",
         "x": 0.5,
         "xanchor": "center",
         "y": -0.2
        },
        "shapes": [
         {
          "line": {
           "color": "rgba(0, 0,0, 0.5)",
           "width": 1
          },
          "type": "line",
          "x0": 0,
          "x1": 0,
          "xref": "x",
          "y0": 0,
          "y1": 1,
          "yref": "y domain"
         },
         {
          "line": {
           "color": "rgba(0, 0,0, 0.5)",
           "width": 1
          },
          "type": "line",
          "x0": 0,
          "x1": 1,
          "xref": "x domain",
          "y0": 0,
          "y1": 0,
          "yref": "y"
         }
        ],
        "template": {
         "data": {
          "bar": [
           {
            "error_x": {
             "color": "#2a3f5f"
            },
            "error_y": {
             "color": "#2a3f5f"
            },
            "marker": {
             "line": {
              "color": "white",
              "width": 0.5
             },
             "pattern": {
              "fillmode": "overlay",
              "size": 10,
              "solidity": 0.2
             }
            },
            "type": "bar"
           }
          ],
          "barpolar": [
           {
            "marker": {
             "line": {
              "color": "white",
              "width": 0.5
             },
             "pattern": {
              "fillmode": "overlay",
              "size": 10,
              "solidity": 0.2
             }
            },
            "type": "barpolar"
           }
          ],
          "carpet": [
           {
            "aaxis": {
             "endlinecolor": "#2a3f5f",
             "gridcolor": "#C8D4E3",
             "linecolor": "#C8D4E3",
             "minorgridcolor": "#C8D4E3",
             "startlinecolor": "#2a3f5f"
            },
            "baxis": {
             "endlinecolor": "#2a3f5f",
             "gridcolor": "#C8D4E3",
             "linecolor": "#C8D4E3",
             "minorgridcolor": "#C8D4E3",
             "startlinecolor": "#2a3f5f"
            },
            "type": "carpet"
           }
          ],
          "choropleth": [
           {
            "colorbar": {
             "outlinewidth": 0,
             "ticks": ""
            },
            "type": "choropleth"
           }
          ],
          "contour": [
           {
            "colorbar": {
             "outlinewidth": 0,
             "ticks": ""
            },
            "colorscale": [
             [
              0,
              "#0d0887"
             ],
             [
              0.1111111111111111,
              "#46039f"
             ],
             [
              0.2222222222222222,
              "#7201a8"
             ],
             [
              0.3333333333333333,
              "#9c179e"
             ],
             [
              0.4444444444444444,
              "#bd3786"
             ],
             [
              0.5555555555555556,
              "#d8576b"
             ],
             [
              0.6666666666666666,
              "#ed7953"
             ],
             [
              0.7777777777777778,
              "#fb9f3a"
             ],
             [
              0.8888888888888888,
              "#fdca26"
             ],
             [
              1,
              "#f0f921"
             ]
            ],
            "type": "contour"
           }
          ],
          "contourcarpet": [
           {
            "colorbar": {
             "outlinewidth": 0,
             "ticks": ""
            },
            "type": "contourcarpet"
           }
          ],
          "heatmap": [
           {
            "colorbar": {
             "outlinewidth": 0,
             "ticks": ""
            },
            "colorscale": [
             [
              0,
              "#0d0887"
             ],
             [
              0.1111111111111111,
              "#46039f"
             ],
             [
              0.2222222222222222,
              "#7201a8"
             ],
             [
              0.3333333333333333,
              "#9c179e"
             ],
             [
              0.4444444444444444,
              "#bd3786"
             ],
             [
              0.5555555555555556,
              "#d8576b"
             ],
             [
              0.6666666666666666,
              "#ed7953"
             ],
             [
              0.7777777777777778,
              "#fb9f3a"
             ],
             [
              0.8888888888888888,
              "#fdca26"
             ],
             [
              1,
              "#f0f921"
             ]
            ],
            "type": "heatmap"
           }
          ],
          "heatmapgl": [
           {
            "colorbar": {
             "outlinewidth": 0,
             "ticks": ""
            },
            "colorscale": [
             [
              0,
              "#0d0887"
             ],
             [
              0.1111111111111111,
              "#46039f"
             ],
             [
              0.2222222222222222,
              "#7201a8"
             ],
             [
              0.3333333333333333,
              "#9c179e"
             ],
             [
              0.4444444444444444,
              "#bd3786"
             ],
             [
              0.5555555555555556,
              "#d8576b"
             ],
             [
              0.6666666666666666,
              "#ed7953"
             ],
             [
              0.7777777777777778,
              "#fb9f3a"
             ],
             [
              0.8888888888888888,
              "#fdca26"
             ],
             [
              1,
              "#f0f921"
             ]
            ],
            "type": "heatmapgl"
           }
          ],
          "histogram": [
           {
            "marker": {
             "pattern": {
              "fillmode": "overlay",
              "size": 10,
              "solidity": 0.2
             }
            },
            "type": "histogram"
           }
          ],
          "histogram2d": [
           {
            "colorbar": {
             "outlinewidth": 0,
             "ticks": ""
            },
            "colorscale": [
             [
              0,
              "#0d0887"
             ],
             [
              0.1111111111111111,
              "#46039f"
             ],
             [
              0.2222222222222222,
              "#7201a8"
             ],
             [
              0.3333333333333333,
              "#9c179e"
             ],
             [
              0.4444444444444444,
              "#bd3786"
             ],
             [
              0.5555555555555556,
              "#d8576b"
             ],
             [
              0.6666666666666666,
              "#ed7953"
             ],
             [
              0.7777777777777778,
              "#fb9f3a"
             ],
             [
              0.8888888888888888,
              "#fdca26"
             ],
             [
              1,
              "#f0f921"
             ]
            ],
            "type": "histogram2d"
           }
          ],
          "histogram2dcontour": [
           {
            "colorbar": {
             "outlinewidth": 0,
             "ticks": ""
            },
            "colorscale": [
             [
              0,
              "#0d0887"
             ],
             [
              0.1111111111111111,
              "#46039f"
             ],
             [
              0.2222222222222222,
              "#7201a8"
             ],
             [
              0.3333333333333333,
              "#9c179e"
             ],
             [
              0.4444444444444444,
              "#bd3786"
             ],
             [
              0.5555555555555556,
              "#d8576b"
             ],
             [
              0.6666666666666666,
              "#ed7953"
             ],
             [
              0.7777777777777778,
              "#fb9f3a"
             ],
             [
              0.8888888888888888,
              "#fdca26"
             ],
             [
              1,
              "#f0f921"
             ]
            ],
            "type": "histogram2dcontour"
           }
          ],
          "mesh3d": [
           {
            "colorbar": {
             "outlinewidth": 0,
             "ticks": ""
            },
            "type": "mesh3d"
           }
          ],
          "parcoords": [
           {
            "line": {
             "colorbar": {
              "outlinewidth": 0,
              "ticks": ""
             }
            },
            "type": "parcoords"
           }
          ],
          "pie": [
           {
            "automargin": true,
            "type": "pie"
           }
          ],
          "scatter": [
           {
            "fillpattern": {
             "fillmode": "overlay",
             "size": 10,
             "solidity": 0.2
            },
            "type": "scatter"
           }
          ],
          "scatter3d": [
           {
            "line": {
             "colorbar": {
              "outlinewidth": 0,
              "ticks": ""
             }
            },
            "marker": {
             "colorbar": {
              "outlinewidth": 0,
              "ticks": ""
             }
            },
            "type": "scatter3d"
           }
          ],
          "scattercarpet": [
           {
            "marker": {
             "colorbar": {
              "outlinewidth": 0,
              "ticks": ""
             }
            },
            "type": "scattercarpet"
           }
          ],
          "scattergeo": [
           {
            "marker": {
             "colorbar": {
              "outlinewidth": 0,
              "ticks": ""
             }
            },
            "type": "scattergeo"
           }
          ],
          "scattergl": [
           {
            "marker": {
             "colorbar": {
              "outlinewidth": 0,
              "ticks": ""
             }
            },
            "type": "scattergl"
           }
          ],
          "scattermapbox": [
           {
            "marker": {
             "colorbar": {
              "outlinewidth": 0,
              "ticks": ""
             }
            },
            "type": "scattermapbox"
           }
          ],
          "scatterpolar": [
           {
            "marker": {
             "colorbar": {
              "outlinewidth": 0,
              "ticks": ""
             }
            },
            "type": "scatterpolar"
           }
          ],
          "scatterpolargl": [
           {
            "marker": {
             "colorbar": {
              "outlinewidth": 0,
              "ticks": ""
             }
            },
            "type": "scatterpolargl"
           }
          ],
          "scatterternary": [
           {
            "marker": {
             "colorbar": {
              "outlinewidth": 0,
              "ticks": ""
             }
            },
            "type": "scatterternary"
           }
          ],
          "surface": [
           {
            "colorbar": {
             "outlinewidth": 0,
             "ticks": ""
            },
            "colorscale": [
             [
              0,
              "#0d0887"
             ],
             [
              0.1111111111111111,
              "#46039f"
             ],
             [
              0.2222222222222222,
              "#7201a8"
             ],
             [
              0.3333333333333333,
              "#9c179e"
             ],
             [
              0.4444444444444444,
              "#bd3786"
             ],
             [
              0.5555555555555556,
              "#d8576b"
             ],
             [
              0.6666666666666666,
              "#ed7953"
             ],
             [
              0.7777777777777778,
              "#fb9f3a"
             ],
             [
              0.8888888888888888,
              "#fdca26"
             ],
             [
              1,
              "#f0f921"
             ]
            ],
            "type": "surface"
           }
          ],
          "table": [
           {
            "cells": {
             "fill": {
              "color": "#EBF0F8"
             },
             "line": {
              "color": "white"
             }
            },
            "header": {
             "fill": {
              "color": "#C8D4E3"
             },
             "line": {
              "color": "white"
             }
            },
            "type": "table"
           }
          ]
         },
         "layout": {
          "annotationdefaults": {
           "arrowcolor": "#2a3f5f",
           "arrowhead": 0,
           "arrowwidth": 1
          },
          "autotypenumbers": "strict",
          "coloraxis": {
           "colorbar": {
            "outlinewidth": 0,
            "ticks": ""
           }
          },
          "colorscale": {
           "diverging": [
            [
             0,
             "#8e0152"
            ],
            [
             0.1,
             "#c51b7d"
            ],
            [
             0.2,
             "#de77ae"
            ],
            [
             0.3,
             "#f1b6da"
            ],
            [
             0.4,
             "#fde0ef"
            ],
            [
             0.5,
             "#f7f7f7"
            ],
            [
             0.6,
             "#e6f5d0"
            ],
            [
             0.7,
             "#b8e186"
            ],
            [
             0.8,
             "#7fbc41"
            ],
            [
             0.9,
             "#4d9221"
            ],
            [
             1,
             "#276419"
            ]
           ],
           "sequential": [
            [
             0,
             "#0d0887"
            ],
            [
             0.1111111111111111,
             "#46039f"
            ],
            [
             0.2222222222222222,
             "#7201a8"
            ],
            [
             0.3333333333333333,
             "#9c179e"
            ],
            [
             0.4444444444444444,
             "#bd3786"
            ],
            [
             0.5555555555555556,
             "#d8576b"
            ],
            [
             0.6666666666666666,
             "#ed7953"
            ],
            [
             0.7777777777777778,
             "#fb9f3a"
            ],
            [
             0.8888888888888888,
             "#fdca26"
            ],
            [
             1,
             "#f0f921"
            ]
           ],
           "sequentialminus": [
            [
             0,
             "#0d0887"
            ],
            [
             0.1111111111111111,
             "#46039f"
            ],
            [
             0.2222222222222222,
             "#7201a8"
            ],
            [
             0.3333333333333333,
             "#9c179e"
            ],
            [
             0.4444444444444444,
             "#bd3786"
            ],
            [
             0.5555555555555556,
             "#d8576b"
            ],
            [
             0.6666666666666666,
             "#ed7953"
            ],
            [
             0.7777777777777778,
             "#fb9f3a"
            ],
            [
             0.8888888888888888,
             "#fdca26"
            ],
            [
             1,
             "#f0f921"
            ]
           ]
          },
          "colorway": [
           "#636efa",
           "#EF553B",
           "#00cc96",
           "#ab63fa",
           "#FFA15A",
           "#19d3f3",
           "#FF6692",
           "#B6E880",
           "#FF97FF",
           "#FECB52"
          ],
          "font": {
           "color": "#2a3f5f"
          },
          "geo": {
           "bgcolor": "white",
           "lakecolor": "white",
           "landcolor": "white",
           "showlakes": true,
           "showland": true,
           "subunitcolor": "#C8D4E3"
          },
          "hoverlabel": {
           "align": "left"
          },
          "hovermode": "closest",
          "mapbox": {
           "style": "light"
          },
          "paper_bgcolor": "white",
          "plot_bgcolor": "white",
          "polar": {
           "angularaxis": {
            "gridcolor": "#EBF0F8",
            "linecolor": "#EBF0F8",
            "ticks": ""
           },
           "bgcolor": "white",
           "radialaxis": {
            "gridcolor": "#EBF0F8",
            "linecolor": "#EBF0F8",
            "ticks": ""
           }
          },
          "scene": {
           "xaxis": {
            "backgroundcolor": "white",
            "gridcolor": "#DFE8F3",
            "gridwidth": 2,
            "linecolor": "#EBF0F8",
            "showbackground": true,
            "ticks": "",
            "zerolinecolor": "#EBF0F8"
           },
           "yaxis": {
            "backgroundcolor": "white",
            "gridcolor": "#DFE8F3",
            "gridwidth": 2,
            "linecolor": "#EBF0F8",
            "showbackground": true,
            "ticks": "",
            "zerolinecolor": "#EBF0F8"
           },
           "zaxis": {
            "backgroundcolor": "white",
            "gridcolor": "#DFE8F3",
            "gridwidth": 2,
            "linecolor": "#EBF0F8",
            "showbackground": true,
            "ticks": "",
            "zerolinecolor": "#EBF0F8"
           }
          },
          "shapedefaults": {
           "line": {
            "color": "#2a3f5f"
           }
          },
          "ternary": {
           "aaxis": {
            "gridcolor": "#DFE8F3",
            "linecolor": "#A2B1C6",
            "ticks": ""
           },
           "baxis": {
            "gridcolor": "#DFE8F3",
            "linecolor": "#A2B1C6",
            "ticks": ""
           },
           "bgcolor": "white",
           "caxis": {
            "gridcolor": "#DFE8F3",
            "linecolor": "#A2B1C6",
            "ticks": ""
           }
          },
          "title": {
           "x": 0.05
          },
          "xaxis": {
           "automargin": true,
           "gridcolor": "#EBF0F8",
           "linecolor": "#EBF0F8",
           "ticks": "",
           "title": {
            "standoff": 15
           },
           "zerolinecolor": "#EBF0F8",
           "zerolinewidth": 2
          },
          "yaxis": {
           "automargin": true,
           "gridcolor": "#EBF0F8",
           "linecolor": "#EBF0F8",
           "ticks": "",
           "title": {
            "standoff": 15
           },
           "zerolinecolor": "#EBF0F8",
           "zerolinewidth": 2
          }
         }
        },
        "title": {
         "text": "<b>Cumulitative Abnormal Return: Mean & 99% Confidence Limits</b><br><i>Based on 48 non-missing events"
        },
        "xaxis": {
         "title": {
          "text": "Day Relative to Event"
         }
        },
        "yaxis": {
         "tickformat": ",.1%",
         "title": {
          "text": "Return"
         }
        }
       }
      }
     },
     "metadata": {},
     "output_type": "display_data"
    }
   ],
   "source": [
    "# Provide plotting function with a calculated bootstrap results to plot on the graph\n",
    "plot_mean_car(results_df, bootstrap_df=bootstrap_results_df, critical_value=0.99)"
   ]
  }
 ],
 "metadata": {
  "kernelspec": {
   "display_name": "py39",
   "language": "python",
   "name": "python3"
  },
  "language_info": {
   "codemirror_mode": {
    "name": "ipython",
    "version": 3
   },
   "file_extension": ".py",
   "mimetype": "text/x-python",
   "name": "python",
   "nbconvert_exporter": "python",
   "pygments_lexer": "ipython3",
   "version": "3.9.15"
  }
 },
 "nbformat": 4,
 "nbformat_minor": 2
}
