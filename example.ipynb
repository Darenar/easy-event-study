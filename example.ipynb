{
 "cells": [
  {
   "cell_type": "code",
   "execution_count": null,
   "metadata": {},
   "outputs": [],
   "source": [
    "# Install the package\n",
    "!pip install easy_es"
   ]
  },
  {
   "cell_type": "code",
   "execution_count": 1,
   "metadata": {},
   "outputs": [],
   "source": [
    "import pandas as pd\n",
    "\n",
    "from easy_es import EventStudy, plot_mean_car, calculate_car_stats, plot_joint_mean_car"
   ]
  },
  {
   "cell_type": "markdown",
   "metadata": {},
   "source": [
    "### Run single event study"
   ]
  },
  {
   "cell_type": "code",
   "execution_count": 2,
   "metadata": {},
   "outputs": [],
   "source": [
    "# Load test events\n",
    "events_df = pd.read_csv('https://raw.githubusercontent.com/Darenar/easy-event-study/main/tests/test_one/input_events.csv')"
   ]
  },
  {
   "cell_type": "code",
   "execution_count": 3,
   "metadata": {},
   "outputs": [
    {
     "name": "stderr",
     "output_type": "stream",
     "text": [
      "100%|██████████| 33/33 [00:18<00:00,  1.74it/s]\n"
     ]
    }
   ],
   "source": [
    "# Initialize EventStudy class object\n",
    "event_study = EventStudy(\n",
    "    estimation_days=255,\n",
    "    gap_days=50,\n",
    "    window_after=10,\n",
    "    window_before=10,\n",
    "    min_estimation_days=100,\n",
    "    estimator_type='ff5',\n",
    "    n_cores=1 # Change for multiprocessing\n",
    ")\n",
    "\n",
    "# Run the study\n",
    "results_df = event_study.run_study(events_df)"
   ]
  },
  {
   "cell_type": "code",
   "execution_count": 4,
   "metadata": {},
   "outputs": [
    {
     "data": {
      "text/html": [
       "<div>\n",
       "<style scoped>\n",
       "    .dataframe tbody tr th:only-of-type {\n",
       "        vertical-align: middle;\n",
       "    }\n",
       "\n",
       "    .dataframe tbody tr th {\n",
       "        vertical-align: top;\n",
       "    }\n",
       "\n",
       "    .dataframe thead th {\n",
       "        text-align: right;\n",
       "    }\n",
       "</style>\n",
       "<table border=\"1\" class=\"dataframe\">\n",
       "  <thead>\n",
       "    <tr style=\"text-align: right;\">\n",
       "      <th></th>\n",
       "      <th>mean</th>\n",
       "      <th>median</th>\n",
       "      <th>sd</th>\n",
       "      <th>t_stat</th>\n",
       "      <th>p_value</th>\n",
       "      <th>upper_ci</th>\n",
       "      <th>lower_ci</th>\n",
       "    </tr>\n",
       "    <tr>\n",
       "      <th>Offset</th>\n",
       "      <th></th>\n",
       "      <th></th>\n",
       "      <th></th>\n",
       "      <th></th>\n",
       "      <th></th>\n",
       "      <th></th>\n",
       "      <th></th>\n",
       "    </tr>\n",
       "  </thead>\n",
       "  <tbody>\n",
       "    <tr>\n",
       "      <th>-10</th>\n",
       "      <td>-0.005119</td>\n",
       "      <td>-0.003075</td>\n",
       "      <td>0.002696</td>\n",
       "      <td>-1.898445</td>\n",
       "      <td>0.058</td>\n",
       "      <td>0.000166</td>\n",
       "      <td>-0.010403</td>\n",
       "    </tr>\n",
       "    <tr>\n",
       "      <th>-9</th>\n",
       "      <td>-0.006913</td>\n",
       "      <td>-0.005001</td>\n",
       "      <td>0.003902</td>\n",
       "      <td>-1.771815</td>\n",
       "      <td>0.076</td>\n",
       "      <td>0.000734</td>\n",
       "      <td>-0.014561</td>\n",
       "    </tr>\n",
       "    <tr>\n",
       "      <th>-8</th>\n",
       "      <td>-0.008918</td>\n",
       "      <td>-0.003972</td>\n",
       "      <td>0.006029</td>\n",
       "      <td>-1.479155</td>\n",
       "      <td>0.139</td>\n",
       "      <td>0.002899</td>\n",
       "      <td>-0.020736</td>\n",
       "    </tr>\n",
       "    <tr>\n",
       "      <th>-7</th>\n",
       "      <td>-0.009972</td>\n",
       "      <td>-0.004459</td>\n",
       "      <td>0.006938</td>\n",
       "      <td>-1.437230</td>\n",
       "      <td>0.151</td>\n",
       "      <td>0.003627</td>\n",
       "      <td>-0.023571</td>\n",
       "    </tr>\n",
       "    <tr>\n",
       "      <th>-6</th>\n",
       "      <td>-0.014504</td>\n",
       "      <td>-0.002461</td>\n",
       "      <td>0.007390</td>\n",
       "      <td>-1.962643</td>\n",
       "      <td>0.050</td>\n",
       "      <td>-0.000020</td>\n",
       "      <td>-0.028989</td>\n",
       "    </tr>\n",
       "    <tr>\n",
       "      <th>-5</th>\n",
       "      <td>-0.008355</td>\n",
       "      <td>0.002768</td>\n",
       "      <td>0.008282</td>\n",
       "      <td>-1.008808</td>\n",
       "      <td>0.313</td>\n",
       "      <td>0.007877</td>\n",
       "      <td>-0.024587</td>\n",
       "    </tr>\n",
       "    <tr>\n",
       "      <th>-4</th>\n",
       "      <td>-0.008015</td>\n",
       "      <td>0.002879</td>\n",
       "      <td>0.009823</td>\n",
       "      <td>-0.815919</td>\n",
       "      <td>0.415</td>\n",
       "      <td>0.011238</td>\n",
       "      <td>-0.027267</td>\n",
       "    </tr>\n",
       "    <tr>\n",
       "      <th>-3</th>\n",
       "      <td>-0.008249</td>\n",
       "      <td>0.003756</td>\n",
       "      <td>0.010280</td>\n",
       "      <td>-0.802499</td>\n",
       "      <td>0.422</td>\n",
       "      <td>0.011898</td>\n",
       "      <td>-0.028397</td>\n",
       "    </tr>\n",
       "    <tr>\n",
       "      <th>-2</th>\n",
       "      <td>-0.005908</td>\n",
       "      <td>-0.001566</td>\n",
       "      <td>0.010336</td>\n",
       "      <td>-0.571540</td>\n",
       "      <td>0.568</td>\n",
       "      <td>0.014351</td>\n",
       "      <td>-0.026167</td>\n",
       "    </tr>\n",
       "    <tr>\n",
       "      <th>-1</th>\n",
       "      <td>-0.005857</td>\n",
       "      <td>0.000842</td>\n",
       "      <td>0.010437</td>\n",
       "      <td>-0.561196</td>\n",
       "      <td>0.575</td>\n",
       "      <td>0.014599</td>\n",
       "      <td>-0.026314</td>\n",
       "    </tr>\n",
       "    <tr>\n",
       "      <th>0</th>\n",
       "      <td>0.199683</td>\n",
       "      <td>0.182320</td>\n",
       "      <td>0.016413</td>\n",
       "      <td>12.166381</td>\n",
       "      <td>0.000</td>\n",
       "      <td>0.231852</td>\n",
       "      <td>0.167515</td>\n",
       "    </tr>\n",
       "    <tr>\n",
       "      <th>1</th>\n",
       "      <td>0.195113</td>\n",
       "      <td>0.184524</td>\n",
       "      <td>0.014377</td>\n",
       "      <td>13.570816</td>\n",
       "      <td>0.000</td>\n",
       "      <td>0.223292</td>\n",
       "      <td>0.166934</td>\n",
       "    </tr>\n",
       "    <tr>\n",
       "      <th>2</th>\n",
       "      <td>0.193129</td>\n",
       "      <td>0.180037</td>\n",
       "      <td>0.015790</td>\n",
       "      <td>12.230928</td>\n",
       "      <td>0.000</td>\n",
       "      <td>0.224077</td>\n",
       "      <td>0.162181</td>\n",
       "    </tr>\n",
       "    <tr>\n",
       "      <th>3</th>\n",
       "      <td>0.195889</td>\n",
       "      <td>0.181099</td>\n",
       "      <td>0.015707</td>\n",
       "      <td>12.471700</td>\n",
       "      <td>0.000</td>\n",
       "      <td>0.226674</td>\n",
       "      <td>0.165105</td>\n",
       "    </tr>\n",
       "    <tr>\n",
       "      <th>4</th>\n",
       "      <td>0.195915</td>\n",
       "      <td>0.177109</td>\n",
       "      <td>0.015143</td>\n",
       "      <td>12.937638</td>\n",
       "      <td>0.000</td>\n",
       "      <td>0.225595</td>\n",
       "      <td>0.166236</td>\n",
       "    </tr>\n",
       "    <tr>\n",
       "      <th>5</th>\n",
       "      <td>0.195478</td>\n",
       "      <td>0.173240</td>\n",
       "      <td>0.015248</td>\n",
       "      <td>12.819771</td>\n",
       "      <td>0.000</td>\n",
       "      <td>0.225364</td>\n",
       "      <td>0.165592</td>\n",
       "    </tr>\n",
       "    <tr>\n",
       "      <th>6</th>\n",
       "      <td>0.198312</td>\n",
       "      <td>0.174393</td>\n",
       "      <td>0.014407</td>\n",
       "      <td>13.764765</td>\n",
       "      <td>0.000</td>\n",
       "      <td>0.226549</td>\n",
       "      <td>0.170074</td>\n",
       "    </tr>\n",
       "    <tr>\n",
       "      <th>7</th>\n",
       "      <td>0.197357</td>\n",
       "      <td>0.174934</td>\n",
       "      <td>0.014842</td>\n",
       "      <td>13.297291</td>\n",
       "      <td>0.000</td>\n",
       "      <td>0.226446</td>\n",
       "      <td>0.168267</td>\n",
       "    </tr>\n",
       "    <tr>\n",
       "      <th>8</th>\n",
       "      <td>0.196842</td>\n",
       "      <td>0.176545</td>\n",
       "      <td>0.015074</td>\n",
       "      <td>13.058183</td>\n",
       "      <td>0.000</td>\n",
       "      <td>0.226387</td>\n",
       "      <td>0.167297</td>\n",
       "    </tr>\n",
       "    <tr>\n",
       "      <th>9</th>\n",
       "      <td>0.196486</td>\n",
       "      <td>0.191662</td>\n",
       "      <td>0.015618</td>\n",
       "      <td>12.580374</td>\n",
       "      <td>0.000</td>\n",
       "      <td>0.227098</td>\n",
       "      <td>0.165875</td>\n",
       "    </tr>\n",
       "    <tr>\n",
       "      <th>10</th>\n",
       "      <td>0.194380</td>\n",
       "      <td>0.188896</td>\n",
       "      <td>0.015924</td>\n",
       "      <td>12.206759</td>\n",
       "      <td>0.000</td>\n",
       "      <td>0.225591</td>\n",
       "      <td>0.163170</td>\n",
       "    </tr>\n",
       "  </tbody>\n",
       "</table>\n",
       "</div>"
      ],
      "text/plain": [
       "            mean    median        sd     t_stat  p_value  upper_ci  lower_ci\n",
       "Offset                                                                      \n",
       "-10    -0.005119 -0.003075  0.002696  -1.898445    0.058  0.000166 -0.010403\n",
       "-9     -0.006913 -0.005001  0.003902  -1.771815    0.076  0.000734 -0.014561\n",
       "-8     -0.008918 -0.003972  0.006029  -1.479155    0.139  0.002899 -0.020736\n",
       "-7     -0.009972 -0.004459  0.006938  -1.437230    0.151  0.003627 -0.023571\n",
       "-6     -0.014504 -0.002461  0.007390  -1.962643    0.050 -0.000020 -0.028989\n",
       "-5     -0.008355  0.002768  0.008282  -1.008808    0.313  0.007877 -0.024587\n",
       "-4     -0.008015  0.002879  0.009823  -0.815919    0.415  0.011238 -0.027267\n",
       "-3     -0.008249  0.003756  0.010280  -0.802499    0.422  0.011898 -0.028397\n",
       "-2     -0.005908 -0.001566  0.010336  -0.571540    0.568  0.014351 -0.026167\n",
       "-1     -0.005857  0.000842  0.010437  -0.561196    0.575  0.014599 -0.026314\n",
       " 0      0.199683  0.182320  0.016413  12.166381    0.000  0.231852  0.167515\n",
       " 1      0.195113  0.184524  0.014377  13.570816    0.000  0.223292  0.166934\n",
       " 2      0.193129  0.180037  0.015790  12.230928    0.000  0.224077  0.162181\n",
       " 3      0.195889  0.181099  0.015707  12.471700    0.000  0.226674  0.165105\n",
       " 4      0.195915  0.177109  0.015143  12.937638    0.000  0.225595  0.166236\n",
       " 5      0.195478  0.173240  0.015248  12.819771    0.000  0.225364  0.165592\n",
       " 6      0.198312  0.174393  0.014407  13.764765    0.000  0.226549  0.170074\n",
       " 7      0.197357  0.174934  0.014842  13.297291    0.000  0.226446  0.168267\n",
       " 8      0.196842  0.176545  0.015074  13.058183    0.000  0.226387  0.167297\n",
       " 9      0.196486  0.191662  0.015618  12.580374    0.000  0.227098  0.165875\n",
       " 10     0.194380  0.188896  0.015924  12.206759    0.000  0.225591  0.163170"
      ]
     },
     "execution_count": 4,
     "metadata": {},
     "output_type": "execute_result"
    }
   ],
   "source": [
    "# Calculate average results in a dataframe format\n",
    "calculate_car_stats(results_df, critical_value=0.95)"
   ]
  },
  {
   "cell_type": "code",
   "execution_count": 5,
   "metadata": {},
   "outputs": [
    {
     "data": {
      "application/vnd.plotly.v1+json": {
       "config": {
        "plotlyServerURL": "https://plot.ly"
       },
       "data": [
        {
         "line": {
          "color": "rgb(0, 0, 255)"
         },
         "mode": "lines",
         "name": "Mean",
         "showlegend": true,
         "type": "scatter",
         "x": [
          -10,
          -9,
          -8,
          -7,
          -6,
          -5,
          -4,
          -3,
          -2,
          -1,
          0,
          1,
          2,
          3,
          4,
          5,
          6,
          7,
          8,
          9,
          10
         ],
         "y": [
          -0.005118783043640916,
          -0.006913287139906638,
          -0.00891835241961774,
          -0.009971872218175849,
          -0.014504329171941208,
          -0.008354804452314832,
          -0.008014601428249066,
          -0.00824947633379572,
          -0.005907705299233872,
          -0.005857249016890976,
          0.1996834067352253,
          0.19511308275429337,
          0.19312881987645056,
          0.1958893985595717,
          0.19591546832487172,
          0.19547810385840328,
          0.19831169477221855,
          0.1973566735261946,
          0.196841839167088,
          0.19648648770028046,
          0.1943803359699907
         ]
        },
        {
         "line": {
          "color": "rgba(0, 0, 255, 0.5)",
          "dash": "dash",
          "width": 1
         },
         "mode": "lines",
         "name": "Mean + 1.64SE",
         "showlegend": true,
         "type": "scatter",
         "x": [
          -10,
          -9,
          -8,
          -7,
          -6,
          -5,
          -4,
          -3,
          -2,
          -1,
          0,
          1,
          2,
          3,
          4,
          5,
          6,
          7,
          8,
          9,
          10
         ],
         "y": [
          -0.0006837592870252507,
          -0.0004953787070888505,
          0.0009990549632001855,
          0.0014405483272408176,
          -0.002348530831017319,
          0.005267642426543298,
          0.008142448240371523,
          0.00865919000724861,
          0.011094281767234787,
          0.011310234031808235,
          0.22667992983973528,
          0.21876180513546056,
          0.21910139092361802,
          0.22172463970410808,
          0.22082359068631596,
          0.22055911858922508,
          0.22200942647069163,
          0.22176937814225653,
          0.22163671494306078,
          0.2221766234070407,
          0.2205729717260725
         ]
        },
        {
         "fill": "tonextx",
         "fillcolor": "rgba(0, 0, 255,0.1)",
         "line": {
          "color": "rgba(0, 0, 255, 0.5)",
          "dash": "dash",
          "width": 1
         },
         "mode": "lines",
         "name": "ShadedArea",
         "showlegend": false,
         "type": "scatter",
         "x": [
          -10,
          -9,
          -8,
          -7,
          -6,
          -5,
          -4,
          -3,
          -2,
          -1,
          0,
          1,
          2,
          3,
          4,
          5,
          6,
          7,
          8,
          9,
          10
         ],
         "y": [
          -0.009553806800256581,
          -0.013331195572724426,
          -0.018835759802435667,
          -0.021384292763592515,
          -0.026660127512865096,
          -0.02197725133117296,
          -0.024171651096869654,
          -0.025158142674840053,
          -0.022909692365702533,
          -0.02302473206559019,
          0.17268688363071533,
          0.17146436037312618,
          0.1671562488292831,
          0.1700541574150353,
          0.17100734596342748,
          0.17039708912758147,
          0.17461396307374547,
          0.17294396891013267,
          0.17204696339111522,
          0.17079635199352022,
          0.1681877002139089
         ]
        },
        {
         "line": {
          "color": "rgba(0, 0, 255, 0.5)",
          "dash": "dash",
          "width": 1
         },
         "mode": "lines",
         "name": "Mean - 1.64SE",
         "showlegend": true,
         "type": "scatter",
         "x": [
          -10,
          -9,
          -8,
          -7,
          -6,
          -5,
          -4,
          -3,
          -2,
          -1,
          0,
          1,
          2,
          3,
          4,
          5,
          6,
          7,
          8,
          9,
          10
         ],
         "y": [
          -0.009553806800256581,
          -0.013331195572724426,
          -0.018835759802435667,
          -0.021384292763592515,
          -0.026660127512865096,
          -0.02197725133117296,
          -0.024171651096869654,
          -0.025158142674840053,
          -0.022909692365702533,
          -0.02302473206559019,
          0.17268688363071533,
          0.17146436037312618,
          0.1671562488292831,
          0.1700541574150353,
          0.17100734596342748,
          0.17039708912758147,
          0.17461396307374547,
          0.17294396891013267,
          0.17204696339111522,
          0.17079635199352022,
          0.1681877002139089
         ]
        }
       ],
       "layout": {
        "legend": {
         "orientation": "h",
         "x": 0.5,
         "xanchor": "center",
         "y": -0.2
        },
        "shapes": [
         {
          "line": {
           "color": "rgba(0, 0,0, 0.5)",
           "width": 1
          },
          "type": "line",
          "x0": 0,
          "x1": 0,
          "xref": "x",
          "y0": 0,
          "y1": 1,
          "yref": "y domain"
         },
         {
          "line": {
           "color": "rgba(0, 0,0, 0.5)",
           "width": 1
          },
          "type": "line",
          "x0": 0,
          "x1": 1,
          "xref": "x domain",
          "y0": 0,
          "y1": 0,
          "yref": "y"
         }
        ],
        "template": {
         "data": {
          "bar": [
           {
            "error_x": {
             "color": "#2a3f5f"
            },
            "error_y": {
             "color": "#2a3f5f"
            },
            "marker": {
             "line": {
              "color": "white",
              "width": 0.5
             },
             "pattern": {
              "fillmode": "overlay",
              "size": 10,
              "solidity": 0.2
             }
            },
            "type": "bar"
           }
          ],
          "barpolar": [
           {
            "marker": {
             "line": {
              "color": "white",
              "width": 0.5
             },
             "pattern": {
              "fillmode": "overlay",
              "size": 10,
              "solidity": 0.2
             }
            },
            "type": "barpolar"
           }
          ],
          "carpet": [
           {
            "aaxis": {
             "endlinecolor": "#2a3f5f",
             "gridcolor": "#C8D4E3",
             "linecolor": "#C8D4E3",
             "minorgridcolor": "#C8D4E3",
             "startlinecolor": "#2a3f5f"
            },
            "baxis": {
             "endlinecolor": "#2a3f5f",
             "gridcolor": "#C8D4E3",
             "linecolor": "#C8D4E3",
             "minorgridcolor": "#C8D4E3",
             "startlinecolor": "#2a3f5f"
            },
            "type": "carpet"
           }
          ],
          "choropleth": [
           {
            "colorbar": {
             "outlinewidth": 0,
             "ticks": ""
            },
            "type": "choropleth"
           }
          ],
          "contour": [
           {
            "colorbar": {
             "outlinewidth": 0,
             "ticks": ""
            },
            "colorscale": [
             [
              0,
              "#0d0887"
             ],
             [
              0.1111111111111111,
              "#46039f"
             ],
             [
              0.2222222222222222,
              "#7201a8"
             ],
             [
              0.3333333333333333,
              "#9c179e"
             ],
             [
              0.4444444444444444,
              "#bd3786"
             ],
             [
              0.5555555555555556,
              "#d8576b"
             ],
             [
              0.6666666666666666,
              "#ed7953"
             ],
             [
              0.7777777777777778,
              "#fb9f3a"
             ],
             [
              0.8888888888888888,
              "#fdca26"
             ],
             [
              1,
              "#f0f921"
             ]
            ],
            "type": "contour"
           }
          ],
          "contourcarpet": [
           {
            "colorbar": {
             "outlinewidth": 0,
             "ticks": ""
            },
            "type": "contourcarpet"
           }
          ],
          "heatmap": [
           {
            "colorbar": {
             "outlinewidth": 0,
             "ticks": ""
            },
            "colorscale": [
             [
              0,
              "#0d0887"
             ],
             [
              0.1111111111111111,
              "#46039f"
             ],
             [
              0.2222222222222222,
              "#7201a8"
             ],
             [
              0.3333333333333333,
              "#9c179e"
             ],
             [
              0.4444444444444444,
              "#bd3786"
             ],
             [
              0.5555555555555556,
              "#d8576b"
             ],
             [
              0.6666666666666666,
              "#ed7953"
             ],
             [
              0.7777777777777778,
              "#fb9f3a"
             ],
             [
              0.8888888888888888,
              "#fdca26"
             ],
             [
              1,
              "#f0f921"
             ]
            ],
            "type": "heatmap"
           }
          ],
          "heatmapgl": [
           {
            "colorbar": {
             "outlinewidth": 0,
             "ticks": ""
            },
            "colorscale": [
             [
              0,
              "#0d0887"
             ],
             [
              0.1111111111111111,
              "#46039f"
             ],
             [
              0.2222222222222222,
              "#7201a8"
             ],
             [
              0.3333333333333333,
              "#9c179e"
             ],
             [
              0.4444444444444444,
              "#bd3786"
             ],
             [
              0.5555555555555556,
              "#d8576b"
             ],
             [
              0.6666666666666666,
              "#ed7953"
             ],
             [
              0.7777777777777778,
              "#fb9f3a"
             ],
             [
              0.8888888888888888,
              "#fdca26"
             ],
             [
              1,
              "#f0f921"
             ]
            ],
            "type": "heatmapgl"
           }
          ],
          "histogram": [
           {
            "marker": {
             "pattern": {
              "fillmode": "overlay",
              "size": 10,
              "solidity": 0.2
             }
            },
            "type": "histogram"
           }
          ],
          "histogram2d": [
           {
            "colorbar": {
             "outlinewidth": 0,
             "ticks": ""
            },
            "colorscale": [
             [
              0,
              "#0d0887"
             ],
             [
              0.1111111111111111,
              "#46039f"
             ],
             [
              0.2222222222222222,
              "#7201a8"
             ],
             [
              0.3333333333333333,
              "#9c179e"
             ],
             [
              0.4444444444444444,
              "#bd3786"
             ],
             [
              0.5555555555555556,
              "#d8576b"
             ],
             [
              0.6666666666666666,
              "#ed7953"
             ],
             [
              0.7777777777777778,
              "#fb9f3a"
             ],
             [
              0.8888888888888888,
              "#fdca26"
             ],
             [
              1,
              "#f0f921"
             ]
            ],
            "type": "histogram2d"
           }
          ],
          "histogram2dcontour": [
           {
            "colorbar": {
             "outlinewidth": 0,
             "ticks": ""
            },
            "colorscale": [
             [
              0,
              "#0d0887"
             ],
             [
              0.1111111111111111,
              "#46039f"
             ],
             [
              0.2222222222222222,
              "#7201a8"
             ],
             [
              0.3333333333333333,
              "#9c179e"
             ],
             [
              0.4444444444444444,
              "#bd3786"
             ],
             [
              0.5555555555555556,
              "#d8576b"
             ],
             [
              0.6666666666666666,
              "#ed7953"
             ],
             [
              0.7777777777777778,
              "#fb9f3a"
             ],
             [
              0.8888888888888888,
              "#fdca26"
             ],
             [
              1,
              "#f0f921"
             ]
            ],
            "type": "histogram2dcontour"
           }
          ],
          "mesh3d": [
           {
            "colorbar": {
             "outlinewidth": 0,
             "ticks": ""
            },
            "type": "mesh3d"
           }
          ],
          "parcoords": [
           {
            "line": {
             "colorbar": {
              "outlinewidth": 0,
              "ticks": ""
             }
            },
            "type": "parcoords"
           }
          ],
          "pie": [
           {
            "automargin": true,
            "type": "pie"
           }
          ],
          "scatter": [
           {
            "fillpattern": {
             "fillmode": "overlay",
             "size": 10,
             "solidity": 0.2
            },
            "type": "scatter"
           }
          ],
          "scatter3d": [
           {
            "line": {
             "colorbar": {
              "outlinewidth": 0,
              "ticks": ""
             }
            },
            "marker": {
             "colorbar": {
              "outlinewidth": 0,
              "ticks": ""
             }
            },
            "type": "scatter3d"
           }
          ],
          "scattercarpet": [
           {
            "marker": {
             "colorbar": {
              "outlinewidth": 0,
              "ticks": ""
             }
            },
            "type": "scattercarpet"
           }
          ],
          "scattergeo": [
           {
            "marker": {
             "colorbar": {
              "outlinewidth": 0,
              "ticks": ""
             }
            },
            "type": "scattergeo"
           }
          ],
          "scattergl": [
           {
            "marker": {
             "colorbar": {
              "outlinewidth": 0,
              "ticks": ""
             }
            },
            "type": "scattergl"
           }
          ],
          "scattermapbox": [
           {
            "marker": {
             "colorbar": {
              "outlinewidth": 0,
              "ticks": ""
             }
            },
            "type": "scattermapbox"
           }
          ],
          "scatterpolar": [
           {
            "marker": {
             "colorbar": {
              "outlinewidth": 0,
              "ticks": ""
             }
            },
            "type": "scatterpolar"
           }
          ],
          "scatterpolargl": [
           {
            "marker": {
             "colorbar": {
              "outlinewidth": 0,
              "ticks": ""
             }
            },
            "type": "scatterpolargl"
           }
          ],
          "scatterternary": [
           {
            "marker": {
             "colorbar": {
              "outlinewidth": 0,
              "ticks": ""
             }
            },
            "type": "scatterternary"
           }
          ],
          "surface": [
           {
            "colorbar": {
             "outlinewidth": 0,
             "ticks": ""
            },
            "colorscale": [
             [
              0,
              "#0d0887"
             ],
             [
              0.1111111111111111,
              "#46039f"
             ],
             [
              0.2222222222222222,
              "#7201a8"
             ],
             [
              0.3333333333333333,
              "#9c179e"
             ],
             [
              0.4444444444444444,
              "#bd3786"
             ],
             [
              0.5555555555555556,
              "#d8576b"
             ],
             [
              0.6666666666666666,
              "#ed7953"
             ],
             [
              0.7777777777777778,
              "#fb9f3a"
             ],
             [
              0.8888888888888888,
              "#fdca26"
             ],
             [
              1,
              "#f0f921"
             ]
            ],
            "type": "surface"
           }
          ],
          "table": [
           {
            "cells": {
             "fill": {
              "color": "#EBF0F8"
             },
             "line": {
              "color": "white"
             }
            },
            "header": {
             "fill": {
              "color": "#C8D4E3"
             },
             "line": {
              "color": "white"
             }
            },
            "type": "table"
           }
          ]
         },
         "layout": {
          "annotationdefaults": {
           "arrowcolor": "#2a3f5f",
           "arrowhead": 0,
           "arrowwidth": 1
          },
          "autotypenumbers": "strict",
          "coloraxis": {
           "colorbar": {
            "outlinewidth": 0,
            "ticks": ""
           }
          },
          "colorscale": {
           "diverging": [
            [
             0,
             "#8e0152"
            ],
            [
             0.1,
             "#c51b7d"
            ],
            [
             0.2,
             "#de77ae"
            ],
            [
             0.3,
             "#f1b6da"
            ],
            [
             0.4,
             "#fde0ef"
            ],
            [
             0.5,
             "#f7f7f7"
            ],
            [
             0.6,
             "#e6f5d0"
            ],
            [
             0.7,
             "#b8e186"
            ],
            [
             0.8,
             "#7fbc41"
            ],
            [
             0.9,
             "#4d9221"
            ],
            [
             1,
             "#276419"
            ]
           ],
           "sequential": [
            [
             0,
             "#0d0887"
            ],
            [
             0.1111111111111111,
             "#46039f"
            ],
            [
             0.2222222222222222,
             "#7201a8"
            ],
            [
             0.3333333333333333,
             "#9c179e"
            ],
            [
             0.4444444444444444,
             "#bd3786"
            ],
            [
             0.5555555555555556,
             "#d8576b"
            ],
            [
             0.6666666666666666,
             "#ed7953"
            ],
            [
             0.7777777777777778,
             "#fb9f3a"
            ],
            [
             0.8888888888888888,
             "#fdca26"
            ],
            [
             1,
             "#f0f921"
            ]
           ],
           "sequentialminus": [
            [
             0,
             "#0d0887"
            ],
            [
             0.1111111111111111,
             "#46039f"
            ],
            [
             0.2222222222222222,
             "#7201a8"
            ],
            [
             0.3333333333333333,
             "#9c179e"
            ],
            [
             0.4444444444444444,
             "#bd3786"
            ],
            [
             0.5555555555555556,
             "#d8576b"
            ],
            [
             0.6666666666666666,
             "#ed7953"
            ],
            [
             0.7777777777777778,
             "#fb9f3a"
            ],
            [
             0.8888888888888888,
             "#fdca26"
            ],
            [
             1,
             "#f0f921"
            ]
           ]
          },
          "colorway": [
           "#636efa",
           "#EF553B",
           "#00cc96",
           "#ab63fa",
           "#FFA15A",
           "#19d3f3",
           "#FF6692",
           "#B6E880",
           "#FF97FF",
           "#FECB52"
          ],
          "font": {
           "color": "#2a3f5f"
          },
          "geo": {
           "bgcolor": "white",
           "lakecolor": "white",
           "landcolor": "white",
           "showlakes": true,
           "showland": true,
           "subunitcolor": "#C8D4E3"
          },
          "hoverlabel": {
           "align": "left"
          },
          "hovermode": "closest",
          "mapbox": {
           "style": "light"
          },
          "paper_bgcolor": "white",
          "plot_bgcolor": "white",
          "polar": {
           "angularaxis": {
            "gridcolor": "#EBF0F8",
            "linecolor": "#EBF0F8",
            "ticks": ""
           },
           "bgcolor": "white",
           "radialaxis": {
            "gridcolor": "#EBF0F8",
            "linecolor": "#EBF0F8",
            "ticks": ""
           }
          },
          "scene": {
           "xaxis": {
            "backgroundcolor": "white",
            "gridcolor": "#DFE8F3",
            "gridwidth": 2,
            "linecolor": "#EBF0F8",
            "showbackground": true,
            "ticks": "",
            "zerolinecolor": "#EBF0F8"
           },
           "yaxis": {
            "backgroundcolor": "white",
            "gridcolor": "#DFE8F3",
            "gridwidth": 2,
            "linecolor": "#EBF0F8",
            "showbackground": true,
            "ticks": "",
            "zerolinecolor": "#EBF0F8"
           },
           "zaxis": {
            "backgroundcolor": "white",
            "gridcolor": "#DFE8F3",
            "gridwidth": 2,
            "linecolor": "#EBF0F8",
            "showbackground": true,
            "ticks": "",
            "zerolinecolor": "#EBF0F8"
           }
          },
          "shapedefaults": {
           "line": {
            "color": "#2a3f5f"
           }
          },
          "ternary": {
           "aaxis": {
            "gridcolor": "#DFE8F3",
            "linecolor": "#A2B1C6",
            "ticks": ""
           },
           "baxis": {
            "gridcolor": "#DFE8F3",
            "linecolor": "#A2B1C6",
            "ticks": ""
           },
           "bgcolor": "white",
           "caxis": {
            "gridcolor": "#DFE8F3",
            "linecolor": "#A2B1C6",
            "ticks": ""
           }
          },
          "title": {
           "x": 0.05
          },
          "xaxis": {
           "automargin": true,
           "gridcolor": "#EBF0F8",
           "linecolor": "#EBF0F8",
           "ticks": "",
           "title": {
            "standoff": 15
           },
           "zerolinecolor": "#EBF0F8",
           "zerolinewidth": 2
          },
          "yaxis": {
           "automargin": true,
           "gridcolor": "#EBF0F8",
           "linecolor": "#EBF0F8",
           "ticks": "",
           "title": {
            "standoff": 15
           },
           "zerolinecolor": "#EBF0F8",
           "zerolinewidth": 2
          }
         }
        },
        "title": {
         "text": "<b>Cumulitative Abnormal Return: Mean & 90% Confidence Limits</b><br><i>Based on 48 non-missing events"
        },
        "xaxis": {
         "title": {
          "text": "Day Relative to Event"
         }
        },
        "yaxis": {
         "tickformat": ",.1%",
         "title": {
          "text": "Return"
         }
        }
       }
      }
     },
     "metadata": {},
     "output_type": "display_data"
    }
   ],
   "source": [
    "# Plot graph with the results\n",
    "plot_mean_car(results_df, critical_value=0.9)"
   ]
  },
  {
   "cell_type": "markdown",
   "metadata": {},
   "source": [
    "### Pre-loading returns data"
   ]
  },
  {
   "cell_type": "code",
   "execution_count": 6,
   "metadata": {},
   "outputs": [
    {
     "name": "stderr",
     "output_type": "stream",
     "text": [
      "100%|██████████| 33/33 [00:19<00:00,  1.68it/s]\n"
     ]
    }
   ],
   "source": [
    "### One can explicitely load the returns data and to dump into a CSV file \n",
    "event_study.add_returns(\n",
    "    list_of_tickers=events_df['ticker'].unique(),\n",
    "    min_date=events_df['event_date'].min(),\n",
    "    max_date=events_df['event_date'].max()\n",
    ")\n",
    "event_study.returns_df.to_csv('returns_test_dump.csv', index=False)"
   ]
  },
  {
   "cell_type": "code",
   "execution_count": 7,
   "metadata": {},
   "outputs": [],
   "source": [
    "# Then to reload it and initialize the event-study with pre-loaded returns\n",
    "event_study = EventStudy(\n",
    "    estimation_days=255,\n",
    "    gap_days=50,\n",
    "    window_after=10,\n",
    "    window_before=10,\n",
    "    min_estimation_days=100,\n",
    "    estimator_type='ff5'\n",
    ")\n",
    "event_study.add_returns(ret_df=pd.read_csv('returns_test_dump.csv'))\n",
    "\n",
    "# Run the study\n",
    "results_df = event_study.run_study(events_df)"
   ]
  },
  {
   "cell_type": "markdown",
   "metadata": {},
   "source": [
    "### Plotting two event study results together"
   ]
  },
  {
   "cell_type": "code",
   "execution_count": 8,
   "metadata": {},
   "outputs": [
    {
     "name": "stderr",
     "output_type": "stream",
     "text": [
      "100%|██████████| 33/33 [00:19<00:00,  1.71it/s]\n"
     ]
    }
   ],
   "source": [
    "# Run first event study\n",
    "events_df_one = pd.read_csv('https://raw.githubusercontent.com/Darenar/easy-event-study/main/tests/test_one/input_events.csv')\n",
    "event_study_one = EventStudy(\n",
    "    estimation_days=255,\n",
    "    gap_days=50,\n",
    "    window_after=10,\n",
    "    window_before=10,\n",
    "    min_estimation_days=100,\n",
    "    estimator_type='ff5'\n",
    ")\n",
    "result_one = event_study_one.run_study(events_df_one)"
   ]
  },
  {
   "cell_type": "code",
   "execution_count": 9,
   "metadata": {},
   "outputs": [
    {
     "name": "stderr",
     "output_type": "stream",
     "text": [
      "100%|██████████| 41/41 [00:23<00:00,  1.73it/s]\n"
     ]
    }
   ],
   "source": [
    "# Run second event study\n",
    "events_df_two = pd.read_csv('https://raw.githubusercontent.com/Darenar/easy-event-study/main/tests/test_two/input_events.csv')\n",
    "event_study_two = EventStudy(\n",
    "    estimation_days=255,\n",
    "    gap_days=50,\n",
    "    window_after=10,\n",
    "    window_before=10,\n",
    "    min_estimation_days=100,\n",
    "    estimator_type='ff5'\n",
    "    \n",
    ")\n",
    "result_two = event_study_two.run_study(events_df_two)"
   ]
  },
  {
   "cell_type": "code",
   "execution_count": 10,
   "metadata": {},
   "outputs": [
    {
     "data": {
      "application/vnd.plotly.v1+json": {
       "config": {
        "plotlyServerURL": "https://plot.ly"
       },
       "data": [
        {
         "legendgroup": "group2",
         "legendgrouptitle": {
          "text": "<b>Decrease</b> (49 events)"
         },
         "line": {
          "color": "rgb(0, 153, 0)"
         },
         "mode": "lines",
         "name": "Mean",
         "showlegend": true,
         "type": "scatter",
         "x": [
          -10,
          -9,
          -8,
          -7,
          -6,
          -5,
          -4,
          -3,
          -2,
          -1,
          0,
          1,
          2,
          3,
          4,
          5,
          6,
          7,
          8,
          9,
          10
         ],
         "y": [
          -0.0025297293646720912,
          -0.0023523075809771038,
          -0.0005473970966172067,
          -0.001382818856404387,
          -0.00027420789779391256,
          0.000794514453361723,
          0.0014757892406386246,
          0.0034890057683672968,
          0.009047724505672478,
          0.011990376141366216,
          -0.08658420888863219,
          -0.08623052365439925,
          -0.09093617734209486,
          -0.09603532231149964,
          -0.09561617880045564,
          -0.09364281537120807,
          -0.09384648785749233,
          -0.09503181304994264,
          -0.09176435717291488,
          -0.09149628308352645,
          -0.09399712458562087
         ]
        },
        {
         "legendgroup": "group2",
         "legendgrouptitle": {
          "text": "<b>Decrease</b> (49 events)"
         },
         "line": {
          "color": "rgba(0, 153, 0, 0.5)",
          "dash": "dash",
          "width": 1
         },
         "mode": "lines",
         "name": "Mean + 1.96SE",
         "showlegend": true,
         "type": "scatter",
         "x": [
          -10,
          -9,
          -8,
          -7,
          -6,
          -5,
          -4,
          -3,
          -2,
          -1,
          0,
          1,
          2,
          3,
          4,
          5,
          6,
          7,
          8,
          9,
          10
         ],
         "y": [
          0.0026917241663332414,
          0.004428928314966275,
          0.007714308698413946,
          0.008446017360009337,
          0.010481160740123277,
          0.011756207328436057,
          0.012696452352138132,
          0.018475768678431932,
          0.023618976077661433,
          0.0278181934359057,
          -0.06603319125070445,
          -0.06265714384945635,
          -0.06688472065637385,
          -0.07137996547373156,
          -0.07103042227855744,
          -0.066030319620466,
          -0.06725758214107892,
          -0.06687107827374425,
          -0.0633941972982683,
          -0.06345938796452948,
          -0.0649225837849737
         ]
        },
        {
         "fill": "tonextx",
         "fillcolor": "rgba(0, 153, 0,0.1)",
         "legendgroup": "group2",
         "legendgrouptitle": {
          "text": "<b>Decrease</b> (49 events)"
         },
         "line": {
          "color": "rgba(0, 153, 0, 0.5)",
          "dash": "dash",
          "width": 1
         },
         "mode": "lines",
         "name": "ShadedArea",
         "showlegend": false,
         "type": "scatter",
         "x": [
          -10,
          -9,
          -8,
          -7,
          -6,
          -5,
          -4,
          -3,
          -2,
          -1,
          0,
          1,
          2,
          3,
          4,
          5,
          6,
          7,
          8,
          9,
          10
         ],
         "y": [
          -0.007751182895677423,
          -0.009133543476920483,
          -0.00880910289164836,
          -0.011211655072818112,
          -0.011029576535711101,
          -0.010167178421712612,
          -0.009744873870860881,
          -0.01149775714169734,
          -0.005523527066316475,
          -0.003837441153173268,
          -0.10713522652655993,
          -0.10980390345934214,
          -0.11498763402781587,
          -0.12069067914926772,
          -0.12020193532235385,
          -0.12125531112195014,
          -0.12043539357390574,
          -0.12319254782614103,
          -0.12013451704756146,
          -0.11953317820252342,
          -0.12307166538626804
         ]
        },
        {
         "legendgroup": "group2",
         "legendgrouptitle": {
          "text": "<b>Decrease</b> (49 events)"
         },
         "line": {
          "color": "rgba(0, 153, 0, 0.5)",
          "dash": "dash",
          "width": 1
         },
         "mode": "lines",
         "name": "Mean - 1.96SE",
         "showlegend": true,
         "type": "scatter",
         "x": [
          -10,
          -9,
          -8,
          -7,
          -6,
          -5,
          -4,
          -3,
          -2,
          -1,
          0,
          1,
          2,
          3,
          4,
          5,
          6,
          7,
          8,
          9,
          10
         ],
         "y": [
          -0.007751182895677423,
          -0.009133543476920483,
          -0.00880910289164836,
          -0.011211655072818112,
          -0.011029576535711101,
          -0.010167178421712612,
          -0.009744873870860881,
          -0.01149775714169734,
          -0.005523527066316475,
          -0.003837441153173268,
          -0.10713522652655993,
          -0.10980390345934214,
          -0.11498763402781587,
          -0.12069067914926772,
          -0.12020193532235385,
          -0.12125531112195014,
          -0.12043539357390574,
          -0.12319254782614103,
          -0.12013451704756146,
          -0.11953317820252342,
          -0.12307166538626804
         ]
        },
        {
         "legendgroup": "group1",
         "legendgrouptitle": {
          "text": "<b>Increase</b> (48 events)"
         },
         "line": {
          "color": "rgb(0, 0, 255)"
         },
         "mode": "lines",
         "name": "Mean",
         "showlegend": true,
         "type": "scatter",
         "x": [
          -10,
          -9,
          -8,
          -7,
          -6,
          -5,
          -4,
          -3,
          -2,
          -1,
          0,
          1,
          2,
          3,
          4,
          5,
          6,
          7,
          8,
          9,
          10
         ],
         "y": [
          -0.005118783243969056,
          -0.006913295706562932,
          -0.008918337096792342,
          -0.009971880805408345,
          -0.014504348440850192,
          -0.008354793437406029,
          -0.008014613811536059,
          -0.008249454081837452,
          -0.005907693423516586,
          -0.005857257953786294,
          0.199683420021166,
          0.19511309314755376,
          0.19312885767594132,
          0.19588944391720584,
          0.19591550498491295,
          0.19547814264056118,
          0.1983117445605601,
          0.19735667369086052,
          0.1968418913325227,
          0.19648652445890447,
          0.19438036704279063
         ]
        },
        {
         "legendgroup": "group1",
         "legendgrouptitle": {
          "text": "<b>Increase</b> (48 events)"
         },
         "line": {
          "color": "rgba(0, 0, 255, 0.5)",
          "dash": "dash",
          "width": 1
         },
         "mode": "lines",
         "name": "Mean + 1.96SE",
         "showlegend": true,
         "type": "scatter",
         "x": [
          -10,
          -9,
          -8,
          -7,
          -6,
          -5,
          -4,
          -3,
          -2,
          -1,
          0,
          1,
          2,
          3,
          4,
          5,
          6,
          7,
          8,
          9,
          10
         ],
         "y": [
          0.0001658688925572022,
          0.0007340994194616974,
          0.0028989760056769443,
          0.0036268548219573777,
          -0.00001982185863822622,
          0.007877354087435536,
          0.011237699609741818,
          0.011898472349375378,
          0.014351421284297214,
          0.014599060226410603,
          0.23185175976355696,
          0.22329228429462505,
          0.22407708811095972,
          0.22667402915700063,
          0.22559536454085005,
          0.2253640147061887,
          0.22654933477554867,
          0.22644620771938456,
          0.22638680484128224,
          0.22709821246749312,
          0.22559081593670974
         ]
        },
        {
         "fill": "tonextx",
         "fillcolor": "rgba(0, 0, 255,0.1)",
         "legendgroup": "group1",
         "legendgrouptitle": {
          "text": "<b>Increase</b> (48 events)"
         },
         "line": {
          "color": "rgba(0, 0, 255, 0.5)",
          "dash": "dash",
          "width": 1
         },
         "mode": "lines",
         "name": "ShadedArea",
         "showlegend": false,
         "type": "scatter",
         "x": [
          -10,
          -9,
          -8,
          -7,
          -6,
          -5,
          -4,
          -3,
          -2,
          -1,
          0,
          1,
          2,
          3,
          4,
          5,
          6,
          7,
          8,
          9,
          10
         ],
         "y": [
          -0.010403435380495315,
          -0.014560690832587563,
          -0.02073565019926163,
          -0.02357061643277407,
          -0.028988875023062157,
          -0.024586940962247596,
          -0.027266927232813938,
          -0.028397380513050283,
          -0.026166808131330384,
          -0.02631357613398319,
          0.16751508027877507,
          0.16693390200048247,
          0.16218062724092291,
          0.16510485867741104,
          0.16623564542897584,
          0.16559227057493367,
          0.17007415434557155,
          0.16826713966233647,
          0.16729697782376315,
          0.1658748364503158,
          0.16316991814887152
         ]
        },
        {
         "legendgroup": "group1",
         "legendgrouptitle": {
          "text": "<b>Increase</b> (48 events)"
         },
         "line": {
          "color": "rgba(0, 0, 255, 0.5)",
          "dash": "dash",
          "width": 1
         },
         "mode": "lines",
         "name": "Mean - 1.96SE",
         "showlegend": true,
         "type": "scatter",
         "x": [
          -10,
          -9,
          -8,
          -7,
          -6,
          -5,
          -4,
          -3,
          -2,
          -1,
          0,
          1,
          2,
          3,
          4,
          5,
          6,
          7,
          8,
          9,
          10
         ],
         "y": [
          -0.010403435380495315,
          -0.014560690832587563,
          -0.02073565019926163,
          -0.02357061643277407,
          -0.028988875023062157,
          -0.024586940962247596,
          -0.027266927232813938,
          -0.028397380513050283,
          -0.026166808131330384,
          -0.02631357613398319,
          0.16751508027877507,
          0.16693390200048247,
          0.16218062724092291,
          0.16510485867741104,
          0.16623564542897584,
          0.16559227057493367,
          0.17007415434557155,
          0.16826713966233647,
          0.16729697782376315,
          0.1658748364503158,
          0.16316991814887152
         ]
        }
       ],
       "layout": {
        "legend": {
         "entrywidth": 200,
         "orientation": "h",
         "tracegroupgap": 50,
         "traceorder": "grouped",
         "x": 0.55,
         "xanchor": "center",
         "y": -0.3
        },
        "shapes": [
         {
          "line": {
           "color": "rgba(0, 0,0, 0.5)",
           "width": 1
          },
          "type": "line",
          "x0": 0,
          "x1": 0,
          "xref": "x",
          "y0": 0,
          "y1": 1,
          "yref": "y domain"
         },
         {
          "line": {
           "color": "rgba(0, 0,0, 0.5)",
           "width": 1
          },
          "type": "line",
          "x0": 0,
          "x1": 1,
          "xref": "x domain",
          "y0": 0,
          "y1": 0,
          "yref": "y"
         }
        ],
        "template": {
         "data": {
          "bar": [
           {
            "error_x": {
             "color": "#2a3f5f"
            },
            "error_y": {
             "color": "#2a3f5f"
            },
            "marker": {
             "line": {
              "color": "white",
              "width": 0.5
             },
             "pattern": {
              "fillmode": "overlay",
              "size": 10,
              "solidity": 0.2
             }
            },
            "type": "bar"
           }
          ],
          "barpolar": [
           {
            "marker": {
             "line": {
              "color": "white",
              "width": 0.5
             },
             "pattern": {
              "fillmode": "overlay",
              "size": 10,
              "solidity": 0.2
             }
            },
            "type": "barpolar"
           }
          ],
          "carpet": [
           {
            "aaxis": {
             "endlinecolor": "#2a3f5f",
             "gridcolor": "#C8D4E3",
             "linecolor": "#C8D4E3",
             "minorgridcolor": "#C8D4E3",
             "startlinecolor": "#2a3f5f"
            },
            "baxis": {
             "endlinecolor": "#2a3f5f",
             "gridcolor": "#C8D4E3",
             "linecolor": "#C8D4E3",
             "minorgridcolor": "#C8D4E3",
             "startlinecolor": "#2a3f5f"
            },
            "type": "carpet"
           }
          ],
          "choropleth": [
           {
            "colorbar": {
             "outlinewidth": 0,
             "ticks": ""
            },
            "type": "choropleth"
           }
          ],
          "contour": [
           {
            "colorbar": {
             "outlinewidth": 0,
             "ticks": ""
            },
            "colorscale": [
             [
              0,
              "#0d0887"
             ],
             [
              0.1111111111111111,
              "#46039f"
             ],
             [
              0.2222222222222222,
              "#7201a8"
             ],
             [
              0.3333333333333333,
              "#9c179e"
             ],
             [
              0.4444444444444444,
              "#bd3786"
             ],
             [
              0.5555555555555556,
              "#d8576b"
             ],
             [
              0.6666666666666666,
              "#ed7953"
             ],
             [
              0.7777777777777778,
              "#fb9f3a"
             ],
             [
              0.8888888888888888,
              "#fdca26"
             ],
             [
              1,
              "#f0f921"
             ]
            ],
            "type": "contour"
           }
          ],
          "contourcarpet": [
           {
            "colorbar": {
             "outlinewidth": 0,
             "ticks": ""
            },
            "type": "contourcarpet"
           }
          ],
          "heatmap": [
           {
            "colorbar": {
             "outlinewidth": 0,
             "ticks": ""
            },
            "colorscale": [
             [
              0,
              "#0d0887"
             ],
             [
              0.1111111111111111,
              "#46039f"
             ],
             [
              0.2222222222222222,
              "#7201a8"
             ],
             [
              0.3333333333333333,
              "#9c179e"
             ],
             [
              0.4444444444444444,
              "#bd3786"
             ],
             [
              0.5555555555555556,
              "#d8576b"
             ],
             [
              0.6666666666666666,
              "#ed7953"
             ],
             [
              0.7777777777777778,
              "#fb9f3a"
             ],
             [
              0.8888888888888888,
              "#fdca26"
             ],
             [
              1,
              "#f0f921"
             ]
            ],
            "type": "heatmap"
           }
          ],
          "heatmapgl": [
           {
            "colorbar": {
             "outlinewidth": 0,
             "ticks": ""
            },
            "colorscale": [
             [
              0,
              "#0d0887"
             ],
             [
              0.1111111111111111,
              "#46039f"
             ],
             [
              0.2222222222222222,
              "#7201a8"
             ],
             [
              0.3333333333333333,
              "#9c179e"
             ],
             [
              0.4444444444444444,
              "#bd3786"
             ],
             [
              0.5555555555555556,
              "#d8576b"
             ],
             [
              0.6666666666666666,
              "#ed7953"
             ],
             [
              0.7777777777777778,
              "#fb9f3a"
             ],
             [
              0.8888888888888888,
              "#fdca26"
             ],
             [
              1,
              "#f0f921"
             ]
            ],
            "type": "heatmapgl"
           }
          ],
          "histogram": [
           {
            "marker": {
             "pattern": {
              "fillmode": "overlay",
              "size": 10,
              "solidity": 0.2
             }
            },
            "type": "histogram"
           }
          ],
          "histogram2d": [
           {
            "colorbar": {
             "outlinewidth": 0,
             "ticks": ""
            },
            "colorscale": [
             [
              0,
              "#0d0887"
             ],
             [
              0.1111111111111111,
              "#46039f"
             ],
             [
              0.2222222222222222,
              "#7201a8"
             ],
             [
              0.3333333333333333,
              "#9c179e"
             ],
             [
              0.4444444444444444,
              "#bd3786"
             ],
             [
              0.5555555555555556,
              "#d8576b"
             ],
             [
              0.6666666666666666,
              "#ed7953"
             ],
             [
              0.7777777777777778,
              "#fb9f3a"
             ],
             [
              0.8888888888888888,
              "#fdca26"
             ],
             [
              1,
              "#f0f921"
             ]
            ],
            "type": "histogram2d"
           }
          ],
          "histogram2dcontour": [
           {
            "colorbar": {
             "outlinewidth": 0,
             "ticks": ""
            },
            "colorscale": [
             [
              0,
              "#0d0887"
             ],
             [
              0.1111111111111111,
              "#46039f"
             ],
             [
              0.2222222222222222,
              "#7201a8"
             ],
             [
              0.3333333333333333,
              "#9c179e"
             ],
             [
              0.4444444444444444,
              "#bd3786"
             ],
             [
              0.5555555555555556,
              "#d8576b"
             ],
             [
              0.6666666666666666,
              "#ed7953"
             ],
             [
              0.7777777777777778,
              "#fb9f3a"
             ],
             [
              0.8888888888888888,
              "#fdca26"
             ],
             [
              1,
              "#f0f921"
             ]
            ],
            "type": "histogram2dcontour"
           }
          ],
          "mesh3d": [
           {
            "colorbar": {
             "outlinewidth": 0,
             "ticks": ""
            },
            "type": "mesh3d"
           }
          ],
          "parcoords": [
           {
            "line": {
             "colorbar": {
              "outlinewidth": 0,
              "ticks": ""
             }
            },
            "type": "parcoords"
           }
          ],
          "pie": [
           {
            "automargin": true,
            "type": "pie"
           }
          ],
          "scatter": [
           {
            "fillpattern": {
             "fillmode": "overlay",
             "size": 10,
             "solidity": 0.2
            },
            "type": "scatter"
           }
          ],
          "scatter3d": [
           {
            "line": {
             "colorbar": {
              "outlinewidth": 0,
              "ticks": ""
             }
            },
            "marker": {
             "colorbar": {
              "outlinewidth": 0,
              "ticks": ""
             }
            },
            "type": "scatter3d"
           }
          ],
          "scattercarpet": [
           {
            "marker": {
             "colorbar": {
              "outlinewidth": 0,
              "ticks": ""
             }
            },
            "type": "scattercarpet"
           }
          ],
          "scattergeo": [
           {
            "marker": {
             "colorbar": {
              "outlinewidth": 0,
              "ticks": ""
             }
            },
            "type": "scattergeo"
           }
          ],
          "scattergl": [
           {
            "marker": {
             "colorbar": {
              "outlinewidth": 0,
              "ticks": ""
             }
            },
            "type": "scattergl"
           }
          ],
          "scattermapbox": [
           {
            "marker": {
             "colorbar": {
              "outlinewidth": 0,
              "ticks": ""
             }
            },
            "type": "scattermapbox"
           }
          ],
          "scatterpolar": [
           {
            "marker": {
             "colorbar": {
              "outlinewidth": 0,
              "ticks": ""
             }
            },
            "type": "scatterpolar"
           }
          ],
          "scatterpolargl": [
           {
            "marker": {
             "colorbar": {
              "outlinewidth": 0,
              "ticks": ""
             }
            },
            "type": "scatterpolargl"
           }
          ],
          "scatterternary": [
           {
            "marker": {
             "colorbar": {
              "outlinewidth": 0,
              "ticks": ""
             }
            },
            "type": "scatterternary"
           }
          ],
          "surface": [
           {
            "colorbar": {
             "outlinewidth": 0,
             "ticks": ""
            },
            "colorscale": [
             [
              0,
              "#0d0887"
             ],
             [
              0.1111111111111111,
              "#46039f"
             ],
             [
              0.2222222222222222,
              "#7201a8"
             ],
             [
              0.3333333333333333,
              "#9c179e"
             ],
             [
              0.4444444444444444,
              "#bd3786"
             ],
             [
              0.5555555555555556,
              "#d8576b"
             ],
             [
              0.6666666666666666,
              "#ed7953"
             ],
             [
              0.7777777777777778,
              "#fb9f3a"
             ],
             [
              0.8888888888888888,
              "#fdca26"
             ],
             [
              1,
              "#f0f921"
             ]
            ],
            "type": "surface"
           }
          ],
          "table": [
           {
            "cells": {
             "fill": {
              "color": "#EBF0F8"
             },
             "line": {
              "color": "white"
             }
            },
            "header": {
             "fill": {
              "color": "#C8D4E3"
             },
             "line": {
              "color": "white"
             }
            },
            "type": "table"
           }
          ]
         },
         "layout": {
          "annotationdefaults": {
           "arrowcolor": "#2a3f5f",
           "arrowhead": 0,
           "arrowwidth": 1
          },
          "autotypenumbers": "strict",
          "coloraxis": {
           "colorbar": {
            "outlinewidth": 0,
            "ticks": ""
           }
          },
          "colorscale": {
           "diverging": [
            [
             0,
             "#8e0152"
            ],
            [
             0.1,
             "#c51b7d"
            ],
            [
             0.2,
             "#de77ae"
            ],
            [
             0.3,
             "#f1b6da"
            ],
            [
             0.4,
             "#fde0ef"
            ],
            [
             0.5,
             "#f7f7f7"
            ],
            [
             0.6,
             "#e6f5d0"
            ],
            [
             0.7,
             "#b8e186"
            ],
            [
             0.8,
             "#7fbc41"
            ],
            [
             0.9,
             "#4d9221"
            ],
            [
             1,
             "#276419"
            ]
           ],
           "sequential": [
            [
             0,
             "#0d0887"
            ],
            [
             0.1111111111111111,
             "#46039f"
            ],
            [
             0.2222222222222222,
             "#7201a8"
            ],
            [
             0.3333333333333333,
             "#9c179e"
            ],
            [
             0.4444444444444444,
             "#bd3786"
            ],
            [
             0.5555555555555556,
             "#d8576b"
            ],
            [
             0.6666666666666666,
             "#ed7953"
            ],
            [
             0.7777777777777778,
             "#fb9f3a"
            ],
            [
             0.8888888888888888,
             "#fdca26"
            ],
            [
             1,
             "#f0f921"
            ]
           ],
           "sequentialminus": [
            [
             0,
             "#0d0887"
            ],
            [
             0.1111111111111111,
             "#46039f"
            ],
            [
             0.2222222222222222,
             "#7201a8"
            ],
            [
             0.3333333333333333,
             "#9c179e"
            ],
            [
             0.4444444444444444,
             "#bd3786"
            ],
            [
             0.5555555555555556,
             "#d8576b"
            ],
            [
             0.6666666666666666,
             "#ed7953"
            ],
            [
             0.7777777777777778,
             "#fb9f3a"
            ],
            [
             0.8888888888888888,
             "#fdca26"
            ],
            [
             1,
             "#f0f921"
            ]
           ]
          },
          "colorway": [
           "#636efa",
           "#EF553B",
           "#00cc96",
           "#ab63fa",
           "#FFA15A",
           "#19d3f3",
           "#FF6692",
           "#B6E880",
           "#FF97FF",
           "#FECB52"
          ],
          "font": {
           "color": "#2a3f5f"
          },
          "geo": {
           "bgcolor": "white",
           "lakecolor": "white",
           "landcolor": "white",
           "showlakes": true,
           "showland": true,
           "subunitcolor": "#C8D4E3"
          },
          "hoverlabel": {
           "align": "left"
          },
          "hovermode": "closest",
          "mapbox": {
           "style": "light"
          },
          "paper_bgcolor": "white",
          "plot_bgcolor": "white",
          "polar": {
           "angularaxis": {
            "gridcolor": "#EBF0F8",
            "linecolor": "#EBF0F8",
            "ticks": ""
           },
           "bgcolor": "white",
           "radialaxis": {
            "gridcolor": "#EBF0F8",
            "linecolor": "#EBF0F8",
            "ticks": ""
           }
          },
          "scene": {
           "xaxis": {
            "backgroundcolor": "white",
            "gridcolor": "#DFE8F3",
            "gridwidth": 2,
            "linecolor": "#EBF0F8",
            "showbackground": true,
            "ticks": "",
            "zerolinecolor": "#EBF0F8"
           },
           "yaxis": {
            "backgroundcolor": "white",
            "gridcolor": "#DFE8F3",
            "gridwidth": 2,
            "linecolor": "#EBF0F8",
            "showbackground": true,
            "ticks": "",
            "zerolinecolor": "#EBF0F8"
           },
           "zaxis": {
            "backgroundcolor": "white",
            "gridcolor": "#DFE8F3",
            "gridwidth": 2,
            "linecolor": "#EBF0F8",
            "showbackground": true,
            "ticks": "",
            "zerolinecolor": "#EBF0F8"
           }
          },
          "shapedefaults": {
           "line": {
            "color": "#2a3f5f"
           }
          },
          "ternary": {
           "aaxis": {
            "gridcolor": "#DFE8F3",
            "linecolor": "#A2B1C6",
            "ticks": ""
           },
           "baxis": {
            "gridcolor": "#DFE8F3",
            "linecolor": "#A2B1C6",
            "ticks": ""
           },
           "bgcolor": "white",
           "caxis": {
            "gridcolor": "#DFE8F3",
            "linecolor": "#A2B1C6",
            "ticks": ""
           }
          },
          "title": {
           "x": 0.05
          },
          "xaxis": {
           "automargin": true,
           "gridcolor": "#EBF0F8",
           "linecolor": "#EBF0F8",
           "ticks": "",
           "title": {
            "standoff": 15
           },
           "zerolinecolor": "#EBF0F8",
           "zerolinewidth": 2
          },
          "yaxis": {
           "automargin": true,
           "gridcolor": "#EBF0F8",
           "linecolor": "#EBF0F8",
           "ticks": "",
           "title": {
            "standoff": 15
           },
           "zerolinecolor": "#EBF0F8",
           "zerolinewidth": 2
          }
         }
        },
        "title": {
         "text": "<b>Cumulitative Abnormal Return: Mean & 95% Confidence Limits</b><br>"
        },
        "xaxis": {
         "title": {
          "text": "Day Relative to Event"
         }
        },
        "yaxis": {
         "tickformat": ",.1%",
         "title": {
          "text": "Return"
         }
        }
       }
      }
     },
     "metadata": {},
     "output_type": "display_data"
    }
   ],
   "source": [
    "plot_joint_mean_car(\n",
    "    result_one, \n",
    "    result_two, \n",
    "    name_one='Increase', \n",
    "    name_two='Decrease')"
   ]
  },
  {
   "cell_type": "markdown",
   "metadata": {},
   "source": [
    "### Bootstrap test"
   ]
  },
  {
   "cell_type": "markdown",
   "metadata": {},
   "source": [
    "The confidence intervals around mean CAR estimates are calculated using the parametric method.\n",
    "\n",
    "One also could calculate them using non-parametric approach - by bootstrap. Strategy:\n",
    "1. Given a list of ticker and events, randomly permute the events N times.\n",
    "2. Calculate mean CAR estimate for each of these N-runs.\n",
    "3. Calculate confidence by using quantiles (e.g. 0.05 and 0.95) on those N runs.\n",
    "4. Plot together with the original mean CAR to see the significance.\n",
    "\n",
    "\n",
    "Note: highly depends on the number of bootstrap runs. If possible, increase **n_cores** parameter to the greater number of cpu in use"
   ]
  },
  {
   "cell_type": "code",
   "execution_count": 11,
   "metadata": {},
   "outputs": [
    {
     "name": "stderr",
     "output_type": "stream",
     "text": [
      "100%|██████████| 33/33 [00:19<00:00,  1.67it/s]\n"
     ]
    }
   ],
   "source": [
    "# Initialize EventStudy class object\n",
    "event_study = EventStudy(\n",
    "    estimation_days=255,\n",
    "    gap_days=50,\n",
    "    window_after=10,\n",
    "    window_before=10,\n",
    "    min_estimation_days=100,\n",
    "    estimator_type='ff5',\n",
    "    n_cores=10 # Better to set up to higher number\n",
    ")\n",
    "\n",
    "# Run the study\n",
    "results_df = event_study.run_study(events_df)"
   ]
  },
  {
   "cell_type": "code",
   "execution_count": 12,
   "metadata": {},
   "outputs": [
    {
     "name": "stderr",
     "output_type": "stream",
     "text": [
      "100%|██████████| 1000/1000 [00:00<00:00, 4003.78it/s]\n"
     ]
    }
   ],
   "source": [
    "bootstrap_results_df = event_study.run_bootstrap_study(events_df, n_bootstrap=1000)"
   ]
  },
  {
   "cell_type": "code",
   "execution_count": 13,
   "metadata": {},
   "outputs": [
    {
     "data": {
      "text/html": [
       "<div>\n",
       "<style scoped>\n",
       "    .dataframe tbody tr th:only-of-type {\n",
       "        vertical-align: middle;\n",
       "    }\n",
       "\n",
       "    .dataframe tbody tr th {\n",
       "        vertical-align: top;\n",
       "    }\n",
       "\n",
       "    .dataframe thead th {\n",
       "        text-align: right;\n",
       "    }\n",
       "</style>\n",
       "<table border=\"1\" class=\"dataframe\">\n",
       "  <thead>\n",
       "    <tr style=\"text-align: right;\">\n",
       "      <th></th>\n",
       "      <th>0</th>\n",
       "      <th>1</th>\n",
       "      <th>2</th>\n",
       "      <th>3</th>\n",
       "      <th>4</th>\n",
       "      <th>5</th>\n",
       "      <th>6</th>\n",
       "      <th>7</th>\n",
       "      <th>8</th>\n",
       "      <th>9</th>\n",
       "      <th>...</th>\n",
       "      <th>990</th>\n",
       "      <th>991</th>\n",
       "      <th>992</th>\n",
       "      <th>993</th>\n",
       "      <th>994</th>\n",
       "      <th>995</th>\n",
       "      <th>996</th>\n",
       "      <th>997</th>\n",
       "      <th>998</th>\n",
       "      <th>999</th>\n",
       "    </tr>\n",
       "    <tr>\n",
       "      <th>Offset</th>\n",
       "      <th></th>\n",
       "      <th></th>\n",
       "      <th></th>\n",
       "      <th></th>\n",
       "      <th></th>\n",
       "      <th></th>\n",
       "      <th></th>\n",
       "      <th></th>\n",
       "      <th></th>\n",
       "      <th></th>\n",
       "      <th></th>\n",
       "      <th></th>\n",
       "      <th></th>\n",
       "      <th></th>\n",
       "      <th></th>\n",
       "      <th></th>\n",
       "      <th></th>\n",
       "      <th></th>\n",
       "      <th></th>\n",
       "      <th></th>\n",
       "      <th></th>\n",
       "    </tr>\n",
       "  </thead>\n",
       "  <tbody>\n",
       "    <tr>\n",
       "      <th>-10</th>\n",
       "      <td>0.003908</td>\n",
       "      <td>0.001958</td>\n",
       "      <td>0.001706</td>\n",
       "      <td>-0.000306</td>\n",
       "      <td>-0.001315</td>\n",
       "      <td>-0.004910</td>\n",
       "      <td>-0.001511</td>\n",
       "      <td>0.004605</td>\n",
       "      <td>-0.001010</td>\n",
       "      <td>0.000974</td>\n",
       "      <td>...</td>\n",
       "      <td>0.002674</td>\n",
       "      <td>0.002309</td>\n",
       "      <td>-0.000555</td>\n",
       "      <td>-0.001330</td>\n",
       "      <td>0.001536</td>\n",
       "      <td>0.005051</td>\n",
       "      <td>0.000318</td>\n",
       "      <td>0.003598</td>\n",
       "      <td>0.003169</td>\n",
       "      <td>0.000637</td>\n",
       "    </tr>\n",
       "    <tr>\n",
       "      <th>-9</th>\n",
       "      <td>0.000139</td>\n",
       "      <td>-0.001565</td>\n",
       "      <td>0.003405</td>\n",
       "      <td>-0.004681</td>\n",
       "      <td>-0.000206</td>\n",
       "      <td>-0.000626</td>\n",
       "      <td>-0.005096</td>\n",
       "      <td>0.007760</td>\n",
       "      <td>0.004265</td>\n",
       "      <td>0.003993</td>\n",
       "      <td>...</td>\n",
       "      <td>0.002301</td>\n",
       "      <td>-0.001111</td>\n",
       "      <td>0.005391</td>\n",
       "      <td>-0.002488</td>\n",
       "      <td>0.002864</td>\n",
       "      <td>0.008674</td>\n",
       "      <td>-0.003128</td>\n",
       "      <td>0.004204</td>\n",
       "      <td>0.007928</td>\n",
       "      <td>-0.002167</td>\n",
       "    </tr>\n",
       "    <tr>\n",
       "      <th>-8</th>\n",
       "      <td>0.002001</td>\n",
       "      <td>-0.003181</td>\n",
       "      <td>0.001852</td>\n",
       "      <td>-0.004482</td>\n",
       "      <td>-0.002202</td>\n",
       "      <td>-0.005423</td>\n",
       "      <td>-0.006456</td>\n",
       "      <td>0.005994</td>\n",
       "      <td>0.006729</td>\n",
       "      <td>0.001809</td>\n",
       "      <td>...</td>\n",
       "      <td>0.001754</td>\n",
       "      <td>-0.000771</td>\n",
       "      <td>-0.006833</td>\n",
       "      <td>-0.002725</td>\n",
       "      <td>0.002493</td>\n",
       "      <td>0.011718</td>\n",
       "      <td>-0.006527</td>\n",
       "      <td>0.000417</td>\n",
       "      <td>0.010843</td>\n",
       "      <td>-0.002920</td>\n",
       "    </tr>\n",
       "    <tr>\n",
       "      <th>-7</th>\n",
       "      <td>0.003449</td>\n",
       "      <td>-0.002380</td>\n",
       "      <td>0.001628</td>\n",
       "      <td>-0.007611</td>\n",
       "      <td>0.001026</td>\n",
       "      <td>-0.000579</td>\n",
       "      <td>-0.007879</td>\n",
       "      <td>0.010209</td>\n",
       "      <td>0.006446</td>\n",
       "      <td>0.003416</td>\n",
       "      <td>...</td>\n",
       "      <td>0.003848</td>\n",
       "      <td>0.002868</td>\n",
       "      <td>-0.005962</td>\n",
       "      <td>0.000425</td>\n",
       "      <td>0.001624</td>\n",
       "      <td>0.009408</td>\n",
       "      <td>-0.011973</td>\n",
       "      <td>-0.003674</td>\n",
       "      <td>0.009949</td>\n",
       "      <td>0.000645</td>\n",
       "    </tr>\n",
       "    <tr>\n",
       "      <th>-6</th>\n",
       "      <td>0.003280</td>\n",
       "      <td>-0.008792</td>\n",
       "      <td>0.000061</td>\n",
       "      <td>-0.002807</td>\n",
       "      <td>0.006173</td>\n",
       "      <td>-0.002020</td>\n",
       "      <td>-0.009113</td>\n",
       "      <td>0.015390</td>\n",
       "      <td>0.003520</td>\n",
       "      <td>0.000965</td>\n",
       "      <td>...</td>\n",
       "      <td>0.002808</td>\n",
       "      <td>0.009904</td>\n",
       "      <td>-0.004273</td>\n",
       "      <td>0.005523</td>\n",
       "      <td>0.000714</td>\n",
       "      <td>0.012518</td>\n",
       "      <td>-0.014787</td>\n",
       "      <td>-0.003044</td>\n",
       "      <td>0.010158</td>\n",
       "      <td>0.002155</td>\n",
       "    </tr>\n",
       "    <tr>\n",
       "      <th>-5</th>\n",
       "      <td>0.004053</td>\n",
       "      <td>-0.008165</td>\n",
       "      <td>0.002873</td>\n",
       "      <td>-0.004620</td>\n",
       "      <td>0.004904</td>\n",
       "      <td>-0.007151</td>\n",
       "      <td>-0.007246</td>\n",
       "      <td>0.011030</td>\n",
       "      <td>-0.002442</td>\n",
       "      <td>0.001658</td>\n",
       "      <td>...</td>\n",
       "      <td>0.004340</td>\n",
       "      <td>0.008086</td>\n",
       "      <td>-0.005490</td>\n",
       "      <td>0.008644</td>\n",
       "      <td>0.000890</td>\n",
       "      <td>0.011375</td>\n",
       "      <td>-0.013593</td>\n",
       "      <td>-0.006297</td>\n",
       "      <td>0.010708</td>\n",
       "      <td>0.005012</td>\n",
       "    </tr>\n",
       "    <tr>\n",
       "      <th>-4</th>\n",
       "      <td>0.006434</td>\n",
       "      <td>-0.008377</td>\n",
       "      <td>-0.000080</td>\n",
       "      <td>-0.010525</td>\n",
       "      <td>0.002295</td>\n",
       "      <td>-0.011912</td>\n",
       "      <td>-0.009854</td>\n",
       "      <td>0.011708</td>\n",
       "      <td>-0.004205</td>\n",
       "      <td>0.000249</td>\n",
       "      <td>...</td>\n",
       "      <td>-0.002447</td>\n",
       "      <td>0.010993</td>\n",
       "      <td>-0.008822</td>\n",
       "      <td>0.004358</td>\n",
       "      <td>-0.003935</td>\n",
       "      <td>0.010620</td>\n",
       "      <td>-0.013795</td>\n",
       "      <td>-0.003950</td>\n",
       "      <td>0.013445</td>\n",
       "      <td>0.007532</td>\n",
       "    </tr>\n",
       "    <tr>\n",
       "      <th>-3</th>\n",
       "      <td>0.010246</td>\n",
       "      <td>-0.002298</td>\n",
       "      <td>-0.007039</td>\n",
       "      <td>-0.013668</td>\n",
       "      <td>0.006914</td>\n",
       "      <td>-0.006778</td>\n",
       "      <td>-0.006888</td>\n",
       "      <td>0.008620</td>\n",
       "      <td>-0.004121</td>\n",
       "      <td>0.001943</td>\n",
       "      <td>...</td>\n",
       "      <td>-0.001093</td>\n",
       "      <td>0.008421</td>\n",
       "      <td>-0.003713</td>\n",
       "      <td>0.004867</td>\n",
       "      <td>-0.003413</td>\n",
       "      <td>0.009557</td>\n",
       "      <td>-0.012470</td>\n",
       "      <td>0.001424</td>\n",
       "      <td>0.012858</td>\n",
       "      <td>0.007168</td>\n",
       "    </tr>\n",
       "    <tr>\n",
       "      <th>-2</th>\n",
       "      <td>0.013178</td>\n",
       "      <td>-0.003237</td>\n",
       "      <td>-0.009566</td>\n",
       "      <td>-0.014130</td>\n",
       "      <td>0.006864</td>\n",
       "      <td>0.000482</td>\n",
       "      <td>-0.004884</td>\n",
       "      <td>0.008876</td>\n",
       "      <td>-0.004265</td>\n",
       "      <td>0.009852</td>\n",
       "      <td>...</td>\n",
       "      <td>-0.004111</td>\n",
       "      <td>0.009496</td>\n",
       "      <td>-0.001138</td>\n",
       "      <td>0.006265</td>\n",
       "      <td>0.001493</td>\n",
       "      <td>0.006243</td>\n",
       "      <td>-0.014722</td>\n",
       "      <td>-0.001426</td>\n",
       "      <td>0.019716</td>\n",
       "      <td>0.009291</td>\n",
       "    </tr>\n",
       "    <tr>\n",
       "      <th>-1</th>\n",
       "      <td>0.011717</td>\n",
       "      <td>-0.003809</td>\n",
       "      <td>-0.013284</td>\n",
       "      <td>-0.012359</td>\n",
       "      <td>0.007191</td>\n",
       "      <td>-0.002481</td>\n",
       "      <td>-0.008828</td>\n",
       "      <td>0.009224</td>\n",
       "      <td>-0.007827</td>\n",
       "      <td>0.011735</td>\n",
       "      <td>...</td>\n",
       "      <td>-0.009143</td>\n",
       "      <td>0.005945</td>\n",
       "      <td>-0.004086</td>\n",
       "      <td>0.006991</td>\n",
       "      <td>-0.005913</td>\n",
       "      <td>0.007713</td>\n",
       "      <td>-0.015329</td>\n",
       "      <td>-0.003359</td>\n",
       "      <td>0.017176</td>\n",
       "      <td>0.007504</td>\n",
       "    </tr>\n",
       "    <tr>\n",
       "      <th>0</th>\n",
       "      <td>0.029465</td>\n",
       "      <td>-0.006959</td>\n",
       "      <td>-0.005665</td>\n",
       "      <td>-0.010700</td>\n",
       "      <td>0.014107</td>\n",
       "      <td>0.009901</td>\n",
       "      <td>-0.001514</td>\n",
       "      <td>0.012911</td>\n",
       "      <td>-0.002015</td>\n",
       "      <td>0.007429</td>\n",
       "      <td>...</td>\n",
       "      <td>-0.007096</td>\n",
       "      <td>0.010157</td>\n",
       "      <td>-0.003912</td>\n",
       "      <td>0.018252</td>\n",
       "      <td>0.001168</td>\n",
       "      <td>0.016413</td>\n",
       "      <td>-0.016017</td>\n",
       "      <td>0.005802</td>\n",
       "      <td>0.012028</td>\n",
       "      <td>0.040968</td>\n",
       "    </tr>\n",
       "    <tr>\n",
       "      <th>1</th>\n",
       "      <td>0.028132</td>\n",
       "      <td>-0.009991</td>\n",
       "      <td>-0.006972</td>\n",
       "      <td>-0.009235</td>\n",
       "      <td>0.016709</td>\n",
       "      <td>0.012563</td>\n",
       "      <td>-0.011991</td>\n",
       "      <td>0.013908</td>\n",
       "      <td>-0.002327</td>\n",
       "      <td>0.003079</td>\n",
       "      <td>...</td>\n",
       "      <td>-0.007972</td>\n",
       "      <td>0.012201</td>\n",
       "      <td>-0.009407</td>\n",
       "      <td>0.009274</td>\n",
       "      <td>0.001887</td>\n",
       "      <td>0.012339</td>\n",
       "      <td>-0.014692</td>\n",
       "      <td>0.006359</td>\n",
       "      <td>0.012719</td>\n",
       "      <td>0.041113</td>\n",
       "    </tr>\n",
       "    <tr>\n",
       "      <th>2</th>\n",
       "      <td>0.029061</td>\n",
       "      <td>-0.001925</td>\n",
       "      <td>0.003983</td>\n",
       "      <td>-0.006028</td>\n",
       "      <td>0.020000</td>\n",
       "      <td>0.022167</td>\n",
       "      <td>-0.019263</td>\n",
       "      <td>0.020395</td>\n",
       "      <td>-0.003767</td>\n",
       "      <td>0.004468</td>\n",
       "      <td>...</td>\n",
       "      <td>-0.005242</td>\n",
       "      <td>0.016269</td>\n",
       "      <td>-0.006890</td>\n",
       "      <td>0.008746</td>\n",
       "      <td>0.013205</td>\n",
       "      <td>0.008813</td>\n",
       "      <td>-0.017097</td>\n",
       "      <td>0.009467</td>\n",
       "      <td>0.016330</td>\n",
       "      <td>0.040850</td>\n",
       "    </tr>\n",
       "    <tr>\n",
       "      <th>3</th>\n",
       "      <td>0.030560</td>\n",
       "      <td>-0.001599</td>\n",
       "      <td>0.007054</td>\n",
       "      <td>-0.007169</td>\n",
       "      <td>0.024762</td>\n",
       "      <td>0.020677</td>\n",
       "      <td>-0.011349</td>\n",
       "      <td>0.021930</td>\n",
       "      <td>-0.000426</td>\n",
       "      <td>0.006177</td>\n",
       "      <td>...</td>\n",
       "      <td>-0.008442</td>\n",
       "      <td>0.018021</td>\n",
       "      <td>-0.005503</td>\n",
       "      <td>0.009761</td>\n",
       "      <td>0.009163</td>\n",
       "      <td>0.006371</td>\n",
       "      <td>-0.016790</td>\n",
       "      <td>0.004266</td>\n",
       "      <td>0.011429</td>\n",
       "      <td>0.039124</td>\n",
       "    </tr>\n",
       "    <tr>\n",
       "      <th>4</th>\n",
       "      <td>0.026800</td>\n",
       "      <td>0.001454</td>\n",
       "      <td>0.001576</td>\n",
       "      <td>-0.009038</td>\n",
       "      <td>0.025209</td>\n",
       "      <td>0.018078</td>\n",
       "      <td>-0.012056</td>\n",
       "      <td>0.023997</td>\n",
       "      <td>0.000853</td>\n",
       "      <td>0.004589</td>\n",
       "      <td>...</td>\n",
       "      <td>-0.009787</td>\n",
       "      <td>0.016065</td>\n",
       "      <td>-0.007108</td>\n",
       "      <td>0.008788</td>\n",
       "      <td>0.006930</td>\n",
       "      <td>0.005899</td>\n",
       "      <td>-0.014321</td>\n",
       "      <td>0.009534</td>\n",
       "      <td>0.012524</td>\n",
       "      <td>0.033094</td>\n",
       "    </tr>\n",
       "    <tr>\n",
       "      <th>5</th>\n",
       "      <td>0.023168</td>\n",
       "      <td>0.002519</td>\n",
       "      <td>-0.006601</td>\n",
       "      <td>-0.007368</td>\n",
       "      <td>0.024170</td>\n",
       "      <td>0.019816</td>\n",
       "      <td>-0.009494</td>\n",
       "      <td>0.020780</td>\n",
       "      <td>0.000590</td>\n",
       "      <td>0.007438</td>\n",
       "      <td>...</td>\n",
       "      <td>-0.011486</td>\n",
       "      <td>0.012234</td>\n",
       "      <td>-0.010874</td>\n",
       "      <td>0.005333</td>\n",
       "      <td>0.006800</td>\n",
       "      <td>0.006329</td>\n",
       "      <td>-0.011693</td>\n",
       "      <td>0.007603</td>\n",
       "      <td>0.010291</td>\n",
       "      <td>0.030882</td>\n",
       "    </tr>\n",
       "    <tr>\n",
       "      <th>6</th>\n",
       "      <td>0.028232</td>\n",
       "      <td>0.002943</td>\n",
       "      <td>-0.003518</td>\n",
       "      <td>-0.009333</td>\n",
       "      <td>0.025289</td>\n",
       "      <td>0.017644</td>\n",
       "      <td>-0.008631</td>\n",
       "      <td>0.021972</td>\n",
       "      <td>0.002413</td>\n",
       "      <td>0.006538</td>\n",
       "      <td>...</td>\n",
       "      <td>-0.018807</td>\n",
       "      <td>0.010098</td>\n",
       "      <td>-0.009978</td>\n",
       "      <td>0.000315</td>\n",
       "      <td>0.005608</td>\n",
       "      <td>-0.004387</td>\n",
       "      <td>-0.009607</td>\n",
       "      <td>0.002652</td>\n",
       "      <td>0.011138</td>\n",
       "      <td>0.027950</td>\n",
       "    </tr>\n",
       "    <tr>\n",
       "      <th>7</th>\n",
       "      <td>0.030286</td>\n",
       "      <td>0.004728</td>\n",
       "      <td>-0.006946</td>\n",
       "      <td>-0.007229</td>\n",
       "      <td>0.029077</td>\n",
       "      <td>0.020123</td>\n",
       "      <td>-0.009324</td>\n",
       "      <td>0.017085</td>\n",
       "      <td>-0.001514</td>\n",
       "      <td>0.007208</td>\n",
       "      <td>...</td>\n",
       "      <td>-0.021740</td>\n",
       "      <td>0.010964</td>\n",
       "      <td>-0.013762</td>\n",
       "      <td>-0.001215</td>\n",
       "      <td>0.002120</td>\n",
       "      <td>-0.005671</td>\n",
       "      <td>-0.013991</td>\n",
       "      <td>0.001609</td>\n",
       "      <td>0.005383</td>\n",
       "      <td>0.024867</td>\n",
       "    </tr>\n",
       "    <tr>\n",
       "      <th>8</th>\n",
       "      <td>0.031612</td>\n",
       "      <td>0.005114</td>\n",
       "      <td>-0.001766</td>\n",
       "      <td>-0.008031</td>\n",
       "      <td>0.030683</td>\n",
       "      <td>0.022809</td>\n",
       "      <td>-0.010835</td>\n",
       "      <td>0.015707</td>\n",
       "      <td>0.001529</td>\n",
       "      <td>0.007906</td>\n",
       "      <td>...</td>\n",
       "      <td>-0.021125</td>\n",
       "      <td>0.014510</td>\n",
       "      <td>-0.018261</td>\n",
       "      <td>-0.001205</td>\n",
       "      <td>0.000261</td>\n",
       "      <td>-0.000428</td>\n",
       "      <td>-0.012315</td>\n",
       "      <td>0.000861</td>\n",
       "      <td>0.001190</td>\n",
       "      <td>0.018538</td>\n",
       "    </tr>\n",
       "    <tr>\n",
       "      <th>9</th>\n",
       "      <td>0.031538</td>\n",
       "      <td>0.004896</td>\n",
       "      <td>-0.004295</td>\n",
       "      <td>-0.014466</td>\n",
       "      <td>0.028945</td>\n",
       "      <td>0.034904</td>\n",
       "      <td>-0.010208</td>\n",
       "      <td>0.016984</td>\n",
       "      <td>0.002775</td>\n",
       "      <td>0.010665</td>\n",
       "      <td>...</td>\n",
       "      <td>-0.014534</td>\n",
       "      <td>0.008947</td>\n",
       "      <td>-0.015794</td>\n",
       "      <td>0.003662</td>\n",
       "      <td>0.001706</td>\n",
       "      <td>0.002357</td>\n",
       "      <td>-0.011279</td>\n",
       "      <td>0.000800</td>\n",
       "      <td>0.002695</td>\n",
       "      <td>0.013350</td>\n",
       "    </tr>\n",
       "    <tr>\n",
       "      <th>10</th>\n",
       "      <td>0.028874</td>\n",
       "      <td>0.006672</td>\n",
       "      <td>-0.005578</td>\n",
       "      <td>-0.016672</td>\n",
       "      <td>0.026268</td>\n",
       "      <td>0.033854</td>\n",
       "      <td>-0.009474</td>\n",
       "      <td>0.015305</td>\n",
       "      <td>0.003341</td>\n",
       "      <td>0.008285</td>\n",
       "      <td>...</td>\n",
       "      <td>-0.018914</td>\n",
       "      <td>0.011138</td>\n",
       "      <td>-0.013533</td>\n",
       "      <td>0.003385</td>\n",
       "      <td>0.007232</td>\n",
       "      <td>0.004088</td>\n",
       "      <td>-0.008830</td>\n",
       "      <td>0.000591</td>\n",
       "      <td>0.003368</td>\n",
       "      <td>0.016189</td>\n",
       "    </tr>\n",
       "  </tbody>\n",
       "</table>\n",
       "<p>21 rows × 1000 columns</p>\n",
       "</div>"
      ],
      "text/plain": [
       "             0         1         2         3         4         5         6    \\\n",
       "Offset                                                                         \n",
       "-10     0.003908  0.001958  0.001706 -0.000306 -0.001315 -0.004910 -0.001511   \n",
       "-9      0.000139 -0.001565  0.003405 -0.004681 -0.000206 -0.000626 -0.005096   \n",
       "-8      0.002001 -0.003181  0.001852 -0.004482 -0.002202 -0.005423 -0.006456   \n",
       "-7      0.003449 -0.002380  0.001628 -0.007611  0.001026 -0.000579 -0.007879   \n",
       "-6      0.003280 -0.008792  0.000061 -0.002807  0.006173 -0.002020 -0.009113   \n",
       "-5      0.004053 -0.008165  0.002873 -0.004620  0.004904 -0.007151 -0.007246   \n",
       "-4      0.006434 -0.008377 -0.000080 -0.010525  0.002295 -0.011912 -0.009854   \n",
       "-3      0.010246 -0.002298 -0.007039 -0.013668  0.006914 -0.006778 -0.006888   \n",
       "-2      0.013178 -0.003237 -0.009566 -0.014130  0.006864  0.000482 -0.004884   \n",
       "-1      0.011717 -0.003809 -0.013284 -0.012359  0.007191 -0.002481 -0.008828   \n",
       " 0      0.029465 -0.006959 -0.005665 -0.010700  0.014107  0.009901 -0.001514   \n",
       " 1      0.028132 -0.009991 -0.006972 -0.009235  0.016709  0.012563 -0.011991   \n",
       " 2      0.029061 -0.001925  0.003983 -0.006028  0.020000  0.022167 -0.019263   \n",
       " 3      0.030560 -0.001599  0.007054 -0.007169  0.024762  0.020677 -0.011349   \n",
       " 4      0.026800  0.001454  0.001576 -0.009038  0.025209  0.018078 -0.012056   \n",
       " 5      0.023168  0.002519 -0.006601 -0.007368  0.024170  0.019816 -0.009494   \n",
       " 6      0.028232  0.002943 -0.003518 -0.009333  0.025289  0.017644 -0.008631   \n",
       " 7      0.030286  0.004728 -0.006946 -0.007229  0.029077  0.020123 -0.009324   \n",
       " 8      0.031612  0.005114 -0.001766 -0.008031  0.030683  0.022809 -0.010835   \n",
       " 9      0.031538  0.004896 -0.004295 -0.014466  0.028945  0.034904 -0.010208   \n",
       " 10     0.028874  0.006672 -0.005578 -0.016672  0.026268  0.033854 -0.009474   \n",
       "\n",
       "             7         8         9    ...       990       991       992  \\\n",
       "Offset                                ...                                 \n",
       "-10     0.004605 -0.001010  0.000974  ...  0.002674  0.002309 -0.000555   \n",
       "-9      0.007760  0.004265  0.003993  ...  0.002301 -0.001111  0.005391   \n",
       "-8      0.005994  0.006729  0.001809  ...  0.001754 -0.000771 -0.006833   \n",
       "-7      0.010209  0.006446  0.003416  ...  0.003848  0.002868 -0.005962   \n",
       "-6      0.015390  0.003520  0.000965  ...  0.002808  0.009904 -0.004273   \n",
       "-5      0.011030 -0.002442  0.001658  ...  0.004340  0.008086 -0.005490   \n",
       "-4      0.011708 -0.004205  0.000249  ... -0.002447  0.010993 -0.008822   \n",
       "-3      0.008620 -0.004121  0.001943  ... -0.001093  0.008421 -0.003713   \n",
       "-2      0.008876 -0.004265  0.009852  ... -0.004111  0.009496 -0.001138   \n",
       "-1      0.009224 -0.007827  0.011735  ... -0.009143  0.005945 -0.004086   \n",
       " 0      0.012911 -0.002015  0.007429  ... -0.007096  0.010157 -0.003912   \n",
       " 1      0.013908 -0.002327  0.003079  ... -0.007972  0.012201 -0.009407   \n",
       " 2      0.020395 -0.003767  0.004468  ... -0.005242  0.016269 -0.006890   \n",
       " 3      0.021930 -0.000426  0.006177  ... -0.008442  0.018021 -0.005503   \n",
       " 4      0.023997  0.000853  0.004589  ... -0.009787  0.016065 -0.007108   \n",
       " 5      0.020780  0.000590  0.007438  ... -0.011486  0.012234 -0.010874   \n",
       " 6      0.021972  0.002413  0.006538  ... -0.018807  0.010098 -0.009978   \n",
       " 7      0.017085 -0.001514  0.007208  ... -0.021740  0.010964 -0.013762   \n",
       " 8      0.015707  0.001529  0.007906  ... -0.021125  0.014510 -0.018261   \n",
       " 9      0.016984  0.002775  0.010665  ... -0.014534  0.008947 -0.015794   \n",
       " 10     0.015305  0.003341  0.008285  ... -0.018914  0.011138 -0.013533   \n",
       "\n",
       "             993       994       995       996       997       998       999  \n",
       "Offset                                                                        \n",
       "-10    -0.001330  0.001536  0.005051  0.000318  0.003598  0.003169  0.000637  \n",
       "-9     -0.002488  0.002864  0.008674 -0.003128  0.004204  0.007928 -0.002167  \n",
       "-8     -0.002725  0.002493  0.011718 -0.006527  0.000417  0.010843 -0.002920  \n",
       "-7      0.000425  0.001624  0.009408 -0.011973 -0.003674  0.009949  0.000645  \n",
       "-6      0.005523  0.000714  0.012518 -0.014787 -0.003044  0.010158  0.002155  \n",
       "-5      0.008644  0.000890  0.011375 -0.013593 -0.006297  0.010708  0.005012  \n",
       "-4      0.004358 -0.003935  0.010620 -0.013795 -0.003950  0.013445  0.007532  \n",
       "-3      0.004867 -0.003413  0.009557 -0.012470  0.001424  0.012858  0.007168  \n",
       "-2      0.006265  0.001493  0.006243 -0.014722 -0.001426  0.019716  0.009291  \n",
       "-1      0.006991 -0.005913  0.007713 -0.015329 -0.003359  0.017176  0.007504  \n",
       " 0      0.018252  0.001168  0.016413 -0.016017  0.005802  0.012028  0.040968  \n",
       " 1      0.009274  0.001887  0.012339 -0.014692  0.006359  0.012719  0.041113  \n",
       " 2      0.008746  0.013205  0.008813 -0.017097  0.009467  0.016330  0.040850  \n",
       " 3      0.009761  0.009163  0.006371 -0.016790  0.004266  0.011429  0.039124  \n",
       " 4      0.008788  0.006930  0.005899 -0.014321  0.009534  0.012524  0.033094  \n",
       " 5      0.005333  0.006800  0.006329 -0.011693  0.007603  0.010291  0.030882  \n",
       " 6      0.000315  0.005608 -0.004387 -0.009607  0.002652  0.011138  0.027950  \n",
       " 7     -0.001215  0.002120 -0.005671 -0.013991  0.001609  0.005383  0.024867  \n",
       " 8     -0.001205  0.000261 -0.000428 -0.012315  0.000861  0.001190  0.018538  \n",
       " 9      0.003662  0.001706  0.002357 -0.011279  0.000800  0.002695  0.013350  \n",
       " 10     0.003385  0.007232  0.004088 -0.008830  0.000591  0.003368  0.016189  \n",
       "\n",
       "[21 rows x 1000 columns]"
      ]
     },
     "execution_count": 13,
     "metadata": {},
     "output_type": "execute_result"
    }
   ],
   "source": [
    "# Each column represents mean CAR value obtained in each bootstrap run\n",
    "bootstrap_results_df"
   ]
  },
  {
   "cell_type": "code",
   "execution_count": 14,
   "metadata": {},
   "outputs": [
    {
     "data": {
      "application/vnd.plotly.v1+json": {
       "config": {
        "plotlyServerURL": "https://plot.ly"
       },
       "data": [
        {
         "line": {
          "color": "rgb(0, 0, 255)"
         },
         "mode": "lines",
         "name": "Mean",
         "showlegend": true,
         "type": "scatter",
         "x": [
          -10,
          -9,
          -8,
          -7,
          -6,
          -5,
          -4,
          -3,
          -2,
          -1,
          0,
          1,
          2,
          3,
          4,
          5,
          6,
          7,
          8,
          9,
          10
         ],
         "y": [
          -0.00511879109776009,
          -0.006913276781811591,
          -0.008918332494544282,
          -0.009971906437167843,
          -0.014504364231776925,
          -0.008354821135651601,
          -0.008014617347807727,
          -0.008249459533604021,
          -0.005907715400138273,
          -0.00585726566486169,
          0.19968341950854754,
          0.19511308445437112,
          0.19312882187174782,
          0.19588943618191082,
          0.19591547037603693,
          0.19547811206452784,
          0.1983117225309353,
          0.1973566794278568,
          0.19684187311165546,
          0.19648651159203942,
          0.19438036486477986
         ]
        },
        {
         "line": {
          "color": "rgba(0, 0, 255, 0.5)",
          "dash": "dash",
          "width": 1
         },
         "mode": "lines",
         "name": "Q:0.99 by bootstrap",
         "showlegend": true,
         "type": "scatter",
         "x": [
          -10,
          -9,
          -8,
          -7,
          -6,
          -5,
          -4,
          -3,
          -2,
          -1,
          0,
          1,
          2,
          3,
          4,
          5,
          6,
          7,
          8,
          9,
          10
         ],
         "y": [
          0.008025410305433646,
          0.020978701774891858,
          0.014972101373177536,
          0.016535840440063242,
          0.018702730147136946,
          0.021486945421724926,
          0.022763912885364015,
          0.02228818519777466,
          0.02542816916368631,
          0.023244639904932234,
          0.04097962866497454,
          0.04112617462383904,
          0.04494250995561856,
          0.0460144962281756,
          0.04570460501630146,
          0.05020536885836003,
          0.04634005248836303,
          0.044618666299600686,
          0.048628022837972455,
          0.050054830587749385,
          0.05048243553714828
         ]
        },
        {
         "fill": "tonextx",
         "fillcolor": "rgba(0, 0, 255,0.1)",
         "line": {
          "color": "rgba(0, 0, 255, 0.5)",
          "dash": "dash",
          "width": 1
         },
         "mode": "lines",
         "name": "ShadedArea",
         "showlegend": false,
         "type": "scatter",
         "x": [
          -10,
          -9,
          -8,
          -7,
          -6,
          -5,
          -4,
          -3,
          -2,
          -1,
          0,
          1,
          2,
          3,
          4,
          5,
          6,
          7,
          8,
          9,
          10
         ],
         "y": [
          -0.008325164080768024,
          -0.010651762680347227,
          -0.015278497989240377,
          -0.016581682544809878,
          -0.019814351716740865,
          -0.02171034639973374,
          -0.022154606276393984,
          -0.024652292776978592,
          -0.023346857982125956,
          -0.025131704537736575,
          -0.022384684444492906,
          -0.022994895813409737,
          -0.026360706705655088,
          -0.02492218135477822,
          -0.027885338260945972,
          -0.02872442434261613,
          -0.031569601950341274,
          -0.03082744253005471,
          -0.035004887492494544,
          -0.03509567978693145,
          -0.035784740323900006
         ]
        },
        {
         "line": {
          "color": "rgba(0, 0, 255, 0.5)",
          "dash": "dash",
          "width": 1
         },
         "mode": "lines",
         "name": "Q:0.01 by bootstrap",
         "showlegend": true,
         "type": "scatter",
         "x": [
          -10,
          -9,
          -8,
          -7,
          -6,
          -5,
          -4,
          -3,
          -2,
          -1,
          0,
          1,
          2,
          3,
          4,
          5,
          6,
          7,
          8,
          9,
          10
         ],
         "y": [
          -0.008325164080768024,
          -0.010651762680347227,
          -0.015278497989240377,
          -0.016581682544809878,
          -0.019814351716740865,
          -0.02171034639973374,
          -0.022154606276393984,
          -0.024652292776978592,
          -0.023346857982125956,
          -0.025131704537736575,
          -0.022384684444492906,
          -0.022994895813409737,
          -0.026360706705655088,
          -0.02492218135477822,
          -0.027885338260945972,
          -0.02872442434261613,
          -0.031569601950341274,
          -0.03082744253005471,
          -0.035004887492494544,
          -0.03509567978693145,
          -0.035784740323900006
         ]
        }
       ],
       "layout": {
        "legend": {
         "orientation": "h",
         "x": 0.5,
         "xanchor": "center",
         "y": -0.2
        },
        "shapes": [
         {
          "line": {
           "color": "rgba(0, 0,0, 0.5)",
           "width": 1
          },
          "type": "line",
          "x0": 0,
          "x1": 0,
          "xref": "x",
          "y0": 0,
          "y1": 1,
          "yref": "y domain"
         },
         {
          "line": {
           "color": "rgba(0, 0,0, 0.5)",
           "width": 1
          },
          "type": "line",
          "x0": 0,
          "x1": 1,
          "xref": "x domain",
          "y0": 0,
          "y1": 0,
          "yref": "y"
         }
        ],
        "template": {
         "data": {
          "bar": [
           {
            "error_x": {
             "color": "#2a3f5f"
            },
            "error_y": {
             "color": "#2a3f5f"
            },
            "marker": {
             "line": {
              "color": "white",
              "width": 0.5
             },
             "pattern": {
              "fillmode": "overlay",
              "size": 10,
              "solidity": 0.2
             }
            },
            "type": "bar"
           }
          ],
          "barpolar": [
           {
            "marker": {
             "line": {
              "color": "white",
              "width": 0.5
             },
             "pattern": {
              "fillmode": "overlay",
              "size": 10,
              "solidity": 0.2
             }
            },
            "type": "barpolar"
           }
          ],
          "carpet": [
           {
            "aaxis": {
             "endlinecolor": "#2a3f5f",
             "gridcolor": "#C8D4E3",
             "linecolor": "#C8D4E3",
             "minorgridcolor": "#C8D4E3",
             "startlinecolor": "#2a3f5f"
            },
            "baxis": {
             "endlinecolor": "#2a3f5f",
             "gridcolor": "#C8D4E3",
             "linecolor": "#C8D4E3",
             "minorgridcolor": "#C8D4E3",
             "startlinecolor": "#2a3f5f"
            },
            "type": "carpet"
           }
          ],
          "choropleth": [
           {
            "colorbar": {
             "outlinewidth": 0,
             "ticks": ""
            },
            "type": "choropleth"
           }
          ],
          "contour": [
           {
            "colorbar": {
             "outlinewidth": 0,
             "ticks": ""
            },
            "colorscale": [
             [
              0,
              "#0d0887"
             ],
             [
              0.1111111111111111,
              "#46039f"
             ],
             [
              0.2222222222222222,
              "#7201a8"
             ],
             [
              0.3333333333333333,
              "#9c179e"
             ],
             [
              0.4444444444444444,
              "#bd3786"
             ],
             [
              0.5555555555555556,
              "#d8576b"
             ],
             [
              0.6666666666666666,
              "#ed7953"
             ],
             [
              0.7777777777777778,
              "#fb9f3a"
             ],
             [
              0.8888888888888888,
              "#fdca26"
             ],
             [
              1,
              "#f0f921"
             ]
            ],
            "type": "contour"
           }
          ],
          "contourcarpet": [
           {
            "colorbar": {
             "outlinewidth": 0,
             "ticks": ""
            },
            "type": "contourcarpet"
           }
          ],
          "heatmap": [
           {
            "colorbar": {
             "outlinewidth": 0,
             "ticks": ""
            },
            "colorscale": [
             [
              0,
              "#0d0887"
             ],
             [
              0.1111111111111111,
              "#46039f"
             ],
             [
              0.2222222222222222,
              "#7201a8"
             ],
             [
              0.3333333333333333,
              "#9c179e"
             ],
             [
              0.4444444444444444,
              "#bd3786"
             ],
             [
              0.5555555555555556,
              "#d8576b"
             ],
             [
              0.6666666666666666,
              "#ed7953"
             ],
             [
              0.7777777777777778,
              "#fb9f3a"
             ],
             [
              0.8888888888888888,
              "#fdca26"
             ],
             [
              1,
              "#f0f921"
             ]
            ],
            "type": "heatmap"
           }
          ],
          "heatmapgl": [
           {
            "colorbar": {
             "outlinewidth": 0,
             "ticks": ""
            },
            "colorscale": [
             [
              0,
              "#0d0887"
             ],
             [
              0.1111111111111111,
              "#46039f"
             ],
             [
              0.2222222222222222,
              "#7201a8"
             ],
             [
              0.3333333333333333,
              "#9c179e"
             ],
             [
              0.4444444444444444,
              "#bd3786"
             ],
             [
              0.5555555555555556,
              "#d8576b"
             ],
             [
              0.6666666666666666,
              "#ed7953"
             ],
             [
              0.7777777777777778,
              "#fb9f3a"
             ],
             [
              0.8888888888888888,
              "#fdca26"
             ],
             [
              1,
              "#f0f921"
             ]
            ],
            "type": "heatmapgl"
           }
          ],
          "histogram": [
           {
            "marker": {
             "pattern": {
              "fillmode": "overlay",
              "size": 10,
              "solidity": 0.2
             }
            },
            "type": "histogram"
           }
          ],
          "histogram2d": [
           {
            "colorbar": {
             "outlinewidth": 0,
             "ticks": ""
            },
            "colorscale": [
             [
              0,
              "#0d0887"
             ],
             [
              0.1111111111111111,
              "#46039f"
             ],
             [
              0.2222222222222222,
              "#7201a8"
             ],
             [
              0.3333333333333333,
              "#9c179e"
             ],
             [
              0.4444444444444444,
              "#bd3786"
             ],
             [
              0.5555555555555556,
              "#d8576b"
             ],
             [
              0.6666666666666666,
              "#ed7953"
             ],
             [
              0.7777777777777778,
              "#fb9f3a"
             ],
             [
              0.8888888888888888,
              "#fdca26"
             ],
             [
              1,
              "#f0f921"
             ]
            ],
            "type": "histogram2d"
           }
          ],
          "histogram2dcontour": [
           {
            "colorbar": {
             "outlinewidth": 0,
             "ticks": ""
            },
            "colorscale": [
             [
              0,
              "#0d0887"
             ],
             [
              0.1111111111111111,
              "#46039f"
             ],
             [
              0.2222222222222222,
              "#7201a8"
             ],
             [
              0.3333333333333333,
              "#9c179e"
             ],
             [
              0.4444444444444444,
              "#bd3786"
             ],
             [
              0.5555555555555556,
              "#d8576b"
             ],
             [
              0.6666666666666666,
              "#ed7953"
             ],
             [
              0.7777777777777778,
              "#fb9f3a"
             ],
             [
              0.8888888888888888,
              "#fdca26"
             ],
             [
              1,
              "#f0f921"
             ]
            ],
            "type": "histogram2dcontour"
           }
          ],
          "mesh3d": [
           {
            "colorbar": {
             "outlinewidth": 0,
             "ticks": ""
            },
            "type": "mesh3d"
           }
          ],
          "parcoords": [
           {
            "line": {
             "colorbar": {
              "outlinewidth": 0,
              "ticks": ""
             }
            },
            "type": "parcoords"
           }
          ],
          "pie": [
           {
            "automargin": true,
            "type": "pie"
           }
          ],
          "scatter": [
           {
            "fillpattern": {
             "fillmode": "overlay",
             "size": 10,
             "solidity": 0.2
            },
            "type": "scatter"
           }
          ],
          "scatter3d": [
           {
            "line": {
             "colorbar": {
              "outlinewidth": 0,
              "ticks": ""
             }
            },
            "marker": {
             "colorbar": {
              "outlinewidth": 0,
              "ticks": ""
             }
            },
            "type": "scatter3d"
           }
          ],
          "scattercarpet": [
           {
            "marker": {
             "colorbar": {
              "outlinewidth": 0,
              "ticks": ""
             }
            },
            "type": "scattercarpet"
           }
          ],
          "scattergeo": [
           {
            "marker": {
             "colorbar": {
              "outlinewidth": 0,
              "ticks": ""
             }
            },
            "type": "scattergeo"
           }
          ],
          "scattergl": [
           {
            "marker": {
             "colorbar": {
              "outlinewidth": 0,
              "ticks": ""
             }
            },
            "type": "scattergl"
           }
          ],
          "scattermapbox": [
           {
            "marker": {
             "colorbar": {
              "outlinewidth": 0,
              "ticks": ""
             }
            },
            "type": "scattermapbox"
           }
          ],
          "scatterpolar": [
           {
            "marker": {
             "colorbar": {
              "outlinewidth": 0,
              "ticks": ""
             }
            },
            "type": "scatterpolar"
           }
          ],
          "scatterpolargl": [
           {
            "marker": {
             "colorbar": {
              "outlinewidth": 0,
              "ticks": ""
             }
            },
            "type": "scatterpolargl"
           }
          ],
          "scatterternary": [
           {
            "marker": {
             "colorbar": {
              "outlinewidth": 0,
              "ticks": ""
             }
            },
            "type": "scatterternary"
           }
          ],
          "surface": [
           {
            "colorbar": {
             "outlinewidth": 0,
             "ticks": ""
            },
            "colorscale": [
             [
              0,
              "#0d0887"
             ],
             [
              0.1111111111111111,
              "#46039f"
             ],
             [
              0.2222222222222222,
              "#7201a8"
             ],
             [
              0.3333333333333333,
              "#9c179e"
             ],
             [
              0.4444444444444444,
              "#bd3786"
             ],
             [
              0.5555555555555556,
              "#d8576b"
             ],
             [
              0.6666666666666666,
              "#ed7953"
             ],
             [
              0.7777777777777778,
              "#fb9f3a"
             ],
             [
              0.8888888888888888,
              "#fdca26"
             ],
             [
              1,
              "#f0f921"
             ]
            ],
            "type": "surface"
           }
          ],
          "table": [
           {
            "cells": {
             "fill": {
              "color": "#EBF0F8"
             },
             "line": {
              "color": "white"
             }
            },
            "header": {
             "fill": {
              "color": "#C8D4E3"
             },
             "line": {
              "color": "white"
             }
            },
            "type": "table"
           }
          ]
         },
         "layout": {
          "annotationdefaults": {
           "arrowcolor": "#2a3f5f",
           "arrowhead": 0,
           "arrowwidth": 1
          },
          "autotypenumbers": "strict",
          "coloraxis": {
           "colorbar": {
            "outlinewidth": 0,
            "ticks": ""
           }
          },
          "colorscale": {
           "diverging": [
            [
             0,
             "#8e0152"
            ],
            [
             0.1,
             "#c51b7d"
            ],
            [
             0.2,
             "#de77ae"
            ],
            [
             0.3,
             "#f1b6da"
            ],
            [
             0.4,
             "#fde0ef"
            ],
            [
             0.5,
             "#f7f7f7"
            ],
            [
             0.6,
             "#e6f5d0"
            ],
            [
             0.7,
             "#b8e186"
            ],
            [
             0.8,
             "#7fbc41"
            ],
            [
             0.9,
             "#4d9221"
            ],
            [
             1,
             "#276419"
            ]
           ],
           "sequential": [
            [
             0,
             "#0d0887"
            ],
            [
             0.1111111111111111,
             "#46039f"
            ],
            [
             0.2222222222222222,
             "#7201a8"
            ],
            [
             0.3333333333333333,
             "#9c179e"
            ],
            [
             0.4444444444444444,
             "#bd3786"
            ],
            [
             0.5555555555555556,
             "#d8576b"
            ],
            [
             0.6666666666666666,
             "#ed7953"
            ],
            [
             0.7777777777777778,
             "#fb9f3a"
            ],
            [
             0.8888888888888888,
             "#fdca26"
            ],
            [
             1,
             "#f0f921"
            ]
           ],
           "sequentialminus": [
            [
             0,
             "#0d0887"
            ],
            [
             0.1111111111111111,
             "#46039f"
            ],
            [
             0.2222222222222222,
             "#7201a8"
            ],
            [
             0.3333333333333333,
             "#9c179e"
            ],
            [
             0.4444444444444444,
             "#bd3786"
            ],
            [
             0.5555555555555556,
             "#d8576b"
            ],
            [
             0.6666666666666666,
             "#ed7953"
            ],
            [
             0.7777777777777778,
             "#fb9f3a"
            ],
            [
             0.8888888888888888,
             "#fdca26"
            ],
            [
             1,
             "#f0f921"
            ]
           ]
          },
          "colorway": [
           "#636efa",
           "#EF553B",
           "#00cc96",
           "#ab63fa",
           "#FFA15A",
           "#19d3f3",
           "#FF6692",
           "#B6E880",
           "#FF97FF",
           "#FECB52"
          ],
          "font": {
           "color": "#2a3f5f"
          },
          "geo": {
           "bgcolor": "white",
           "lakecolor": "white",
           "landcolor": "white",
           "showlakes": true,
           "showland": true,
           "subunitcolor": "#C8D4E3"
          },
          "hoverlabel": {
           "align": "left"
          },
          "hovermode": "closest",
          "mapbox": {
           "style": "light"
          },
          "paper_bgcolor": "white",
          "plot_bgcolor": "white",
          "polar": {
           "angularaxis": {
            "gridcolor": "#EBF0F8",
            "linecolor": "#EBF0F8",
            "ticks": ""
           },
           "bgcolor": "white",
           "radialaxis": {
            "gridcolor": "#EBF0F8",
            "linecolor": "#EBF0F8",
            "ticks": ""
           }
          },
          "scene": {
           "xaxis": {
            "backgroundcolor": "white",
            "gridcolor": "#DFE8F3",
            "gridwidth": 2,
            "linecolor": "#EBF0F8",
            "showbackground": true,
            "ticks": "",
            "zerolinecolor": "#EBF0F8"
           },
           "yaxis": {
            "backgroundcolor": "white",
            "gridcolor": "#DFE8F3",
            "gridwidth": 2,
            "linecolor": "#EBF0F8",
            "showbackground": true,
            "ticks": "",
            "zerolinecolor": "#EBF0F8"
           },
           "zaxis": {
            "backgroundcolor": "white",
            "gridcolor": "#DFE8F3",
            "gridwidth": 2,
            "linecolor": "#EBF0F8",
            "showbackground": true,
            "ticks": "",
            "zerolinecolor": "#EBF0F8"
           }
          },
          "shapedefaults": {
           "line": {
            "color": "#2a3f5f"
           }
          },
          "ternary": {
           "aaxis": {
            "gridcolor": "#DFE8F3",
            "linecolor": "#A2B1C6",
            "ticks": ""
           },
           "baxis": {
            "gridcolor": "#DFE8F3",
            "linecolor": "#A2B1C6",
            "ticks": ""
           },
           "bgcolor": "white",
           "caxis": {
            "gridcolor": "#DFE8F3",
            "linecolor": "#A2B1C6",
            "ticks": ""
           }
          },
          "title": {
           "x": 0.05
          },
          "xaxis": {
           "automargin": true,
           "gridcolor": "#EBF0F8",
           "linecolor": "#EBF0F8",
           "ticks": "",
           "title": {
            "standoff": 15
           },
           "zerolinecolor": "#EBF0F8",
           "zerolinewidth": 2
          },
          "yaxis": {
           "automargin": true,
           "gridcolor": "#EBF0F8",
           "linecolor": "#EBF0F8",
           "ticks": "",
           "title": {
            "standoff": 15
           },
           "zerolinecolor": "#EBF0F8",
           "zerolinewidth": 2
          }
         }
        },
        "title": {
         "text": "<b>Cumulitative Abnormal Return: Mean & 99% Confidence Limits</b><br><i>Based on 48 non-missing events"
        },
        "xaxis": {
         "title": {
          "text": "Day Relative to Event"
         }
        },
        "yaxis": {
         "tickformat": ",.1%",
         "title": {
          "text": "Return"
         }
        }
       }
      }
     },
     "metadata": {},
     "output_type": "display_data"
    }
   ],
   "source": [
    "# Provide plotting function with a calculated bootstrap results to plot on the graph\n",
    "plot_mean_car(results_df, bootstrap_df=bootstrap_results_df, critical_value=0.99)"
   ]
  }
 ],
 "metadata": {
  "kernelspec": {
   "display_name": "py39",
   "language": "python",
   "name": "python3"
  },
  "language_info": {
   "codemirror_mode": {
    "name": "ipython",
    "version": 3
   },
   "file_extension": ".py",
   "mimetype": "text/x-python",
   "name": "python",
   "nbconvert_exporter": "python",
   "pygments_lexer": "ipython3",
   "version": "3.9.15"
  }
 },
 "nbformat": 4,
 "nbformat_minor": 2
}
