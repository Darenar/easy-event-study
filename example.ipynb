{
 "cells": [
  {
   "cell_type": "code",
   "execution_count": null,
   "metadata": {},
   "outputs": [],
   "source": [
    "# Install the package\n",
    "!pip install easy_es"
   ]
  },
  {
   "cell_type": "code",
   "execution_count": 29,
   "metadata": {},
   "outputs": [],
   "source": [
    "import pandas as pd\n",
    "\n",
    "from easy_es import EventStudy, plot_mean_car, calculate_car_stats, plot_joint_mean_car"
   ]
  },
  {
   "cell_type": "markdown",
   "metadata": {},
   "source": [
    "### Run single event study"
   ]
  },
  {
   "cell_type": "code",
   "execution_count": null,
   "metadata": {},
   "outputs": [],
   "source": [
    "# Load test events\n",
    "events_df = pd.read_csv('tests/test_one/input_events.csv')"
   ]
  },
  {
   "cell_type": "code",
   "execution_count": 23,
   "metadata": {},
   "outputs": [],
   "source": [
    "# Initialize EventStudy class object\n",
    "event_study = EventStudy(\n",
    "    estimation_days=255,\n",
    "    gap_days=50,\n",
    "    window_after=10,\n",
    "    window_before=10,\n",
    "    min_estimation_days=100,\n",
    "    estimator_type='ff5',\n",
    "    n_cores=1 # Change for multiprocessing\n",
    ")\n",
    "\n",
    "# Run the study\n",
    "results_df = event_study.run_study(events_df)"
   ]
  },
  {
   "cell_type": "code",
   "execution_count": 21,
   "metadata": {},
   "outputs": [
    {
     "data": {
      "text/html": [
       "<div>\n",
       "<style scoped>\n",
       "    .dataframe tbody tr th:only-of-type {\n",
       "        vertical-align: middle;\n",
       "    }\n",
       "\n",
       "    .dataframe tbody tr th {\n",
       "        vertical-align: top;\n",
       "    }\n",
       "\n",
       "    .dataframe thead th {\n",
       "        text-align: right;\n",
       "    }\n",
       "</style>\n",
       "<table border=\"1\" class=\"dataframe\">\n",
       "  <thead>\n",
       "    <tr style=\"text-align: right;\">\n",
       "      <th></th>\n",
       "      <th>mean</th>\n",
       "      <th>median</th>\n",
       "      <th>sd</th>\n",
       "      <th>t_stat</th>\n",
       "      <th>p_value</th>\n",
       "      <th>upper_ci</th>\n",
       "      <th>lower_ci</th>\n",
       "    </tr>\n",
       "    <tr>\n",
       "      <th>Offset</th>\n",
       "      <th></th>\n",
       "      <th></th>\n",
       "      <th></th>\n",
       "      <th></th>\n",
       "      <th></th>\n",
       "      <th></th>\n",
       "      <th></th>\n",
       "    </tr>\n",
       "  </thead>\n",
       "  <tbody>\n",
       "    <tr>\n",
       "      <th>-10</th>\n",
       "      <td>-0.005119</td>\n",
       "      <td>-0.003075</td>\n",
       "      <td>0.002696</td>\n",
       "      <td>-1.898438</td>\n",
       "      <td>0.058</td>\n",
       "      <td>0.000166</td>\n",
       "      <td>-0.010403</td>\n",
       "    </tr>\n",
       "    <tr>\n",
       "      <th>-9</th>\n",
       "      <td>-0.006913</td>\n",
       "      <td>-0.005001</td>\n",
       "      <td>0.003902</td>\n",
       "      <td>-1.771816</td>\n",
       "      <td>0.076</td>\n",
       "      <td>0.000734</td>\n",
       "      <td>-0.014561</td>\n",
       "    </tr>\n",
       "    <tr>\n",
       "      <th>-8</th>\n",
       "      <td>-0.008918</td>\n",
       "      <td>-0.003972</td>\n",
       "      <td>0.006029</td>\n",
       "      <td>-1.479151</td>\n",
       "      <td>0.139</td>\n",
       "      <td>0.002899</td>\n",
       "      <td>-0.020736</td>\n",
       "    </tr>\n",
       "    <tr>\n",
       "      <th>-7</th>\n",
       "      <td>-0.009972</td>\n",
       "      <td>-0.004459</td>\n",
       "      <td>0.006938</td>\n",
       "      <td>-1.437232</td>\n",
       "      <td>0.151</td>\n",
       "      <td>0.003627</td>\n",
       "      <td>-0.023571</td>\n",
       "    </tr>\n",
       "    <tr>\n",
       "      <th>-6</th>\n",
       "      <td>-0.014504</td>\n",
       "      <td>-0.002461</td>\n",
       "      <td>0.007390</td>\n",
       "      <td>-1.962647</td>\n",
       "      <td>0.050</td>\n",
       "      <td>-0.000020</td>\n",
       "      <td>-0.028989</td>\n",
       "    </tr>\n",
       "    <tr>\n",
       "      <th>-5</th>\n",
       "      <td>-0.008355</td>\n",
       "      <td>0.002768</td>\n",
       "      <td>0.008282</td>\n",
       "      <td>-1.008806</td>\n",
       "      <td>0.313</td>\n",
       "      <td>0.007877</td>\n",
       "      <td>-0.024587</td>\n",
       "    </tr>\n",
       "    <tr>\n",
       "      <th>-4</th>\n",
       "      <td>-0.008015</td>\n",
       "      <td>0.002879</td>\n",
       "      <td>0.009823</td>\n",
       "      <td>-0.815920</td>\n",
       "      <td>0.415</td>\n",
       "      <td>0.011238</td>\n",
       "      <td>-0.027267</td>\n",
       "    </tr>\n",
       "    <tr>\n",
       "      <th>-3</th>\n",
       "      <td>-0.008249</td>\n",
       "      <td>0.003756</td>\n",
       "      <td>0.010280</td>\n",
       "      <td>-0.802497</td>\n",
       "      <td>0.422</td>\n",
       "      <td>0.011898</td>\n",
       "      <td>-0.028397</td>\n",
       "    </tr>\n",
       "    <tr>\n",
       "      <th>-2</th>\n",
       "      <td>-0.005908</td>\n",
       "      <td>-0.001566</td>\n",
       "      <td>0.010336</td>\n",
       "      <td>-0.571538</td>\n",
       "      <td>0.568</td>\n",
       "      <td>0.014351</td>\n",
       "      <td>-0.026167</td>\n",
       "    </tr>\n",
       "    <tr>\n",
       "      <th>-1</th>\n",
       "      <td>-0.005857</td>\n",
       "      <td>0.000842</td>\n",
       "      <td>0.010437</td>\n",
       "      <td>-0.561196</td>\n",
       "      <td>0.575</td>\n",
       "      <td>0.014599</td>\n",
       "      <td>-0.026314</td>\n",
       "    </tr>\n",
       "    <tr>\n",
       "      <th>0</th>\n",
       "      <td>0.199683</td>\n",
       "      <td>0.182320</td>\n",
       "      <td>0.016413</td>\n",
       "      <td>12.166383</td>\n",
       "      <td>0.000</td>\n",
       "      <td>0.231852</td>\n",
       "      <td>0.167515</td>\n",
       "    </tr>\n",
       "    <tr>\n",
       "      <th>1</th>\n",
       "      <td>0.195113</td>\n",
       "      <td>0.184524</td>\n",
       "      <td>0.014377</td>\n",
       "      <td>13.570817</td>\n",
       "      <td>0.000</td>\n",
       "      <td>0.223292</td>\n",
       "      <td>0.166934</td>\n",
       "    </tr>\n",
       "    <tr>\n",
       "      <th>2</th>\n",
       "      <td>0.193129</td>\n",
       "      <td>0.180037</td>\n",
       "      <td>0.015790</td>\n",
       "      <td>12.230929</td>\n",
       "      <td>0.000</td>\n",
       "      <td>0.224077</td>\n",
       "      <td>0.162181</td>\n",
       "    </tr>\n",
       "    <tr>\n",
       "      <th>3</th>\n",
       "      <td>0.195889</td>\n",
       "      <td>0.181100</td>\n",
       "      <td>0.015707</td>\n",
       "      <td>12.471707</td>\n",
       "      <td>0.000</td>\n",
       "      <td>0.226674</td>\n",
       "      <td>0.165105</td>\n",
       "    </tr>\n",
       "    <tr>\n",
       "      <th>4</th>\n",
       "      <td>0.195915</td>\n",
       "      <td>0.177109</td>\n",
       "      <td>0.015143</td>\n",
       "      <td>12.937640</td>\n",
       "      <td>0.000</td>\n",
       "      <td>0.225595</td>\n",
       "      <td>0.166236</td>\n",
       "    </tr>\n",
       "    <tr>\n",
       "      <th>5</th>\n",
       "      <td>0.195478</td>\n",
       "      <td>0.173240</td>\n",
       "      <td>0.015248</td>\n",
       "      <td>12.819774</td>\n",
       "      <td>0.000</td>\n",
       "      <td>0.225364</td>\n",
       "      <td>0.165592</td>\n",
       "    </tr>\n",
       "    <tr>\n",
       "      <th>6</th>\n",
       "      <td>0.198312</td>\n",
       "      <td>0.174393</td>\n",
       "      <td>0.014407</td>\n",
       "      <td>13.764773</td>\n",
       "      <td>0.000</td>\n",
       "      <td>0.226549</td>\n",
       "      <td>0.170074</td>\n",
       "    </tr>\n",
       "    <tr>\n",
       "      <th>7</th>\n",
       "      <td>0.197357</td>\n",
       "      <td>0.174934</td>\n",
       "      <td>0.014842</td>\n",
       "      <td>13.297298</td>\n",
       "      <td>0.000</td>\n",
       "      <td>0.226446</td>\n",
       "      <td>0.168267</td>\n",
       "    </tr>\n",
       "    <tr>\n",
       "      <th>8</th>\n",
       "      <td>0.196842</td>\n",
       "      <td>0.176545</td>\n",
       "      <td>0.015074</td>\n",
       "      <td>13.058191</td>\n",
       "      <td>0.000</td>\n",
       "      <td>0.226387</td>\n",
       "      <td>0.167297</td>\n",
       "    </tr>\n",
       "    <tr>\n",
       "      <th>9</th>\n",
       "      <td>0.196487</td>\n",
       "      <td>0.191662</td>\n",
       "      <td>0.015618</td>\n",
       "      <td>12.580380</td>\n",
       "      <td>0.000</td>\n",
       "      <td>0.227098</td>\n",
       "      <td>0.165875</td>\n",
       "    </tr>\n",
       "    <tr>\n",
       "      <th>10</th>\n",
       "      <td>0.194380</td>\n",
       "      <td>0.188896</td>\n",
       "      <td>0.015924</td>\n",
       "      <td>12.206763</td>\n",
       "      <td>0.000</td>\n",
       "      <td>0.225591</td>\n",
       "      <td>0.163170</td>\n",
       "    </tr>\n",
       "  </tbody>\n",
       "</table>\n",
       "</div>"
      ],
      "text/plain": [
       "            mean    median        sd     t_stat  p_value  upper_ci  lower_ci\n",
       "Offset                                                                      \n",
       "-10    -0.005119 -0.003075  0.002696  -1.898438    0.058  0.000166 -0.010403\n",
       "-9     -0.006913 -0.005001  0.003902  -1.771816    0.076  0.000734 -0.014561\n",
       "-8     -0.008918 -0.003972  0.006029  -1.479151    0.139  0.002899 -0.020736\n",
       "-7     -0.009972 -0.004459  0.006938  -1.437232    0.151  0.003627 -0.023571\n",
       "-6     -0.014504 -0.002461  0.007390  -1.962647    0.050 -0.000020 -0.028989\n",
       "-5     -0.008355  0.002768  0.008282  -1.008806    0.313  0.007877 -0.024587\n",
       "-4     -0.008015  0.002879  0.009823  -0.815920    0.415  0.011238 -0.027267\n",
       "-3     -0.008249  0.003756  0.010280  -0.802497    0.422  0.011898 -0.028397\n",
       "-2     -0.005908 -0.001566  0.010336  -0.571538    0.568  0.014351 -0.026167\n",
       "-1     -0.005857  0.000842  0.010437  -0.561196    0.575  0.014599 -0.026314\n",
       " 0      0.199683  0.182320  0.016413  12.166383    0.000  0.231852  0.167515\n",
       " 1      0.195113  0.184524  0.014377  13.570817    0.000  0.223292  0.166934\n",
       " 2      0.193129  0.180037  0.015790  12.230929    0.000  0.224077  0.162181\n",
       " 3      0.195889  0.181100  0.015707  12.471707    0.000  0.226674  0.165105\n",
       " 4      0.195915  0.177109  0.015143  12.937640    0.000  0.225595  0.166236\n",
       " 5      0.195478  0.173240  0.015248  12.819774    0.000  0.225364  0.165592\n",
       " 6      0.198312  0.174393  0.014407  13.764773    0.000  0.226549  0.170074\n",
       " 7      0.197357  0.174934  0.014842  13.297298    0.000  0.226446  0.168267\n",
       " 8      0.196842  0.176545  0.015074  13.058191    0.000  0.226387  0.167297\n",
       " 9      0.196487  0.191662  0.015618  12.580380    0.000  0.227098  0.165875\n",
       " 10     0.194380  0.188896  0.015924  12.206763    0.000  0.225591  0.163170"
      ]
     },
     "execution_count": 21,
     "metadata": {},
     "output_type": "execute_result"
    }
   ],
   "source": [
    "# Calculate average results in a dataframe format\n",
    "calculate_car_stats(results_df, critical_value=0.95)"
   ]
  },
  {
   "cell_type": "code",
   "execution_count": 22,
   "metadata": {},
   "outputs": [
    {
     "data": {
      "application/vnd.plotly.v1+json": {
       "config": {
        "plotlyServerURL": "https://plot.ly"
       },
       "data": [
        {
         "line": {
          "color": "rgb(0, 0, 255)"
         },
         "mode": "lines",
         "name": "Mean",
         "showlegend": true,
         "type": "scatter",
         "x": [
          -10,
          -9,
          -8,
          -7,
          -6,
          -5,
          -4,
          -3,
          -2,
          -1,
          0,
          1,
          2,
          3,
          4,
          5,
          6,
          7,
          8,
          9,
          10
         ],
         "y": [
          -0.005118767676854614,
          -0.006913285835475195,
          -0.008918321276938196,
          -0.009971886581566747,
          -0.014504349977419199,
          -0.008354790366070878,
          -0.00801461132045561,
          -0.008249457437492086,
          -0.005907686895707844,
          -0.005857257781240414,
          0.19968343423946813,
          0.19511310136776686,
          0.19312883437304318,
          0.19588944611098758,
          0.19591548801580203,
          0.19547812566607106,
          0.19831175747197793,
          0.19735671772233343,
          0.19684190905521592,
          0.19648653174547978,
          0.1943803845142301
         ]
        },
        {
         "line": {
          "color": "rgba(0, 0, 255, 0.5)",
          "dash": "dash",
          "width": 1
         },
         "mode": "lines",
         "name": "Mean + 1.64SE",
         "showlegend": true,
         "type": "scatter",
         "x": [
          -10,
          -9,
          -8,
          -7,
          -6,
          -5,
          -4,
          -3,
          -2,
          -1,
          0,
          1,
          2,
          3,
          4,
          5,
          6,
          7,
          8,
          9,
          10
         ],
         "y": [
          -0.0006837412144007574,
          -0.0004953825794718394,
          0.0009990820034573335,
          0.0014405355981915481,
          -0.002348555382814652,
          0.005267654410737375,
          0.008142438727977578,
          0.008659209444438359,
          0.011094297639699994,
          0.011310227225003341,
          0.22667995650096162,
          0.2187618246045006,
          0.21910140523689592,
          0.2217246791851467,
          0.22082360798789774,
          0.22055913745963426,
          0.22200948269974327,
          0.2217694148581822,
          0.2216367767251044,
          0.22217666102649666,
          0.22057301837930648
         ]
        },
        {
         "fill": "tonextx",
         "fillcolor": "rgba(0, 0, 255,0.1)",
         "line": {
          "color": "rgba(0, 0, 255, 0.5)",
          "dash": "dash",
          "width": 1
         },
         "mode": "lines",
         "name": "ShadedArea",
         "showlegend": false,
         "type": "scatter",
         "x": [
          -10,
          -9,
          -8,
          -7,
          -6,
          -5,
          -4,
          -3,
          -2,
          -1,
          0,
          1,
          2,
          3,
          4,
          5,
          6,
          7,
          8,
          9,
          10
         ],
         "y": [
          -0.00955379413930847,
          -0.01333118909147855,
          -0.018835724557333726,
          -0.021384308761325042,
          -0.026660144572023745,
          -0.02197723514287913,
          -0.0241716613688888,
          -0.02515812431942253,
          -0.02290967143111568,
          -0.02302474278748417,
          0.17268691197797464,
          0.1714643781310331,
          0.16715626350919044,
          0.17005421303682844,
          0.1710073680437063,
          0.17039711387250786,
          0.1746140322442126,
          0.17294402058648467,
          0.17204704138532745,
          0.1707964024644629,
          0.1681877506491537
         ]
        },
        {
         "line": {
          "color": "rgba(0, 0, 255, 0.5)",
          "dash": "dash",
          "width": 1
         },
         "mode": "lines",
         "name": "Mean - 1.64SE",
         "showlegend": true,
         "type": "scatter",
         "x": [
          -10,
          -9,
          -8,
          -7,
          -6,
          -5,
          -4,
          -3,
          -2,
          -1,
          0,
          1,
          2,
          3,
          4,
          5,
          6,
          7,
          8,
          9,
          10
         ],
         "y": [
          -0.00955379413930847,
          -0.01333118909147855,
          -0.018835724557333726,
          -0.021384308761325042,
          -0.026660144572023745,
          -0.02197723514287913,
          -0.0241716613688888,
          -0.02515812431942253,
          -0.02290967143111568,
          -0.02302474278748417,
          0.17268691197797464,
          0.1714643781310331,
          0.16715626350919044,
          0.17005421303682844,
          0.1710073680437063,
          0.17039711387250786,
          0.1746140322442126,
          0.17294402058648467,
          0.17204704138532745,
          0.1707964024644629,
          0.1681877506491537
         ]
        }
       ],
       "layout": {
        "legend": {
         "orientation": "h",
         "x": 0.5,
         "xanchor": "center",
         "y": -0.2
        },
        "shapes": [
         {
          "line": {
           "color": "rgba(0, 0,0, 0.5)",
           "width": 1
          },
          "type": "line",
          "x0": 0,
          "x1": 0,
          "xref": "x",
          "y0": 0,
          "y1": 1,
          "yref": "y domain"
         },
         {
          "line": {
           "color": "rgba(0, 0,0, 0.5)",
           "width": 1
          },
          "type": "line",
          "x0": 0,
          "x1": 1,
          "xref": "x domain",
          "y0": 0,
          "y1": 0,
          "yref": "y"
         }
        ],
        "template": {
         "data": {
          "bar": [
           {
            "error_x": {
             "color": "#2a3f5f"
            },
            "error_y": {
             "color": "#2a3f5f"
            },
            "marker": {
             "line": {
              "color": "white",
              "width": 0.5
             },
             "pattern": {
              "fillmode": "overlay",
              "size": 10,
              "solidity": 0.2
             }
            },
            "type": "bar"
           }
          ],
          "barpolar": [
           {
            "marker": {
             "line": {
              "color": "white",
              "width": 0.5
             },
             "pattern": {
              "fillmode": "overlay",
              "size": 10,
              "solidity": 0.2
             }
            },
            "type": "barpolar"
           }
          ],
          "carpet": [
           {
            "aaxis": {
             "endlinecolor": "#2a3f5f",
             "gridcolor": "#C8D4E3",
             "linecolor": "#C8D4E3",
             "minorgridcolor": "#C8D4E3",
             "startlinecolor": "#2a3f5f"
            },
            "baxis": {
             "endlinecolor": "#2a3f5f",
             "gridcolor": "#C8D4E3",
             "linecolor": "#C8D4E3",
             "minorgridcolor": "#C8D4E3",
             "startlinecolor": "#2a3f5f"
            },
            "type": "carpet"
           }
          ],
          "choropleth": [
           {
            "colorbar": {
             "outlinewidth": 0,
             "ticks": ""
            },
            "type": "choropleth"
           }
          ],
          "contour": [
           {
            "colorbar": {
             "outlinewidth": 0,
             "ticks": ""
            },
            "colorscale": [
             [
              0,
              "#0d0887"
             ],
             [
              0.1111111111111111,
              "#46039f"
             ],
             [
              0.2222222222222222,
              "#7201a8"
             ],
             [
              0.3333333333333333,
              "#9c179e"
             ],
             [
              0.4444444444444444,
              "#bd3786"
             ],
             [
              0.5555555555555556,
              "#d8576b"
             ],
             [
              0.6666666666666666,
              "#ed7953"
             ],
             [
              0.7777777777777778,
              "#fb9f3a"
             ],
             [
              0.8888888888888888,
              "#fdca26"
             ],
             [
              1,
              "#f0f921"
             ]
            ],
            "type": "contour"
           }
          ],
          "contourcarpet": [
           {
            "colorbar": {
             "outlinewidth": 0,
             "ticks": ""
            },
            "type": "contourcarpet"
           }
          ],
          "heatmap": [
           {
            "colorbar": {
             "outlinewidth": 0,
             "ticks": ""
            },
            "colorscale": [
             [
              0,
              "#0d0887"
             ],
             [
              0.1111111111111111,
              "#46039f"
             ],
             [
              0.2222222222222222,
              "#7201a8"
             ],
             [
              0.3333333333333333,
              "#9c179e"
             ],
             [
              0.4444444444444444,
              "#bd3786"
             ],
             [
              0.5555555555555556,
              "#d8576b"
             ],
             [
              0.6666666666666666,
              "#ed7953"
             ],
             [
              0.7777777777777778,
              "#fb9f3a"
             ],
             [
              0.8888888888888888,
              "#fdca26"
             ],
             [
              1,
              "#f0f921"
             ]
            ],
            "type": "heatmap"
           }
          ],
          "heatmapgl": [
           {
            "colorbar": {
             "outlinewidth": 0,
             "ticks": ""
            },
            "colorscale": [
             [
              0,
              "#0d0887"
             ],
             [
              0.1111111111111111,
              "#46039f"
             ],
             [
              0.2222222222222222,
              "#7201a8"
             ],
             [
              0.3333333333333333,
              "#9c179e"
             ],
             [
              0.4444444444444444,
              "#bd3786"
             ],
             [
              0.5555555555555556,
              "#d8576b"
             ],
             [
              0.6666666666666666,
              "#ed7953"
             ],
             [
              0.7777777777777778,
              "#fb9f3a"
             ],
             [
              0.8888888888888888,
              "#fdca26"
             ],
             [
              1,
              "#f0f921"
             ]
            ],
            "type": "heatmapgl"
           }
          ],
          "histogram": [
           {
            "marker": {
             "pattern": {
              "fillmode": "overlay",
              "size": 10,
              "solidity": 0.2
             }
            },
            "type": "histogram"
           }
          ],
          "histogram2d": [
           {
            "colorbar": {
             "outlinewidth": 0,
             "ticks": ""
            },
            "colorscale": [
             [
              0,
              "#0d0887"
             ],
             [
              0.1111111111111111,
              "#46039f"
             ],
             [
              0.2222222222222222,
              "#7201a8"
             ],
             [
              0.3333333333333333,
              "#9c179e"
             ],
             [
              0.4444444444444444,
              "#bd3786"
             ],
             [
              0.5555555555555556,
              "#d8576b"
             ],
             [
              0.6666666666666666,
              "#ed7953"
             ],
             [
              0.7777777777777778,
              "#fb9f3a"
             ],
             [
              0.8888888888888888,
              "#fdca26"
             ],
             [
              1,
              "#f0f921"
             ]
            ],
            "type": "histogram2d"
           }
          ],
          "histogram2dcontour": [
           {
            "colorbar": {
             "outlinewidth": 0,
             "ticks": ""
            },
            "colorscale": [
             [
              0,
              "#0d0887"
             ],
             [
              0.1111111111111111,
              "#46039f"
             ],
             [
              0.2222222222222222,
              "#7201a8"
             ],
             [
              0.3333333333333333,
              "#9c179e"
             ],
             [
              0.4444444444444444,
              "#bd3786"
             ],
             [
              0.5555555555555556,
              "#d8576b"
             ],
             [
              0.6666666666666666,
              "#ed7953"
             ],
             [
              0.7777777777777778,
              "#fb9f3a"
             ],
             [
              0.8888888888888888,
              "#fdca26"
             ],
             [
              1,
              "#f0f921"
             ]
            ],
            "type": "histogram2dcontour"
           }
          ],
          "mesh3d": [
           {
            "colorbar": {
             "outlinewidth": 0,
             "ticks": ""
            },
            "type": "mesh3d"
           }
          ],
          "parcoords": [
           {
            "line": {
             "colorbar": {
              "outlinewidth": 0,
              "ticks": ""
             }
            },
            "type": "parcoords"
           }
          ],
          "pie": [
           {
            "automargin": true,
            "type": "pie"
           }
          ],
          "scatter": [
           {
            "fillpattern": {
             "fillmode": "overlay",
             "size": 10,
             "solidity": 0.2
            },
            "type": "scatter"
           }
          ],
          "scatter3d": [
           {
            "line": {
             "colorbar": {
              "outlinewidth": 0,
              "ticks": ""
             }
            },
            "marker": {
             "colorbar": {
              "outlinewidth": 0,
              "ticks": ""
             }
            },
            "type": "scatter3d"
           }
          ],
          "scattercarpet": [
           {
            "marker": {
             "colorbar": {
              "outlinewidth": 0,
              "ticks": ""
             }
            },
            "type": "scattercarpet"
           }
          ],
          "scattergeo": [
           {
            "marker": {
             "colorbar": {
              "outlinewidth": 0,
              "ticks": ""
             }
            },
            "type": "scattergeo"
           }
          ],
          "scattergl": [
           {
            "marker": {
             "colorbar": {
              "outlinewidth": 0,
              "ticks": ""
             }
            },
            "type": "scattergl"
           }
          ],
          "scattermapbox": [
           {
            "marker": {
             "colorbar": {
              "outlinewidth": 0,
              "ticks": ""
             }
            },
            "type": "scattermapbox"
           }
          ],
          "scatterpolar": [
           {
            "marker": {
             "colorbar": {
              "outlinewidth": 0,
              "ticks": ""
             }
            },
            "type": "scatterpolar"
           }
          ],
          "scatterpolargl": [
           {
            "marker": {
             "colorbar": {
              "outlinewidth": 0,
              "ticks": ""
             }
            },
            "type": "scatterpolargl"
           }
          ],
          "scatterternary": [
           {
            "marker": {
             "colorbar": {
              "outlinewidth": 0,
              "ticks": ""
             }
            },
            "type": "scatterternary"
           }
          ],
          "surface": [
           {
            "colorbar": {
             "outlinewidth": 0,
             "ticks": ""
            },
            "colorscale": [
             [
              0,
              "#0d0887"
             ],
             [
              0.1111111111111111,
              "#46039f"
             ],
             [
              0.2222222222222222,
              "#7201a8"
             ],
             [
              0.3333333333333333,
              "#9c179e"
             ],
             [
              0.4444444444444444,
              "#bd3786"
             ],
             [
              0.5555555555555556,
              "#d8576b"
             ],
             [
              0.6666666666666666,
              "#ed7953"
             ],
             [
              0.7777777777777778,
              "#fb9f3a"
             ],
             [
              0.8888888888888888,
              "#fdca26"
             ],
             [
              1,
              "#f0f921"
             ]
            ],
            "type": "surface"
           }
          ],
          "table": [
           {
            "cells": {
             "fill": {
              "color": "#EBF0F8"
             },
             "line": {
              "color": "white"
             }
            },
            "header": {
             "fill": {
              "color": "#C8D4E3"
             },
             "line": {
              "color": "white"
             }
            },
            "type": "table"
           }
          ]
         },
         "layout": {
          "annotationdefaults": {
           "arrowcolor": "#2a3f5f",
           "arrowhead": 0,
           "arrowwidth": 1
          },
          "autotypenumbers": "strict",
          "coloraxis": {
           "colorbar": {
            "outlinewidth": 0,
            "ticks": ""
           }
          },
          "colorscale": {
           "diverging": [
            [
             0,
             "#8e0152"
            ],
            [
             0.1,
             "#c51b7d"
            ],
            [
             0.2,
             "#de77ae"
            ],
            [
             0.3,
             "#f1b6da"
            ],
            [
             0.4,
             "#fde0ef"
            ],
            [
             0.5,
             "#f7f7f7"
            ],
            [
             0.6,
             "#e6f5d0"
            ],
            [
             0.7,
             "#b8e186"
            ],
            [
             0.8,
             "#7fbc41"
            ],
            [
             0.9,
             "#4d9221"
            ],
            [
             1,
             "#276419"
            ]
           ],
           "sequential": [
            [
             0,
             "#0d0887"
            ],
            [
             0.1111111111111111,
             "#46039f"
            ],
            [
             0.2222222222222222,
             "#7201a8"
            ],
            [
             0.3333333333333333,
             "#9c179e"
            ],
            [
             0.4444444444444444,
             "#bd3786"
            ],
            [
             0.5555555555555556,
             "#d8576b"
            ],
            [
             0.6666666666666666,
             "#ed7953"
            ],
            [
             0.7777777777777778,
             "#fb9f3a"
            ],
            [
             0.8888888888888888,
             "#fdca26"
            ],
            [
             1,
             "#f0f921"
            ]
           ],
           "sequentialminus": [
            [
             0,
             "#0d0887"
            ],
            [
             0.1111111111111111,
             "#46039f"
            ],
            [
             0.2222222222222222,
             "#7201a8"
            ],
            [
             0.3333333333333333,
             "#9c179e"
            ],
            [
             0.4444444444444444,
             "#bd3786"
            ],
            [
             0.5555555555555556,
             "#d8576b"
            ],
            [
             0.6666666666666666,
             "#ed7953"
            ],
            [
             0.7777777777777778,
             "#fb9f3a"
            ],
            [
             0.8888888888888888,
             "#fdca26"
            ],
            [
             1,
             "#f0f921"
            ]
           ]
          },
          "colorway": [
           "#636efa",
           "#EF553B",
           "#00cc96",
           "#ab63fa",
           "#FFA15A",
           "#19d3f3",
           "#FF6692",
           "#B6E880",
           "#FF97FF",
           "#FECB52"
          ],
          "font": {
           "color": "#2a3f5f"
          },
          "geo": {
           "bgcolor": "white",
           "lakecolor": "white",
           "landcolor": "white",
           "showlakes": true,
           "showland": true,
           "subunitcolor": "#C8D4E3"
          },
          "hoverlabel": {
           "align": "left"
          },
          "hovermode": "closest",
          "mapbox": {
           "style": "light"
          },
          "paper_bgcolor": "white",
          "plot_bgcolor": "white",
          "polar": {
           "angularaxis": {
            "gridcolor": "#EBF0F8",
            "linecolor": "#EBF0F8",
            "ticks": ""
           },
           "bgcolor": "white",
           "radialaxis": {
            "gridcolor": "#EBF0F8",
            "linecolor": "#EBF0F8",
            "ticks": ""
           }
          },
          "scene": {
           "xaxis": {
            "backgroundcolor": "white",
            "gridcolor": "#DFE8F3",
            "gridwidth": 2,
            "linecolor": "#EBF0F8",
            "showbackground": true,
            "ticks": "",
            "zerolinecolor": "#EBF0F8"
           },
           "yaxis": {
            "backgroundcolor": "white",
            "gridcolor": "#DFE8F3",
            "gridwidth": 2,
            "linecolor": "#EBF0F8",
            "showbackground": true,
            "ticks": "",
            "zerolinecolor": "#EBF0F8"
           },
           "zaxis": {
            "backgroundcolor": "white",
            "gridcolor": "#DFE8F3",
            "gridwidth": 2,
            "linecolor": "#EBF0F8",
            "showbackground": true,
            "ticks": "",
            "zerolinecolor": "#EBF0F8"
           }
          },
          "shapedefaults": {
           "line": {
            "color": "#2a3f5f"
           }
          },
          "ternary": {
           "aaxis": {
            "gridcolor": "#DFE8F3",
            "linecolor": "#A2B1C6",
            "ticks": ""
           },
           "baxis": {
            "gridcolor": "#DFE8F3",
            "linecolor": "#A2B1C6",
            "ticks": ""
           },
           "bgcolor": "white",
           "caxis": {
            "gridcolor": "#DFE8F3",
            "linecolor": "#A2B1C6",
            "ticks": ""
           }
          },
          "title": {
           "x": 0.05
          },
          "xaxis": {
           "automargin": true,
           "gridcolor": "#EBF0F8",
           "linecolor": "#EBF0F8",
           "ticks": "",
           "title": {
            "standoff": 15
           },
           "zerolinecolor": "#EBF0F8",
           "zerolinewidth": 2
          },
          "yaxis": {
           "automargin": true,
           "gridcolor": "#EBF0F8",
           "linecolor": "#EBF0F8",
           "ticks": "",
           "title": {
            "standoff": 15
           },
           "zerolinecolor": "#EBF0F8",
           "zerolinewidth": 2
          }
         }
        },
        "title": {
         "text": "<b>Cumulitative Abnormal Return: Mean & 90% Confidence Limits</b><br><i>Based on 48 non-missing events"
        },
        "xaxis": {
         "title": {
          "text": "Day Relative to Event"
         }
        },
        "yaxis": {
         "tickformat": ",.1%",
         "title": {
          "text": "Return"
         }
        }
       }
      }
     },
     "metadata": {},
     "output_type": "display_data"
    }
   ],
   "source": [
    "# Plot graph with the results\n",
    "plot_mean_car(results_df, critical_value=0.9)"
   ]
  },
  {
   "cell_type": "markdown",
   "metadata": {},
   "source": [
    "### Pre-loading returns data"
   ]
  },
  {
   "cell_type": "code",
   "execution_count": null,
   "metadata": {},
   "outputs": [],
   "source": [
    "### One can explicitely load the returns data and to dump into a CSV file \n",
    "event_study.add_returns(\n",
    "    list_of_tickers=events_df['ticker'].unique(),\n",
    "    min_date=events_df['event_date'].min(),\n",
    "    max_date=events_df['event_date'].max()\n",
    ")\n",
    "event_study.returns_df.to_csv('returns_test_dump.csv', index=False)"
   ]
  },
  {
   "cell_type": "code",
   "execution_count": null,
   "metadata": {},
   "outputs": [],
   "source": [
    "# Then to reload it and initialize the event-study with pre-loaded returns\n",
    "event_study = EventStudy(\n",
    "    estimation_days=255,\n",
    "    gap_days=50,\n",
    "    window_after=10,\n",
    "    window_before=10,\n",
    "    min_estimation_days=100,\n",
    "    estimator_type='ff5'\n",
    ")\n",
    "event_study.add_returns(ret_df=pd.read_csv('returns_test_dump.csv'))\n",
    "\n",
    "# Run the study\n",
    "results_df = event_study.run_study(events_df)"
   ]
  },
  {
   "cell_type": "markdown",
   "metadata": {},
   "source": [
    "### Plotting two event study results together"
   ]
  },
  {
   "cell_type": "code",
   "execution_count": 25,
   "metadata": {},
   "outputs": [],
   "source": [
    "# Run first event study\n",
    "events_df_one = pd.read_csv('tests/test_one/input_events.csv')\n",
    "event_study_one = EventStudy(\n",
    "    estimation_days=255,\n",
    "    gap_days=50,\n",
    "    window_after=10,\n",
    "    window_before=10,\n",
    "    min_estimation_days=100,\n",
    "    estimator_type='ff5'\n",
    ")\n",
    "result_one = event_study_one.run_study(events_df_one)"
   ]
  },
  {
   "cell_type": "code",
   "execution_count": 27,
   "metadata": {},
   "outputs": [],
   "source": [
    "# Run second event study\n",
    "events_df_two = pd.read_csv('tests/test_two/input_events.csv')\n",
    "event_study_two = EventStudy(\n",
    "    estimation_days=255,\n",
    "    gap_days=50,\n",
    "    window_after=10,\n",
    "    window_before=10,\n",
    "    min_estimation_days=100,\n",
    "    estimator_type='ff5'\n",
    "    \n",
    ")\n",
    "result_two = event_study_two.run_study(events_df_two)"
   ]
  },
  {
   "cell_type": "code",
   "execution_count": 30,
   "metadata": {},
   "outputs": [
    {
     "data": {
      "application/vnd.plotly.v1+json": {
       "config": {
        "plotlyServerURL": "https://plot.ly"
       },
       "data": [
        {
         "legendgroup": "group2",
         "legendgrouptitle": {
          "text": "<b>Decrease</b> (49 events)"
         },
         "line": {
          "color": "rgb(0, 153, 0)"
         },
         "mode": "lines",
         "name": "Mean",
         "showlegend": true,
         "type": "scatter",
         "x": [
          -10,
          -9,
          -8,
          -7,
          -6,
          -5,
          -4,
          -3,
          -2,
          -1,
          0,
          1,
          2,
          3,
          4,
          5,
          6,
          7,
          8,
          9,
          10
         ],
         "y": [
          -0.002529749441964759,
          -0.0023523148290708474,
          -0.0005474158740793675,
          -0.0013828221150956645,
          -0.0002742085972234824,
          0.0007944937890455255,
          0.0014757685387808087,
          0.0034889752453816096,
          0.009047727444227813,
          0.011990361673199194,
          -0.08658422122475577,
          -0.08623053172427843,
          -0.09093618925008674,
          -0.09603535143549363,
          -0.09561617349022883,
          -0.09364282991284553,
          -0.09384651494615164,
          -0.09503183406608405,
          -0.09176438198066234,
          -0.0914962834613605,
          -0.09399708870120416
         ]
        },
        {
         "legendgroup": "group2",
         "legendgrouptitle": {
          "text": "<b>Decrease</b> (49 events)"
         },
         "line": {
          "color": "rgba(0, 153, 0, 0.5)",
          "dash": "dash",
          "width": 1
         },
         "mode": "lines",
         "name": "Mean + 1.96SE",
         "showlegend": true,
         "type": "scatter",
         "x": [
          -10,
          -9,
          -8,
          -7,
          -6,
          -5,
          -4,
          -3,
          -2,
          -1,
          0,
          1,
          2,
          3,
          4,
          5,
          6,
          7,
          8,
          9,
          10
         ],
         "y": [
          0.00269170528847535,
          0.00442893225522783,
          0.007714284560241835,
          0.008446014985038646,
          0.010481174671400426,
          0.011756193642384638,
          0.01269643885556126,
          0.018475746330915317,
          0.023618979236010584,
          0.027818186017121813,
          -0.06603320103527852,
          -0.06265715146473044,
          -0.06688472979023168,
          -0.07137999167779113,
          -0.07103040752742934,
          -0.06603032821267603,
          -0.06725759794084049,
          -0.06687109258723828,
          -0.06339421113256132,
          -0.06345937881574863,
          -0.06492253732982896
         ]
        },
        {
         "fill": "tonextx",
         "fillcolor": "rgba(0, 153, 0,0.1)",
         "legendgroup": "group2",
         "legendgrouptitle": {
          "text": "<b>Decrease</b> (49 events)"
         },
         "line": {
          "color": "rgba(0, 153, 0, 0.5)",
          "dash": "dash",
          "width": 1
         },
         "mode": "lines",
         "name": "ShadedArea",
         "showlegend": false,
         "type": "scatter",
         "x": [
          -10,
          -9,
          -8,
          -7,
          -6,
          -5,
          -4,
          -3,
          -2,
          -1,
          0,
          1,
          2,
          3,
          4,
          5,
          6,
          7,
          8,
          9,
          10
         ],
         "y": [
          -0.0077512041724048675,
          -0.009133561913369524,
          -0.00880911630840057,
          -0.011211659215229975,
          -0.01102959186584739,
          -0.010167206064293588,
          -0.009744901777999642,
          -0.011497795840152099,
          -0.005523524347554961,
          -0.003837462670723423,
          -0.10713524141423303,
          -0.10980391198382641,
          -0.11498764870994181,
          -0.12069071119319613,
          -0.12020193945302832,
          -0.12125533161301504,
          -0.12043543195146278,
          -0.12319257554492982,
          -0.12013455282876336,
          -0.11953318810697237,
          -0.12307164007257936
         ]
        },
        {
         "legendgroup": "group2",
         "legendgrouptitle": {
          "text": "<b>Decrease</b> (49 events)"
         },
         "line": {
          "color": "rgba(0, 153, 0, 0.5)",
          "dash": "dash",
          "width": 1
         },
         "mode": "lines",
         "name": "Mean - 1.96SE",
         "showlegend": true,
         "type": "scatter",
         "x": [
          -10,
          -9,
          -8,
          -7,
          -6,
          -5,
          -4,
          -3,
          -2,
          -1,
          0,
          1,
          2,
          3,
          4,
          5,
          6,
          7,
          8,
          9,
          10
         ],
         "y": [
          -0.0077512041724048675,
          -0.009133561913369524,
          -0.00880911630840057,
          -0.011211659215229975,
          -0.01102959186584739,
          -0.010167206064293588,
          -0.009744901777999642,
          -0.011497795840152099,
          -0.005523524347554961,
          -0.003837462670723423,
          -0.10713524141423303,
          -0.10980391198382641,
          -0.11498764870994181,
          -0.12069071119319613,
          -0.12020193945302832,
          -0.12125533161301504,
          -0.12043543195146278,
          -0.12319257554492982,
          -0.12013455282876336,
          -0.11953318810697237,
          -0.12307164007257936
         ]
        },
        {
         "legendgroup": "group1",
         "legendgrouptitle": {
          "text": "<b>Increase</b> (48 events)"
         },
         "line": {
          "color": "rgb(0, 0, 255)"
         },
         "mode": "lines",
         "name": "Mean",
         "showlegend": true,
         "type": "scatter",
         "x": [
          -10,
          -9,
          -8,
          -7,
          -6,
          -5,
          -4,
          -3,
          -2,
          -1,
          0,
          1,
          2,
          3,
          4,
          5,
          6,
          7,
          8,
          9,
          10
         ],
         "y": [
          -0.005118780907428779,
          -0.00691326392990289,
          -0.00891832153784702,
          -0.009971873773325961,
          -0.01450432760741961,
          -0.008354794100505452,
          -0.008014578346829525,
          -0.008249460077021696,
          -0.005907679670798507,
          -0.0058572520127919935,
          0.1996834538674387,
          0.19511310256413403,
          0.1931288509950244,
          0.19588946865759085,
          0.19591553728636502,
          0.1954781410289915,
          0.19831175327476414,
          0.19735671898537574,
          0.19684192547788074,
          0.19648654221617604,
          0.19438040627541017
         ]
        },
        {
         "legendgroup": "group1",
         "legendgrouptitle": {
          "text": "<b>Increase</b> (48 events)"
         },
         "line": {
          "color": "rgba(0, 0, 255, 0.5)",
          "dash": "dash",
          "width": 1
         },
         "mode": "lines",
         "name": "Mean + 1.96SE",
         "showlegend": true,
         "type": "scatter",
         "x": [
          -10,
          -9,
          -8,
          -7,
          -6,
          -5,
          -4,
          -3,
          -2,
          -1,
          0,
          1,
          2,
          3,
          4,
          5,
          6,
          7,
          8,
          9,
          10
         ],
         "y": [
          0.00016588334415033965,
          0.0007341408080761289,
          0.0028989997759475625,
          0.0036268705552150015,
          -0.000019794514071034067,
          0.00787735916516434,
          0.011237739117066669,
          0.011898472366399312,
          0.014351439628113551,
          0.01459907277605153,
          0.23185179410986612,
          0.2232922953182833,
          0.22407708342023597,
          0.2266740509948709,
          0.22559539708079304,
          0.22536401510937898,
          0.22654934079840316,
          0.22644625069996882,
          0.2263868388542008,
          0.22709823214193842,
          0.22559085740637605
         ]
        },
        {
         "fill": "tonextx",
         "fillcolor": "rgba(0, 0, 255,0.1)",
         "legendgroup": "group1",
         "legendgrouptitle": {
          "text": "<b>Increase</b> (48 events)"
         },
         "line": {
          "color": "rgba(0, 0, 255, 0.5)",
          "dash": "dash",
          "width": 1
         },
         "mode": "lines",
         "name": "ShadedArea",
         "showlegend": false,
         "type": "scatter",
         "x": [
          -10,
          -9,
          -8,
          -7,
          -6,
          -5,
          -4,
          -3,
          -2,
          -1,
          0,
          1,
          2,
          3,
          4,
          5,
          6,
          7,
          8,
          9,
          10
         ],
         "y": [
          -0.010403445159007898,
          -0.014560668667881908,
          -0.020735642851641603,
          -0.023570618101866926,
          -0.028988860700768185,
          -0.02458694736617524,
          -0.02726689581072572,
          -0.028397392520442703,
          -0.026166798969710563,
          -0.026313576801635517,
          0.16751511362501126,
          0.16693390980998477,
          0.1621806185698128,
          0.1651048863203108,
          0.166235677491937,
          0.16559226694860402,
          0.1700741657511251,
          0.16826718727078266,
          0.16729701210156067,
          0.16587485229041365,
          0.1631699551444443
         ]
        },
        {
         "legendgroup": "group1",
         "legendgrouptitle": {
          "text": "<b>Increase</b> (48 events)"
         },
         "line": {
          "color": "rgba(0, 0, 255, 0.5)",
          "dash": "dash",
          "width": 1
         },
         "mode": "lines",
         "name": "Mean - 1.96SE",
         "showlegend": true,
         "type": "scatter",
         "x": [
          -10,
          -9,
          -8,
          -7,
          -6,
          -5,
          -4,
          -3,
          -2,
          -1,
          0,
          1,
          2,
          3,
          4,
          5,
          6,
          7,
          8,
          9,
          10
         ],
         "y": [
          -0.010403445159007898,
          -0.014560668667881908,
          -0.020735642851641603,
          -0.023570618101866926,
          -0.028988860700768185,
          -0.02458694736617524,
          -0.02726689581072572,
          -0.028397392520442703,
          -0.026166798969710563,
          -0.026313576801635517,
          0.16751511362501126,
          0.16693390980998477,
          0.1621806185698128,
          0.1651048863203108,
          0.166235677491937,
          0.16559226694860402,
          0.1700741657511251,
          0.16826718727078266,
          0.16729701210156067,
          0.16587485229041365,
          0.1631699551444443
         ]
        }
       ],
       "layout": {
        "legend": {
         "entrywidth": 200,
         "orientation": "h",
         "tracegroupgap": 50,
         "traceorder": "grouped",
         "x": 0.55,
         "xanchor": "center",
         "y": -0.3
        },
        "shapes": [
         {
          "line": {
           "color": "rgba(0, 0,0, 0.5)",
           "width": 1
          },
          "type": "line",
          "x0": 0,
          "x1": 0,
          "xref": "x",
          "y0": 0,
          "y1": 1,
          "yref": "y domain"
         },
         {
          "line": {
           "color": "rgba(0, 0,0, 0.5)",
           "width": 1
          },
          "type": "line",
          "x0": 0,
          "x1": 1,
          "xref": "x domain",
          "y0": 0,
          "y1": 0,
          "yref": "y"
         }
        ],
        "template": {
         "data": {
          "bar": [
           {
            "error_x": {
             "color": "#2a3f5f"
            },
            "error_y": {
             "color": "#2a3f5f"
            },
            "marker": {
             "line": {
              "color": "white",
              "width": 0.5
             },
             "pattern": {
              "fillmode": "overlay",
              "size": 10,
              "solidity": 0.2
             }
            },
            "type": "bar"
           }
          ],
          "barpolar": [
           {
            "marker": {
             "line": {
              "color": "white",
              "width": 0.5
             },
             "pattern": {
              "fillmode": "overlay",
              "size": 10,
              "solidity": 0.2
             }
            },
            "type": "barpolar"
           }
          ],
          "carpet": [
           {
            "aaxis": {
             "endlinecolor": "#2a3f5f",
             "gridcolor": "#C8D4E3",
             "linecolor": "#C8D4E3",
             "minorgridcolor": "#C8D4E3",
             "startlinecolor": "#2a3f5f"
            },
            "baxis": {
             "endlinecolor": "#2a3f5f",
             "gridcolor": "#C8D4E3",
             "linecolor": "#C8D4E3",
             "minorgridcolor": "#C8D4E3",
             "startlinecolor": "#2a3f5f"
            },
            "type": "carpet"
           }
          ],
          "choropleth": [
           {
            "colorbar": {
             "outlinewidth": 0,
             "ticks": ""
            },
            "type": "choropleth"
           }
          ],
          "contour": [
           {
            "colorbar": {
             "outlinewidth": 0,
             "ticks": ""
            },
            "colorscale": [
             [
              0,
              "#0d0887"
             ],
             [
              0.1111111111111111,
              "#46039f"
             ],
             [
              0.2222222222222222,
              "#7201a8"
             ],
             [
              0.3333333333333333,
              "#9c179e"
             ],
             [
              0.4444444444444444,
              "#bd3786"
             ],
             [
              0.5555555555555556,
              "#d8576b"
             ],
             [
              0.6666666666666666,
              "#ed7953"
             ],
             [
              0.7777777777777778,
              "#fb9f3a"
             ],
             [
              0.8888888888888888,
              "#fdca26"
             ],
             [
              1,
              "#f0f921"
             ]
            ],
            "type": "contour"
           }
          ],
          "contourcarpet": [
           {
            "colorbar": {
             "outlinewidth": 0,
             "ticks": ""
            },
            "type": "contourcarpet"
           }
          ],
          "heatmap": [
           {
            "colorbar": {
             "outlinewidth": 0,
             "ticks": ""
            },
            "colorscale": [
             [
              0,
              "#0d0887"
             ],
             [
              0.1111111111111111,
              "#46039f"
             ],
             [
              0.2222222222222222,
              "#7201a8"
             ],
             [
              0.3333333333333333,
              "#9c179e"
             ],
             [
              0.4444444444444444,
              "#bd3786"
             ],
             [
              0.5555555555555556,
              "#d8576b"
             ],
             [
              0.6666666666666666,
              "#ed7953"
             ],
             [
              0.7777777777777778,
              "#fb9f3a"
             ],
             [
              0.8888888888888888,
              "#fdca26"
             ],
             [
              1,
              "#f0f921"
             ]
            ],
            "type": "heatmap"
           }
          ],
          "heatmapgl": [
           {
            "colorbar": {
             "outlinewidth": 0,
             "ticks": ""
            },
            "colorscale": [
             [
              0,
              "#0d0887"
             ],
             [
              0.1111111111111111,
              "#46039f"
             ],
             [
              0.2222222222222222,
              "#7201a8"
             ],
             [
              0.3333333333333333,
              "#9c179e"
             ],
             [
              0.4444444444444444,
              "#bd3786"
             ],
             [
              0.5555555555555556,
              "#d8576b"
             ],
             [
              0.6666666666666666,
              "#ed7953"
             ],
             [
              0.7777777777777778,
              "#fb9f3a"
             ],
             [
              0.8888888888888888,
              "#fdca26"
             ],
             [
              1,
              "#f0f921"
             ]
            ],
            "type": "heatmapgl"
           }
          ],
          "histogram": [
           {
            "marker": {
             "pattern": {
              "fillmode": "overlay",
              "size": 10,
              "solidity": 0.2
             }
            },
            "type": "histogram"
           }
          ],
          "histogram2d": [
           {
            "colorbar": {
             "outlinewidth": 0,
             "ticks": ""
            },
            "colorscale": [
             [
              0,
              "#0d0887"
             ],
             [
              0.1111111111111111,
              "#46039f"
             ],
             [
              0.2222222222222222,
              "#7201a8"
             ],
             [
              0.3333333333333333,
              "#9c179e"
             ],
             [
              0.4444444444444444,
              "#bd3786"
             ],
             [
              0.5555555555555556,
              "#d8576b"
             ],
             [
              0.6666666666666666,
              "#ed7953"
             ],
             [
              0.7777777777777778,
              "#fb9f3a"
             ],
             [
              0.8888888888888888,
              "#fdca26"
             ],
             [
              1,
              "#f0f921"
             ]
            ],
            "type": "histogram2d"
           }
          ],
          "histogram2dcontour": [
           {
            "colorbar": {
             "outlinewidth": 0,
             "ticks": ""
            },
            "colorscale": [
             [
              0,
              "#0d0887"
             ],
             [
              0.1111111111111111,
              "#46039f"
             ],
             [
              0.2222222222222222,
              "#7201a8"
             ],
             [
              0.3333333333333333,
              "#9c179e"
             ],
             [
              0.4444444444444444,
              "#bd3786"
             ],
             [
              0.5555555555555556,
              "#d8576b"
             ],
             [
              0.6666666666666666,
              "#ed7953"
             ],
             [
              0.7777777777777778,
              "#fb9f3a"
             ],
             [
              0.8888888888888888,
              "#fdca26"
             ],
             [
              1,
              "#f0f921"
             ]
            ],
            "type": "histogram2dcontour"
           }
          ],
          "mesh3d": [
           {
            "colorbar": {
             "outlinewidth": 0,
             "ticks": ""
            },
            "type": "mesh3d"
           }
          ],
          "parcoords": [
           {
            "line": {
             "colorbar": {
              "outlinewidth": 0,
              "ticks": ""
             }
            },
            "type": "parcoords"
           }
          ],
          "pie": [
           {
            "automargin": true,
            "type": "pie"
           }
          ],
          "scatter": [
           {
            "fillpattern": {
             "fillmode": "overlay",
             "size": 10,
             "solidity": 0.2
            },
            "type": "scatter"
           }
          ],
          "scatter3d": [
           {
            "line": {
             "colorbar": {
              "outlinewidth": 0,
              "ticks": ""
             }
            },
            "marker": {
             "colorbar": {
              "outlinewidth": 0,
              "ticks": ""
             }
            },
            "type": "scatter3d"
           }
          ],
          "scattercarpet": [
           {
            "marker": {
             "colorbar": {
              "outlinewidth": 0,
              "ticks": ""
             }
            },
            "type": "scattercarpet"
           }
          ],
          "scattergeo": [
           {
            "marker": {
             "colorbar": {
              "outlinewidth": 0,
              "ticks": ""
             }
            },
            "type": "scattergeo"
           }
          ],
          "scattergl": [
           {
            "marker": {
             "colorbar": {
              "outlinewidth": 0,
              "ticks": ""
             }
            },
            "type": "scattergl"
           }
          ],
          "scattermapbox": [
           {
            "marker": {
             "colorbar": {
              "outlinewidth": 0,
              "ticks": ""
             }
            },
            "type": "scattermapbox"
           }
          ],
          "scatterpolar": [
           {
            "marker": {
             "colorbar": {
              "outlinewidth": 0,
              "ticks": ""
             }
            },
            "type": "scatterpolar"
           }
          ],
          "scatterpolargl": [
           {
            "marker": {
             "colorbar": {
              "outlinewidth": 0,
              "ticks": ""
             }
            },
            "type": "scatterpolargl"
           }
          ],
          "scatterternary": [
           {
            "marker": {
             "colorbar": {
              "outlinewidth": 0,
              "ticks": ""
             }
            },
            "type": "scatterternary"
           }
          ],
          "surface": [
           {
            "colorbar": {
             "outlinewidth": 0,
             "ticks": ""
            },
            "colorscale": [
             [
              0,
              "#0d0887"
             ],
             [
              0.1111111111111111,
              "#46039f"
             ],
             [
              0.2222222222222222,
              "#7201a8"
             ],
             [
              0.3333333333333333,
              "#9c179e"
             ],
             [
              0.4444444444444444,
              "#bd3786"
             ],
             [
              0.5555555555555556,
              "#d8576b"
             ],
             [
              0.6666666666666666,
              "#ed7953"
             ],
             [
              0.7777777777777778,
              "#fb9f3a"
             ],
             [
              0.8888888888888888,
              "#fdca26"
             ],
             [
              1,
              "#f0f921"
             ]
            ],
            "type": "surface"
           }
          ],
          "table": [
           {
            "cells": {
             "fill": {
              "color": "#EBF0F8"
             },
             "line": {
              "color": "white"
             }
            },
            "header": {
             "fill": {
              "color": "#C8D4E3"
             },
             "line": {
              "color": "white"
             }
            },
            "type": "table"
           }
          ]
         },
         "layout": {
          "annotationdefaults": {
           "arrowcolor": "#2a3f5f",
           "arrowhead": 0,
           "arrowwidth": 1
          },
          "autotypenumbers": "strict",
          "coloraxis": {
           "colorbar": {
            "outlinewidth": 0,
            "ticks": ""
           }
          },
          "colorscale": {
           "diverging": [
            [
             0,
             "#8e0152"
            ],
            [
             0.1,
             "#c51b7d"
            ],
            [
             0.2,
             "#de77ae"
            ],
            [
             0.3,
             "#f1b6da"
            ],
            [
             0.4,
             "#fde0ef"
            ],
            [
             0.5,
             "#f7f7f7"
            ],
            [
             0.6,
             "#e6f5d0"
            ],
            [
             0.7,
             "#b8e186"
            ],
            [
             0.8,
             "#7fbc41"
            ],
            [
             0.9,
             "#4d9221"
            ],
            [
             1,
             "#276419"
            ]
           ],
           "sequential": [
            [
             0,
             "#0d0887"
            ],
            [
             0.1111111111111111,
             "#46039f"
            ],
            [
             0.2222222222222222,
             "#7201a8"
            ],
            [
             0.3333333333333333,
             "#9c179e"
            ],
            [
             0.4444444444444444,
             "#bd3786"
            ],
            [
             0.5555555555555556,
             "#d8576b"
            ],
            [
             0.6666666666666666,
             "#ed7953"
            ],
            [
             0.7777777777777778,
             "#fb9f3a"
            ],
            [
             0.8888888888888888,
             "#fdca26"
            ],
            [
             1,
             "#f0f921"
            ]
           ],
           "sequentialminus": [
            [
             0,
             "#0d0887"
            ],
            [
             0.1111111111111111,
             "#46039f"
            ],
            [
             0.2222222222222222,
             "#7201a8"
            ],
            [
             0.3333333333333333,
             "#9c179e"
            ],
            [
             0.4444444444444444,
             "#bd3786"
            ],
            [
             0.5555555555555556,
             "#d8576b"
            ],
            [
             0.6666666666666666,
             "#ed7953"
            ],
            [
             0.7777777777777778,
             "#fb9f3a"
            ],
            [
             0.8888888888888888,
             "#fdca26"
            ],
            [
             1,
             "#f0f921"
            ]
           ]
          },
          "colorway": [
           "#636efa",
           "#EF553B",
           "#00cc96",
           "#ab63fa",
           "#FFA15A",
           "#19d3f3",
           "#FF6692",
           "#B6E880",
           "#FF97FF",
           "#FECB52"
          ],
          "font": {
           "color": "#2a3f5f"
          },
          "geo": {
           "bgcolor": "white",
           "lakecolor": "white",
           "landcolor": "white",
           "showlakes": true,
           "showland": true,
           "subunitcolor": "#C8D4E3"
          },
          "hoverlabel": {
           "align": "left"
          },
          "hovermode": "closest",
          "mapbox": {
           "style": "light"
          },
          "paper_bgcolor": "white",
          "plot_bgcolor": "white",
          "polar": {
           "angularaxis": {
            "gridcolor": "#EBF0F8",
            "linecolor": "#EBF0F8",
            "ticks": ""
           },
           "bgcolor": "white",
           "radialaxis": {
            "gridcolor": "#EBF0F8",
            "linecolor": "#EBF0F8",
            "ticks": ""
           }
          },
          "scene": {
           "xaxis": {
            "backgroundcolor": "white",
            "gridcolor": "#DFE8F3",
            "gridwidth": 2,
            "linecolor": "#EBF0F8",
            "showbackground": true,
            "ticks": "",
            "zerolinecolor": "#EBF0F8"
           },
           "yaxis": {
            "backgroundcolor": "white",
            "gridcolor": "#DFE8F3",
            "gridwidth": 2,
            "linecolor": "#EBF0F8",
            "showbackground": true,
            "ticks": "",
            "zerolinecolor": "#EBF0F8"
           },
           "zaxis": {
            "backgroundcolor": "white",
            "gridcolor": "#DFE8F3",
            "gridwidth": 2,
            "linecolor": "#EBF0F8",
            "showbackground": true,
            "ticks": "",
            "zerolinecolor": "#EBF0F8"
           }
          },
          "shapedefaults": {
           "line": {
            "color": "#2a3f5f"
           }
          },
          "ternary": {
           "aaxis": {
            "gridcolor": "#DFE8F3",
            "linecolor": "#A2B1C6",
            "ticks": ""
           },
           "baxis": {
            "gridcolor": "#DFE8F3",
            "linecolor": "#A2B1C6",
            "ticks": ""
           },
           "bgcolor": "white",
           "caxis": {
            "gridcolor": "#DFE8F3",
            "linecolor": "#A2B1C6",
            "ticks": ""
           }
          },
          "title": {
           "x": 0.05
          },
          "xaxis": {
           "automargin": true,
           "gridcolor": "#EBF0F8",
           "linecolor": "#EBF0F8",
           "ticks": "",
           "title": {
            "standoff": 15
           },
           "zerolinecolor": "#EBF0F8",
           "zerolinewidth": 2
          },
          "yaxis": {
           "automargin": true,
           "gridcolor": "#EBF0F8",
           "linecolor": "#EBF0F8",
           "ticks": "",
           "title": {
            "standoff": 15
           },
           "zerolinecolor": "#EBF0F8",
           "zerolinewidth": 2
          }
         }
        },
        "title": {
         "text": "<b>Cumulitative Abnormal Return: Mean & 95% Confidence Limits</b><br>"
        },
        "xaxis": {
         "title": {
          "text": "Day Relative to Event"
         }
        },
        "yaxis": {
         "tickformat": ",.1%",
         "title": {
          "text": "Return"
         }
        }
       }
      }
     },
     "metadata": {},
     "output_type": "display_data"
    }
   ],
   "source": [
    "plot_joint_mean_car(\n",
    "    result_one, \n",
    "    result_two, \n",
    "    name_one='Increase', \n",
    "    name_two='Decrease')"
   ]
  }
 ],
 "metadata": {
  "kernelspec": {
   "display_name": "py39",
   "language": "python",
   "name": "python3"
  },
  "language_info": {
   "codemirror_mode": {
    "name": "ipython",
    "version": 3
   },
   "file_extension": ".py",
   "mimetype": "text/x-python",
   "name": "python",
   "nbconvert_exporter": "python",
   "pygments_lexer": "ipython3",
   "version": "3.9.15"
  }
 },
 "nbformat": 4,
 "nbformat_minor": 2
}
